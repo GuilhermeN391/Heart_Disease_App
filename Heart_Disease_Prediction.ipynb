{
  "nbformat": 4,
  "nbformat_minor": 0,
  "metadata": {
    "colab": {
      "provenance": [],
      "authorship_tag": "ABX9TyNJ0/ZLL1UR+h6wJsjA5eN9",
      "include_colab_link": true
    },
    "kernelspec": {
      "name": "python3",
      "display_name": "Python 3"
    },
    "language_info": {
      "name": "python"
    }
  },
  "cells": [
    {
      "cell_type": "markdown",
      "metadata": {
        "id": "view-in-github",
        "colab_type": "text"
      },
      "source": [
        "<a href=\"https://colab.research.google.com/github/GuilhermeN391/Heart_Disease_App/blob/main/Heart_Disease_Prediction.ipynb\" target=\"_parent\"><img src=\"https://colab.research.google.com/assets/colab-badge.svg\" alt=\"Open In Colab\"/></a>"
      ]
    },
    {
      "cell_type": "markdown",
      "source": [
        "# **Projeto de Detecção de propensão a Doença Cardíaca com PyTorch.**\n",
        "\n",
        "# **1° Projeto para a disciplina PPGEEC2318 - APRENDIZADO DE MÁQUINA.**\n",
        "\n",
        "# **Discente: Guilherme Nascimento da Silva.**\n",
        "\n",
        "\n",
        "---\n",
        "\n"
      ],
      "metadata": {
        "id": "PubGX1cdDyPT"
      }
    },
    {
      "cell_type": "markdown",
      "source": [
        "# **Importação das Bibliotecas necessárias**\n",
        "\n",
        "Bibliotecas utilizadas ao longo do desenvolvimento do modelo e armazenamento dos seus resultados."
      ],
      "metadata": {
        "id": "lGhsAEGVyjna"
      }
    },
    {
      "cell_type": "code",
      "source": [
        "!pip install wandb\n",
        "!pip install ydata-profiling\n",
        "!pip install pytest pytest-sugar"
      ],
      "metadata": {
        "id": "JcYmAoyQyjG5",
        "colab": {
          "base_uri": "https://localhost:8080/"
        },
        "outputId": "b90f04e5-df40-4c68-ad7a-58f6113d0f1f",
        "collapsed": true
      },
      "execution_count": 2,
      "outputs": [
        {
          "output_type": "stream",
          "name": "stdout",
          "text": [
            "Requirement already satisfied: wandb in /usr/local/lib/python3.11/dist-packages (0.19.11)\n",
            "Requirement already satisfied: click!=8.0.0,>=7.1 in /usr/local/lib/python3.11/dist-packages (from wandb) (8.1.8)\n",
            "Requirement already satisfied: docker-pycreds>=0.4.0 in /usr/local/lib/python3.11/dist-packages (from wandb) (0.4.0)\n",
            "Requirement already satisfied: gitpython!=3.1.29,>=1.0.0 in /usr/local/lib/python3.11/dist-packages (from wandb) (3.1.44)\n",
            "Requirement already satisfied: platformdirs in /usr/local/lib/python3.11/dist-packages (from wandb) (4.3.8)\n",
            "Requirement already satisfied: protobuf!=4.21.0,!=5.28.0,<7,>=3.19.0 in /usr/local/lib/python3.11/dist-packages (from wandb) (5.29.4)\n",
            "Requirement already satisfied: psutil>=5.0.0 in /usr/local/lib/python3.11/dist-packages (from wandb) (5.9.5)\n",
            "Requirement already satisfied: pydantic<3 in /usr/local/lib/python3.11/dist-packages (from wandb) (2.11.4)\n",
            "Requirement already satisfied: pyyaml in /usr/local/lib/python3.11/dist-packages (from wandb) (6.0.2)\n",
            "Requirement already satisfied: requests<3,>=2.0.0 in /usr/local/lib/python3.11/dist-packages (from wandb) (2.32.3)\n",
            "Requirement already satisfied: sentry-sdk>=2.0.0 in /usr/local/lib/python3.11/dist-packages (from wandb) (2.27.0)\n",
            "Requirement already satisfied: setproctitle in /usr/local/lib/python3.11/dist-packages (from wandb) (1.3.6)\n",
            "Requirement already satisfied: setuptools in /usr/local/lib/python3.11/dist-packages (from wandb) (75.2.0)\n",
            "Requirement already satisfied: typing-extensions<5,>=4.4 in /usr/local/lib/python3.11/dist-packages (from wandb) (4.13.2)\n",
            "Requirement already satisfied: six>=1.4.0 in /usr/local/lib/python3.11/dist-packages (from docker-pycreds>=0.4.0->wandb) (1.17.0)\n",
            "Requirement already satisfied: gitdb<5,>=4.0.1 in /usr/local/lib/python3.11/dist-packages (from gitpython!=3.1.29,>=1.0.0->wandb) (4.0.12)\n",
            "Requirement already satisfied: annotated-types>=0.6.0 in /usr/local/lib/python3.11/dist-packages (from pydantic<3->wandb) (0.7.0)\n",
            "Requirement already satisfied: pydantic-core==2.33.2 in /usr/local/lib/python3.11/dist-packages (from pydantic<3->wandb) (2.33.2)\n",
            "Requirement already satisfied: typing-inspection>=0.4.0 in /usr/local/lib/python3.11/dist-packages (from pydantic<3->wandb) (0.4.0)\n",
            "Requirement already satisfied: charset-normalizer<4,>=2 in /usr/local/lib/python3.11/dist-packages (from requests<3,>=2.0.0->wandb) (3.4.2)\n",
            "Requirement already satisfied: idna<4,>=2.5 in /usr/local/lib/python3.11/dist-packages (from requests<3,>=2.0.0->wandb) (3.10)\n",
            "Requirement already satisfied: urllib3<3,>=1.21.1 in /usr/local/lib/python3.11/dist-packages (from requests<3,>=2.0.0->wandb) (2.4.0)\n",
            "Requirement already satisfied: certifi>=2017.4.17 in /usr/local/lib/python3.11/dist-packages (from requests<3,>=2.0.0->wandb) (2025.4.26)\n",
            "Requirement already satisfied: smmap<6,>=3.0.1 in /usr/local/lib/python3.11/dist-packages (from gitdb<5,>=4.0.1->gitpython!=3.1.29,>=1.0.0->wandb) (5.0.2)\n",
            "Collecting ydata-profiling\n",
            "  Downloading ydata_profiling-4.16.1-py2.py3-none-any.whl.metadata (22 kB)\n",
            "Requirement already satisfied: scipy<1.16,>=1.4.1 in /usr/local/lib/python3.11/dist-packages (from ydata-profiling) (1.15.3)\n",
            "Requirement already satisfied: pandas!=1.4.0,<3.0,>1.1 in /usr/local/lib/python3.11/dist-packages (from ydata-profiling) (2.2.2)\n",
            "Requirement already satisfied: matplotlib<=3.10,>=3.5 in /usr/local/lib/python3.11/dist-packages (from ydata-profiling) (3.10.0)\n",
            "Requirement already satisfied: pydantic>=2 in /usr/local/lib/python3.11/dist-packages (from ydata-profiling) (2.11.4)\n",
            "Requirement already satisfied: PyYAML<6.1,>=5.0.0 in /usr/local/lib/python3.11/dist-packages (from ydata-profiling) (6.0.2)\n",
            "Requirement already satisfied: jinja2<3.2,>=2.11.1 in /usr/local/lib/python3.11/dist-packages (from ydata-profiling) (3.1.6)\n",
            "Collecting visions<0.8.2,>=0.7.5 (from visions[type_image_path]<0.8.2,>=0.7.5->ydata-profiling)\n",
            "  Downloading visions-0.8.1-py3-none-any.whl.metadata (11 kB)\n",
            "Requirement already satisfied: numpy<2.2,>=1.16.0 in /usr/local/lib/python3.11/dist-packages (from ydata-profiling) (2.0.2)\n",
            "Collecting htmlmin==0.1.12 (from ydata-profiling)\n",
            "  Downloading htmlmin-0.1.12.tar.gz (19 kB)\n",
            "  Preparing metadata (setup.py) ... \u001b[?25l\u001b[?25hdone\n",
            "Collecting phik<0.13,>=0.11.1 (from ydata-profiling)\n",
            "  Downloading phik-0.12.4-cp311-cp311-manylinux_2_17_x86_64.manylinux2014_x86_64.whl.metadata (5.6 kB)\n",
            "Requirement already satisfied: requests<3,>=2.24.0 in /usr/local/lib/python3.11/dist-packages (from ydata-profiling) (2.32.3)\n",
            "Requirement already satisfied: tqdm<5,>=4.48.2 in /usr/local/lib/python3.11/dist-packages (from ydata-profiling) (4.67.1)\n",
            "Requirement already satisfied: seaborn<0.14,>=0.10.1 in /usr/local/lib/python3.11/dist-packages (from ydata-profiling) (0.13.2)\n",
            "Collecting multimethod<2,>=1.4 (from ydata-profiling)\n",
            "  Downloading multimethod-1.12-py3-none-any.whl.metadata (9.6 kB)\n",
            "Requirement already satisfied: statsmodels<1,>=0.13.2 in /usr/local/lib/python3.11/dist-packages (from ydata-profiling) (0.14.4)\n",
            "Requirement already satisfied: typeguard<5,>=3 in /usr/local/lib/python3.11/dist-packages (from ydata-profiling) (4.4.2)\n",
            "Collecting imagehash==4.3.1 (from ydata-profiling)\n",
            "  Downloading ImageHash-4.3.1-py2.py3-none-any.whl.metadata (8.0 kB)\n",
            "Requirement already satisfied: wordcloud>=1.9.3 in /usr/local/lib/python3.11/dist-packages (from ydata-profiling) (1.9.4)\n",
            "Collecting dacite>=1.8 (from ydata-profiling)\n",
            "  Downloading dacite-1.9.2-py3-none-any.whl.metadata (17 kB)\n",
            "Requirement already satisfied: numba<=0.61,>=0.56.0 in /usr/local/lib/python3.11/dist-packages (from ydata-profiling) (0.60.0)\n",
            "Requirement already satisfied: PyWavelets in /usr/local/lib/python3.11/dist-packages (from imagehash==4.3.1->ydata-profiling) (1.8.0)\n",
            "Requirement already satisfied: pillow in /usr/local/lib/python3.11/dist-packages (from imagehash==4.3.1->ydata-profiling) (11.2.1)\n",
            "Requirement already satisfied: MarkupSafe>=2.0 in /usr/local/lib/python3.11/dist-packages (from jinja2<3.2,>=2.11.1->ydata-profiling) (3.0.2)\n",
            "Requirement already satisfied: contourpy>=1.0.1 in /usr/local/lib/python3.11/dist-packages (from matplotlib<=3.10,>=3.5->ydata-profiling) (1.3.2)\n",
            "Requirement already satisfied: cycler>=0.10 in /usr/local/lib/python3.11/dist-packages (from matplotlib<=3.10,>=3.5->ydata-profiling) (0.12.1)\n",
            "Requirement already satisfied: fonttools>=4.22.0 in /usr/local/lib/python3.11/dist-packages (from matplotlib<=3.10,>=3.5->ydata-profiling) (4.57.0)\n",
            "Requirement already satisfied: kiwisolver>=1.3.1 in /usr/local/lib/python3.11/dist-packages (from matplotlib<=3.10,>=3.5->ydata-profiling) (1.4.8)\n",
            "Requirement already satisfied: packaging>=20.0 in /usr/local/lib/python3.11/dist-packages (from matplotlib<=3.10,>=3.5->ydata-profiling) (24.2)\n",
            "Requirement already satisfied: pyparsing>=2.3.1 in /usr/local/lib/python3.11/dist-packages (from matplotlib<=3.10,>=3.5->ydata-profiling) (3.2.3)\n",
            "Requirement already satisfied: python-dateutil>=2.7 in /usr/local/lib/python3.11/dist-packages (from matplotlib<=3.10,>=3.5->ydata-profiling) (2.9.0.post0)\n",
            "Requirement already satisfied: llvmlite<0.44,>=0.43.0dev0 in /usr/local/lib/python3.11/dist-packages (from numba<=0.61,>=0.56.0->ydata-profiling) (0.43.0)\n",
            "Requirement already satisfied: pytz>=2020.1 in /usr/local/lib/python3.11/dist-packages (from pandas!=1.4.0,<3.0,>1.1->ydata-profiling) (2025.2)\n",
            "Requirement already satisfied: tzdata>=2022.7 in /usr/local/lib/python3.11/dist-packages (from pandas!=1.4.0,<3.0,>1.1->ydata-profiling) (2025.2)\n",
            "Requirement already satisfied: joblib>=0.14.1 in /usr/local/lib/python3.11/dist-packages (from phik<0.13,>=0.11.1->ydata-profiling) (1.5.0)\n",
            "Requirement already satisfied: annotated-types>=0.6.0 in /usr/local/lib/python3.11/dist-packages (from pydantic>=2->ydata-profiling) (0.7.0)\n",
            "Requirement already satisfied: pydantic-core==2.33.2 in /usr/local/lib/python3.11/dist-packages (from pydantic>=2->ydata-profiling) (2.33.2)\n",
            "Requirement already satisfied: typing-extensions>=4.12.2 in /usr/local/lib/python3.11/dist-packages (from pydantic>=2->ydata-profiling) (4.13.2)\n",
            "Requirement already satisfied: typing-inspection>=0.4.0 in /usr/local/lib/python3.11/dist-packages (from pydantic>=2->ydata-profiling) (0.4.0)\n",
            "Requirement already satisfied: charset-normalizer<4,>=2 in /usr/local/lib/python3.11/dist-packages (from requests<3,>=2.24.0->ydata-profiling) (3.4.2)\n",
            "Requirement already satisfied: idna<4,>=2.5 in /usr/local/lib/python3.11/dist-packages (from requests<3,>=2.24.0->ydata-profiling) (3.10)\n",
            "Requirement already satisfied: urllib3<3,>=1.21.1 in /usr/local/lib/python3.11/dist-packages (from requests<3,>=2.24.0->ydata-profiling) (2.4.0)\n",
            "Requirement already satisfied: certifi>=2017.4.17 in /usr/local/lib/python3.11/dist-packages (from requests<3,>=2.24.0->ydata-profiling) (2025.4.26)\n",
            "Requirement already satisfied: patsy>=0.5.6 in /usr/local/lib/python3.11/dist-packages (from statsmodels<1,>=0.13.2->ydata-profiling) (1.0.1)\n",
            "Requirement already satisfied: attrs>=19.3.0 in /usr/local/lib/python3.11/dist-packages (from visions<0.8.2,>=0.7.5->visions[type_image_path]<0.8.2,>=0.7.5->ydata-profiling) (25.3.0)\n",
            "Requirement already satisfied: networkx>=2.4 in /usr/local/lib/python3.11/dist-packages (from visions<0.8.2,>=0.7.5->visions[type_image_path]<0.8.2,>=0.7.5->ydata-profiling) (3.4.2)\n",
            "Collecting puremagic (from visions<0.8.2,>=0.7.5->visions[type_image_path]<0.8.2,>=0.7.5->ydata-profiling)\n",
            "  Downloading puremagic-1.29-py3-none-any.whl.metadata (5.8 kB)\n",
            "Requirement already satisfied: six>=1.5 in /usr/local/lib/python3.11/dist-packages (from python-dateutil>=2.7->matplotlib<=3.10,>=3.5->ydata-profiling) (1.17.0)\n",
            "Downloading ydata_profiling-4.16.1-py2.py3-none-any.whl (400 kB)\n",
            "\u001b[2K   \u001b[90m━━━━━━━━━━━━━━━━━━━━━━━━━━━━━━━━━━━━━━━━\u001b[0m \u001b[32m400.1/400.1 kB\u001b[0m \u001b[31m12.4 MB/s\u001b[0m eta \u001b[36m0:00:00\u001b[0m\n",
            "\u001b[?25hDownloading ImageHash-4.3.1-py2.py3-none-any.whl (296 kB)\n",
            "\u001b[2K   \u001b[90m━━━━━━━━━━━━━━━━━━━━━━━━━━━━━━━━━━━━━━━━\u001b[0m \u001b[32m296.5/296.5 kB\u001b[0m \u001b[31m21.7 MB/s\u001b[0m eta \u001b[36m0:00:00\u001b[0m\n",
            "\u001b[?25hDownloading dacite-1.9.2-py3-none-any.whl (16 kB)\n",
            "Downloading multimethod-1.12-py3-none-any.whl (10 kB)\n",
            "Downloading phik-0.12.4-cp311-cp311-manylinux_2_17_x86_64.manylinux2014_x86_64.whl (687 kB)\n",
            "\u001b[2K   \u001b[90m━━━━━━━━━━━━━━━━━━━━━━━━━━━━━━━━━━━━━━━━\u001b[0m \u001b[32m687.8/687.8 kB\u001b[0m \u001b[31m39.3 MB/s\u001b[0m eta \u001b[36m0:00:00\u001b[0m\n",
            "\u001b[?25hDownloading visions-0.8.1-py3-none-any.whl (105 kB)\n",
            "\u001b[2K   \u001b[90m━━━━━━━━━━━━━━━━━━━━━━━━━━━━━━━━━━━━━━━━\u001b[0m \u001b[32m105.4/105.4 kB\u001b[0m \u001b[31m8.2 MB/s\u001b[0m eta \u001b[36m0:00:00\u001b[0m\n",
            "\u001b[?25hDownloading puremagic-1.29-py3-none-any.whl (43 kB)\n",
            "\u001b[2K   \u001b[90m━━━━━━━━━━━━━━━━━━━━━━━━━━━━━━━━━━━━━━━━\u001b[0m \u001b[32m43.3/43.3 kB\u001b[0m \u001b[31m3.3 MB/s\u001b[0m eta \u001b[36m0:00:00\u001b[0m\n",
            "\u001b[?25hBuilding wheels for collected packages: htmlmin\n",
            "  Building wheel for htmlmin (setup.py) ... \u001b[?25l\u001b[?25hdone\n",
            "  Created wheel for htmlmin: filename=htmlmin-0.1.12-py3-none-any.whl size=27081 sha256=6d7283f5436cd88d6c21ffb41d05f06b41a93f85c5fb9f99083d82f64d4b1687\n",
            "  Stored in directory: /root/.cache/pip/wheels/8d/55/1a/19cd535375ed1ede0c996405ebffe34b196d78e2d9545723a2\n",
            "Successfully built htmlmin\n",
            "Installing collected packages: puremagic, htmlmin, multimethod, dacite, imagehash, visions, phik, ydata-profiling\n",
            "Successfully installed dacite-1.9.2 htmlmin-0.1.12 imagehash-4.3.1 multimethod-1.12 phik-0.12.4 puremagic-1.29 visions-0.8.1 ydata-profiling-4.16.1\n",
            "Requirement already satisfied: pytest in /usr/local/lib/python3.11/dist-packages (8.3.5)\n",
            "Collecting pytest-sugar\n",
            "  Downloading pytest_sugar-1.0.0-py3-none-any.whl.metadata (4.4 kB)\n",
            "Requirement already satisfied: iniconfig in /usr/local/lib/python3.11/dist-packages (from pytest) (2.1.0)\n",
            "Requirement already satisfied: packaging in /usr/local/lib/python3.11/dist-packages (from pytest) (24.2)\n",
            "Requirement already satisfied: pluggy<2,>=1.5 in /usr/local/lib/python3.11/dist-packages (from pytest) (1.5.0)\n",
            "Requirement already satisfied: termcolor>=2.1.0 in /usr/local/lib/python3.11/dist-packages (from pytest-sugar) (3.1.0)\n",
            "Downloading pytest_sugar-1.0.0-py3-none-any.whl (10 kB)\n",
            "Installing collected packages: pytest-sugar\n",
            "Successfully installed pytest-sugar-1.0.0\n"
          ]
        }
      ]
    },
    {
      "cell_type": "code",
      "source": [
        "import wandb\n",
        "import pandas as pd\n",
        "import matplotlib.pyplot as plt\n",
        "import seaborn as sns\n",
        "import pandas as pd\n",
        "import numpy as np\n",
        "from ydata_profiling import ProfileReport\n",
        "import tempfile\n",
        "import os\n",
        "import datetime\n",
        "import torch\n",
        "import matplotlib.pyplot as plt\n",
        "from torch.utils.data import Dataset, TensorDataset, DataLoader\n",
        "from torch.utils.data.dataset import random_split\n",
        "import torch.optim as optim\n",
        "import torch.nn as nn\n",
        "from sklearn.datasets import make_moons\n",
        "from sklearn.preprocessing import StandardScaler\n",
        "from sklearn.model_selection import train_test_split\n",
        "from sklearn.metrics import confusion_matrix, roc_curve, precision_recall_curve, auc, roc_auc_score\n",
        "from matplotlib.colors import ListedColormap\n",
        "from sklearn.metrics import accuracy_score\n",
        "from sklearn.base import BaseEstimator, TransformerMixin\n",
        "from sklearn.preprocessing import MinMaxScaler\n",
        "from sklearn.preprocessing import OneHotEncoder\n",
        "from sklearn.pipeline import Pipeline, FeatureUnion\n",
        "from sklearn.impute import SimpleImputer\n",
        "import glob\n",
        "import os\n",
        "import wandb\n",
        "import joblib\n",
        "import logging"
      ],
      "metadata": {
        "id": "7sYd2vhryvWT",
        "colab": {
          "base_uri": "https://localhost:8080/",
          "height": 64
        },
        "outputId": "de777292-3231-48df-9c28-08784ed32c21"
      },
      "execution_count": 3,
      "outputs": [
        {
          "output_type": "display_data",
          "data": {
            "text/plain": [
              "<IPython.core.display.HTML object>"
            ],
            "text/html": [
              "\n",
              "            <div>\n",
              "                <ins><a href=\"https://ydata.ai/register\">Upgrade to ydata-sdk</a></ins>\n",
              "                <p>\n",
              "                    Improve your data and profiling with ydata-sdk, featuring data quality scoring, redundancy detection, outlier identification, text validation, and synthetic data generation.\n",
              "                </p>\n",
              "            </div>\n",
              "            "
            ]
          },
          "metadata": {}
        }
      ]
    },
    {
      "cell_type": "markdown",
      "source": [
        "# **Análise Exploratória dos Dados (EDA)**\n",
        "Compreender a distribuição dos dados, se há classes\n",
        "desbalanceadas, estatística das variáveis.\n",
        "\n",
        "\n",
        "\n",
        "**O projeto escolhido foi o Heart Disaese App do Github user** *maxim-eyengue*\n",
        "\n",
        "[Link do repositório](https://github.com/maxim-eyengue/Heart-Disease-App)\n",
        "\n"
      ],
      "metadata": {
        "id": "RAHfNaDS-k1S"
      }
    },
    {
      "cell_type": "markdown",
      "source": [
        "## **Carregamento dos dados**\n",
        "\n",
        "Armazenamento no wandb no projeto \"Heart_Disease\""
      ],
      "metadata": {
        "id": "UDY_LR9ZLe4W"
      }
    },
    {
      "cell_type": "markdown",
      "source": [
        "Features Description:\n",
        "*   **age**: age of the patient [years: Numeric]\n",
        "*   **sex**: gender of the patient [1: Male, 0: Female]\n",
        "*   **cp**: chest pain type [0: Typical Angina, 1: Atypical Angina, 2: Non-Anginal Pain, 3: Asymptomatic]\n",
        "*   **trestbps**: resting blood pressure [mm Hg: Numeric]\n",
        "*   **chol**: serum cholesterol level [mg/dl: Numeric]\n",
        "*   **fbs**: fasting blood sugar [1: if fasting blood sugar > 120 mg/dl, 0: otherwise]\n",
        "*   **restecg**: resting electrocardiographic results [0: Normal, 1: having ST-T wave abnormality (T wave inversions and/or ST elevation or depression of > 0.05 mV), 2: showing probable or definite left ventricular hypertrophy by Estes' criteria]\n",
        "*   **thalach**: maximum heart rate achieved [Numeric value between 60 and 202]\n",
        "*   **exang**: exercise-induced angina [1: Yes, 0: No]\n",
        "*   **oldpeak**: ST depression induced by exercise relative to rest [Numeric value measured in depression]\n",
        "*   **slope**: slope of the peak exercise ST segment [0: Upsloping, 1: Flat, 2: Downsloping]\n",
        "*   **ca**: number (0-3) of major vessels (arteries, veins, and capillaries) colored by fluoroscopy [0, 1, 2, 3]\n",
        "*   **thal**: Thalassemia types [1: Normal, 2: Fixed defect, 3: Reversible defect]\n",
        "*   **target**: outcome variable for heart attack risk [1: disease or more chance of heart attack, 0: normal or less chance of heart attack]\n",
        "\n",
        "\n"
      ],
      "metadata": {
        "id": "rcD1RuhoUk7L"
      }
    },
    {
      "cell_type": "code",
      "source": [
        "# Colunas utilizadas\n",
        "columns = ['age', 'sex', 'cp', 'trestbps', 'chol',\n",
        "           'fbs', 'restecg', 'thalachh', 'exang',\n",
        "           'oldpeak','slope','ca', 'thal', 'target']\n",
        "# Importação do Dataset\n",
        "income = pd.read_csv(\"https://raw.githubusercontent.com/maxim-eyengue/Heart-Disease-App/03add8ca4ceb193042893c3a1bffe9c65b5f7cbd/data/raw_merged_heart_dataset.csv\",\n",
        "                   header=None,\n",
        "                   names=columns,\n",
        "                   skiprows=1 # Ignora a primeira linha, que não possui dados\n",
        "                   )\n",
        "income.head()"
      ],
      "metadata": {
        "id": "-3tZt2XfFBz7",
        "colab": {
          "base_uri": "https://localhost:8080/",
          "height": 206
        },
        "outputId": "65f15e95-3bc2-4049-fdb9-6537abd6dc1d"
      },
      "execution_count": 10,
      "outputs": [
        {
          "output_type": "execute_result",
          "data": {
            "text/plain": [
              "   age  sex  cp trestbps chol fbs restecg thalachh exang  oldpeak slope ca  \\\n",
              "0   63    1   3      145  233   1       0      150     0      2.3     0  0   \n",
              "1   37    1   2      130  250   0       1      187     0      3.5     0  0   \n",
              "2   41    0   1      130  204   0       0      172     0      1.4     2  0   \n",
              "3   56    1   1      120  236   0       1      178     0      0.8     2  0   \n",
              "4   57    0   0      120  354   0       1      163     1      0.6     2  0   \n",
              "\n",
              "  thal  target  \n",
              "0    1       1  \n",
              "1    2       1  \n",
              "2    2       1  \n",
              "3    2       1  \n",
              "4    2       1  "
            ],
            "text/html": [
              "\n",
              "  <div id=\"df-52aa4359-086e-4fe6-b938-fd4df424457e\" class=\"colab-df-container\">\n",
              "    <div>\n",
              "<style scoped>\n",
              "    .dataframe tbody tr th:only-of-type {\n",
              "        vertical-align: middle;\n",
              "    }\n",
              "\n",
              "    .dataframe tbody tr th {\n",
              "        vertical-align: top;\n",
              "    }\n",
              "\n",
              "    .dataframe thead th {\n",
              "        text-align: right;\n",
              "    }\n",
              "</style>\n",
              "<table border=\"1\" class=\"dataframe\">\n",
              "  <thead>\n",
              "    <tr style=\"text-align: right;\">\n",
              "      <th></th>\n",
              "      <th>age</th>\n",
              "      <th>sex</th>\n",
              "      <th>cp</th>\n",
              "      <th>trestbps</th>\n",
              "      <th>chol</th>\n",
              "      <th>fbs</th>\n",
              "      <th>restecg</th>\n",
              "      <th>thalachh</th>\n",
              "      <th>exang</th>\n",
              "      <th>oldpeak</th>\n",
              "      <th>slope</th>\n",
              "      <th>ca</th>\n",
              "      <th>thal</th>\n",
              "      <th>target</th>\n",
              "    </tr>\n",
              "  </thead>\n",
              "  <tbody>\n",
              "    <tr>\n",
              "      <th>0</th>\n",
              "      <td>63</td>\n",
              "      <td>1</td>\n",
              "      <td>3</td>\n",
              "      <td>145</td>\n",
              "      <td>233</td>\n",
              "      <td>1</td>\n",
              "      <td>0</td>\n",
              "      <td>150</td>\n",
              "      <td>0</td>\n",
              "      <td>2.3</td>\n",
              "      <td>0</td>\n",
              "      <td>0</td>\n",
              "      <td>1</td>\n",
              "      <td>1</td>\n",
              "    </tr>\n",
              "    <tr>\n",
              "      <th>1</th>\n",
              "      <td>37</td>\n",
              "      <td>1</td>\n",
              "      <td>2</td>\n",
              "      <td>130</td>\n",
              "      <td>250</td>\n",
              "      <td>0</td>\n",
              "      <td>1</td>\n",
              "      <td>187</td>\n",
              "      <td>0</td>\n",
              "      <td>3.5</td>\n",
              "      <td>0</td>\n",
              "      <td>0</td>\n",
              "      <td>2</td>\n",
              "      <td>1</td>\n",
              "    </tr>\n",
              "    <tr>\n",
              "      <th>2</th>\n",
              "      <td>41</td>\n",
              "      <td>0</td>\n",
              "      <td>1</td>\n",
              "      <td>130</td>\n",
              "      <td>204</td>\n",
              "      <td>0</td>\n",
              "      <td>0</td>\n",
              "      <td>172</td>\n",
              "      <td>0</td>\n",
              "      <td>1.4</td>\n",
              "      <td>2</td>\n",
              "      <td>0</td>\n",
              "      <td>2</td>\n",
              "      <td>1</td>\n",
              "    </tr>\n",
              "    <tr>\n",
              "      <th>3</th>\n",
              "      <td>56</td>\n",
              "      <td>1</td>\n",
              "      <td>1</td>\n",
              "      <td>120</td>\n",
              "      <td>236</td>\n",
              "      <td>0</td>\n",
              "      <td>1</td>\n",
              "      <td>178</td>\n",
              "      <td>0</td>\n",
              "      <td>0.8</td>\n",
              "      <td>2</td>\n",
              "      <td>0</td>\n",
              "      <td>2</td>\n",
              "      <td>1</td>\n",
              "    </tr>\n",
              "    <tr>\n",
              "      <th>4</th>\n",
              "      <td>57</td>\n",
              "      <td>0</td>\n",
              "      <td>0</td>\n",
              "      <td>120</td>\n",
              "      <td>354</td>\n",
              "      <td>0</td>\n",
              "      <td>1</td>\n",
              "      <td>163</td>\n",
              "      <td>1</td>\n",
              "      <td>0.6</td>\n",
              "      <td>2</td>\n",
              "      <td>0</td>\n",
              "      <td>2</td>\n",
              "      <td>1</td>\n",
              "    </tr>\n",
              "  </tbody>\n",
              "</table>\n",
              "</div>\n",
              "    <div class=\"colab-df-buttons\">\n",
              "\n",
              "  <div class=\"colab-df-container\">\n",
              "    <button class=\"colab-df-convert\" onclick=\"convertToInteractive('df-52aa4359-086e-4fe6-b938-fd4df424457e')\"\n",
              "            title=\"Convert this dataframe to an interactive table.\"\n",
              "            style=\"display:none;\">\n",
              "\n",
              "  <svg xmlns=\"http://www.w3.org/2000/svg\" height=\"24px\" viewBox=\"0 -960 960 960\">\n",
              "    <path d=\"M120-120v-720h720v720H120Zm60-500h600v-160H180v160Zm220 220h160v-160H400v160Zm0 220h160v-160H400v160ZM180-400h160v-160H180v160Zm440 0h160v-160H620v160ZM180-180h160v-160H180v160Zm440 0h160v-160H620v160Z\"/>\n",
              "  </svg>\n",
              "    </button>\n",
              "\n",
              "  <style>\n",
              "    .colab-df-container {\n",
              "      display:flex;\n",
              "      gap: 12px;\n",
              "    }\n",
              "\n",
              "    .colab-df-convert {\n",
              "      background-color: #E8F0FE;\n",
              "      border: none;\n",
              "      border-radius: 50%;\n",
              "      cursor: pointer;\n",
              "      display: none;\n",
              "      fill: #1967D2;\n",
              "      height: 32px;\n",
              "      padding: 0 0 0 0;\n",
              "      width: 32px;\n",
              "    }\n",
              "\n",
              "    .colab-df-convert:hover {\n",
              "      background-color: #E2EBFA;\n",
              "      box-shadow: 0px 1px 2px rgba(60, 64, 67, 0.3), 0px 1px 3px 1px rgba(60, 64, 67, 0.15);\n",
              "      fill: #174EA6;\n",
              "    }\n",
              "\n",
              "    .colab-df-buttons div {\n",
              "      margin-bottom: 4px;\n",
              "    }\n",
              "\n",
              "    [theme=dark] .colab-df-convert {\n",
              "      background-color: #3B4455;\n",
              "      fill: #D2E3FC;\n",
              "    }\n",
              "\n",
              "    [theme=dark] .colab-df-convert:hover {\n",
              "      background-color: #434B5C;\n",
              "      box-shadow: 0px 1px 3px 1px rgba(0, 0, 0, 0.15);\n",
              "      filter: drop-shadow(0px 1px 2px rgba(0, 0, 0, 0.3));\n",
              "      fill: #FFFFFF;\n",
              "    }\n",
              "  </style>\n",
              "\n",
              "    <script>\n",
              "      const buttonEl =\n",
              "        document.querySelector('#df-52aa4359-086e-4fe6-b938-fd4df424457e button.colab-df-convert');\n",
              "      buttonEl.style.display =\n",
              "        google.colab.kernel.accessAllowed ? 'block' : 'none';\n",
              "\n",
              "      async function convertToInteractive(key) {\n",
              "        const element = document.querySelector('#df-52aa4359-086e-4fe6-b938-fd4df424457e');\n",
              "        const dataTable =\n",
              "          await google.colab.kernel.invokeFunction('convertToInteractive',\n",
              "                                                    [key], {});\n",
              "        if (!dataTable) return;\n",
              "\n",
              "        const docLinkHtml = 'Like what you see? Visit the ' +\n",
              "          '<a target=\"_blank\" href=https://colab.research.google.com/notebooks/data_table.ipynb>data table notebook</a>'\n",
              "          + ' to learn more about interactive tables.';\n",
              "        element.innerHTML = '';\n",
              "        dataTable['output_type'] = 'display_data';\n",
              "        await google.colab.output.renderOutput(dataTable, element);\n",
              "        const docLink = document.createElement('div');\n",
              "        docLink.innerHTML = docLinkHtml;\n",
              "        element.appendChild(docLink);\n",
              "      }\n",
              "    </script>\n",
              "  </div>\n",
              "\n",
              "\n",
              "    <div id=\"df-5121a777-97a8-4fc5-a6dc-3b75644bb5ec\">\n",
              "      <button class=\"colab-df-quickchart\" onclick=\"quickchart('df-5121a777-97a8-4fc5-a6dc-3b75644bb5ec')\"\n",
              "                title=\"Suggest charts\"\n",
              "                style=\"display:none;\">\n",
              "\n",
              "<svg xmlns=\"http://www.w3.org/2000/svg\" height=\"24px\"viewBox=\"0 0 24 24\"\n",
              "     width=\"24px\">\n",
              "    <g>\n",
              "        <path d=\"M19 3H5c-1.1 0-2 .9-2 2v14c0 1.1.9 2 2 2h14c1.1 0 2-.9 2-2V5c0-1.1-.9-2-2-2zM9 17H7v-7h2v7zm4 0h-2V7h2v10zm4 0h-2v-4h2v4z\"/>\n",
              "    </g>\n",
              "</svg>\n",
              "      </button>\n",
              "\n",
              "<style>\n",
              "  .colab-df-quickchart {\n",
              "      --bg-color: #E8F0FE;\n",
              "      --fill-color: #1967D2;\n",
              "      --hover-bg-color: #E2EBFA;\n",
              "      --hover-fill-color: #174EA6;\n",
              "      --disabled-fill-color: #AAA;\n",
              "      --disabled-bg-color: #DDD;\n",
              "  }\n",
              "\n",
              "  [theme=dark] .colab-df-quickchart {\n",
              "      --bg-color: #3B4455;\n",
              "      --fill-color: #D2E3FC;\n",
              "      --hover-bg-color: #434B5C;\n",
              "      --hover-fill-color: #FFFFFF;\n",
              "      --disabled-bg-color: #3B4455;\n",
              "      --disabled-fill-color: #666;\n",
              "  }\n",
              "\n",
              "  .colab-df-quickchart {\n",
              "    background-color: var(--bg-color);\n",
              "    border: none;\n",
              "    border-radius: 50%;\n",
              "    cursor: pointer;\n",
              "    display: none;\n",
              "    fill: var(--fill-color);\n",
              "    height: 32px;\n",
              "    padding: 0;\n",
              "    width: 32px;\n",
              "  }\n",
              "\n",
              "  .colab-df-quickchart:hover {\n",
              "    background-color: var(--hover-bg-color);\n",
              "    box-shadow: 0 1px 2px rgba(60, 64, 67, 0.3), 0 1px 3px 1px rgba(60, 64, 67, 0.15);\n",
              "    fill: var(--button-hover-fill-color);\n",
              "  }\n",
              "\n",
              "  .colab-df-quickchart-complete:disabled,\n",
              "  .colab-df-quickchart-complete:disabled:hover {\n",
              "    background-color: var(--disabled-bg-color);\n",
              "    fill: var(--disabled-fill-color);\n",
              "    box-shadow: none;\n",
              "  }\n",
              "\n",
              "  .colab-df-spinner {\n",
              "    border: 2px solid var(--fill-color);\n",
              "    border-color: transparent;\n",
              "    border-bottom-color: var(--fill-color);\n",
              "    animation:\n",
              "      spin 1s steps(1) infinite;\n",
              "  }\n",
              "\n",
              "  @keyframes spin {\n",
              "    0% {\n",
              "      border-color: transparent;\n",
              "      border-bottom-color: var(--fill-color);\n",
              "      border-left-color: var(--fill-color);\n",
              "    }\n",
              "    20% {\n",
              "      border-color: transparent;\n",
              "      border-left-color: var(--fill-color);\n",
              "      border-top-color: var(--fill-color);\n",
              "    }\n",
              "    30% {\n",
              "      border-color: transparent;\n",
              "      border-left-color: var(--fill-color);\n",
              "      border-top-color: var(--fill-color);\n",
              "      border-right-color: var(--fill-color);\n",
              "    }\n",
              "    40% {\n",
              "      border-color: transparent;\n",
              "      border-right-color: var(--fill-color);\n",
              "      border-top-color: var(--fill-color);\n",
              "    }\n",
              "    60% {\n",
              "      border-color: transparent;\n",
              "      border-right-color: var(--fill-color);\n",
              "    }\n",
              "    80% {\n",
              "      border-color: transparent;\n",
              "      border-right-color: var(--fill-color);\n",
              "      border-bottom-color: var(--fill-color);\n",
              "    }\n",
              "    90% {\n",
              "      border-color: transparent;\n",
              "      border-bottom-color: var(--fill-color);\n",
              "    }\n",
              "  }\n",
              "</style>\n",
              "\n",
              "      <script>\n",
              "        async function quickchart(key) {\n",
              "          const quickchartButtonEl =\n",
              "            document.querySelector('#' + key + ' button');\n",
              "          quickchartButtonEl.disabled = true;  // To prevent multiple clicks.\n",
              "          quickchartButtonEl.classList.add('colab-df-spinner');\n",
              "          try {\n",
              "            const charts = await google.colab.kernel.invokeFunction(\n",
              "                'suggestCharts', [key], {});\n",
              "          } catch (error) {\n",
              "            console.error('Error during call to suggestCharts:', error);\n",
              "          }\n",
              "          quickchartButtonEl.classList.remove('colab-df-spinner');\n",
              "          quickchartButtonEl.classList.add('colab-df-quickchart-complete');\n",
              "        }\n",
              "        (() => {\n",
              "          let quickchartButtonEl =\n",
              "            document.querySelector('#df-5121a777-97a8-4fc5-a6dc-3b75644bb5ec button');\n",
              "          quickchartButtonEl.style.display =\n",
              "            google.colab.kernel.accessAllowed ? 'block' : 'none';\n",
              "        })();\n",
              "      </script>\n",
              "    </div>\n",
              "\n",
              "    </div>\n",
              "  </div>\n"
            ],
            "application/vnd.google.colaboratory.intrinsic+json": {
              "type": "dataframe",
              "variable_name": "income",
              "summary": "{\n  \"name\": \"income\",\n  \"rows\": 2181,\n  \"fields\": [\n    {\n      \"column\": \"age\",\n      \"properties\": {\n        \"dtype\": \"number\",\n        \"std\": 9,\n        \"min\": 28,\n        \"max\": 77,\n        \"num_unique_values\": 47,\n        \"samples\": [\n          47,\n          38,\n          39\n        ],\n        \"semantic_type\": \"\",\n        \"description\": \"\"\n      }\n    },\n    {\n      \"column\": \"sex\",\n      \"properties\": {\n        \"dtype\": \"number\",\n        \"std\": 0,\n        \"min\": 0,\n        \"max\": 1,\n        \"num_unique_values\": 2,\n        \"samples\": [\n          0,\n          1\n        ],\n        \"semantic_type\": \"\",\n        \"description\": \"\"\n      }\n    },\n    {\n      \"column\": \"cp\",\n      \"properties\": {\n        \"dtype\": \"number\",\n        \"std\": 1,\n        \"min\": 0,\n        \"max\": 4,\n        \"num_unique_values\": 5,\n        \"samples\": [\n          2,\n          4\n        ],\n        \"semantic_type\": \"\",\n        \"description\": \"\"\n      }\n    },\n    {\n      \"column\": \"trestbps\",\n      \"properties\": {\n        \"dtype\": \"category\",\n        \"num_unique_values\": 55,\n        \"samples\": [\n          \"129\",\n          \"150\"\n        ],\n        \"semantic_type\": \"\",\n        \"description\": \"\"\n      }\n    },\n    {\n      \"column\": \"chol\",\n      \"properties\": {\n        \"dtype\": \"category\",\n        \"num_unique_values\": 202,\n        \"samples\": [\n          \"178\",\n          \"219\"\n        ],\n        \"semantic_type\": \"\",\n        \"description\": \"\"\n      }\n    },\n    {\n      \"column\": \"fbs\",\n      \"properties\": {\n        \"dtype\": \"category\",\n        \"num_unique_values\": 3,\n        \"samples\": [\n          \"1\",\n          \"0\"\n        ],\n        \"semantic_type\": \"\",\n        \"description\": \"\"\n      }\n    },\n    {\n      \"column\": \"restecg\",\n      \"properties\": {\n        \"dtype\": \"category\",\n        \"num_unique_values\": 4,\n        \"samples\": [\n          \"1\",\n          \"?\"\n        ],\n        \"semantic_type\": \"\",\n        \"description\": \"\"\n      }\n    },\n    {\n      \"column\": \"thalachh\",\n      \"properties\": {\n        \"dtype\": \"category\",\n        \"num_unique_values\": 104,\n        \"samples\": [\n          \"180\",\n          \"181\"\n        ],\n        \"semantic_type\": \"\",\n        \"description\": \"\"\n      }\n    },\n    {\n      \"column\": \"exang\",\n      \"properties\": {\n        \"dtype\": \"category\",\n        \"num_unique_values\": 3,\n        \"samples\": [\n          \"0\",\n          \"1\"\n        ],\n        \"semantic_type\": \"\",\n        \"description\": \"\"\n      }\n    },\n    {\n      \"column\": \"oldpeak\",\n      \"properties\": {\n        \"dtype\": \"number\",\n        \"std\": 1.14185056925667,\n        \"min\": 0.0,\n        \"max\": 6.2,\n        \"num_unique_values\": 41,\n        \"samples\": [\n          0.3,\n          1.0\n        ],\n        \"semantic_type\": \"\",\n        \"description\": \"\"\n      }\n    },\n    {\n      \"column\": \"slope\",\n      \"properties\": {\n        \"dtype\": \"category\",\n        \"num_unique_values\": 5,\n        \"samples\": [\n          \"2\",\n          \"3\"\n        ],\n        \"semantic_type\": \"\",\n        \"description\": \"\"\n      }\n    },\n    {\n      \"column\": \"ca\",\n      \"properties\": {\n        \"dtype\": \"category\",\n        \"num_unique_values\": 6,\n        \"samples\": [\n          \"0\",\n          \"2\"\n        ],\n        \"semantic_type\": \"\",\n        \"description\": \"\"\n      }\n    },\n    {\n      \"column\": \"thal\",\n      \"properties\": {\n        \"dtype\": \"category\",\n        \"num_unique_values\": 7,\n        \"samples\": [\n          \"1\",\n          \"2\"\n        ],\n        \"semantic_type\": \"\",\n        \"description\": \"\"\n      }\n    },\n    {\n      \"column\": \"target\",\n      \"properties\": {\n        \"dtype\": \"number\",\n        \"std\": 0,\n        \"min\": 0,\n        \"max\": 1,\n        \"num_unique_values\": 2,\n        \"samples\": [\n          0,\n          1\n        ],\n        \"semantic_type\": \"\",\n        \"description\": \"\"\n      }\n    }\n  ]\n}"
            }
          },
          "metadata": {},
          "execution_count": 10
        }
      ]
    },
    {
      "cell_type": "markdown",
      "source": [
        "Informações referentes as *features* do Dataset importado"
      ],
      "metadata": {
        "id": "vJDj4m1p1E4n"
      }
    },
    {
      "cell_type": "code",
      "source": [
        "print(\"Informações referentes as features do Dataset importado:\\n\")\n",
        "income.info()"
      ],
      "metadata": {
        "id": "BiIps875yZRL",
        "colab": {
          "base_uri": "https://localhost:8080/"
        },
        "outputId": "8c951fb0-1a9b-493a-b6fa-8af63cc8ac8e"
      },
      "execution_count": 14,
      "outputs": [
        {
          "output_type": "stream",
          "name": "stdout",
          "text": [
            "Informações referentes as features do Dataset importado:\n",
            "\n",
            "<class 'pandas.core.frame.DataFrame'>\n",
            "RangeIndex: 2181 entries, 0 to 2180\n",
            "Data columns (total 14 columns):\n",
            " #   Column    Non-Null Count  Dtype  \n",
            "---  ------    --------------  -----  \n",
            " 0   age       2181 non-null   int64  \n",
            " 1   sex       2181 non-null   int64  \n",
            " 2   cp        2181 non-null   int64  \n",
            " 3   trestbps  2181 non-null   object \n",
            " 4   chol      2181 non-null   object \n",
            " 5   fbs       2181 non-null   object \n",
            " 6   restecg   2181 non-null   object \n",
            " 7   thalachh  2181 non-null   object \n",
            " 8   exang     2181 non-null   object \n",
            " 9   oldpeak   2181 non-null   float64\n",
            " 10  slope     2181 non-null   object \n",
            " 11  ca        2181 non-null   object \n",
            " 12  thal      2181 non-null   object \n",
            " 13  target    2181 non-null   int64  \n",
            "dtypes: float64(1), int64(4), object(9)\n",
            "memory usage: 238.7+ KB\n"
          ]
        }
      ]
    },
    {
      "cell_type": "markdown",
      "source": [
        "### **Conversões de variáveis**\n",
        "\n",
        "Para tratar e codificar os dados recebidos do dataset, envolvendo correção de dados inconsistentes e conversão de Dtype nos casos necessários."
      ],
      "metadata": {
        "id": "0D26FMaMfjC7"
      }
    },
    {
      "cell_type": "code",
      "source": [
        "# Map sex values\n",
        "income[\"sex\"] = income[\"sex\"].replace({1: \"male\", 0: \"female\"})\n",
        "# Sex variable values\n",
        "income.sex.value_counts()"
      ],
      "metadata": {
        "id": "2lQmyLh6gGfA",
        "colab": {
          "base_uri": "https://localhost:8080/",
          "height": 178
        },
        "outputId": "622c0ab6-9f5f-46fb-9de6-953ac3912b0c"
      },
      "execution_count": 15,
      "outputs": [
        {
          "output_type": "execute_result",
          "data": {
            "text/plain": [
              "sex\n",
              "male      1512\n",
              "female     669\n",
              "Name: count, dtype: int64"
            ],
            "text/html": [
              "<div>\n",
              "<style scoped>\n",
              "    .dataframe tbody tr th:only-of-type {\n",
              "        vertical-align: middle;\n",
              "    }\n",
              "\n",
              "    .dataframe tbody tr th {\n",
              "        vertical-align: top;\n",
              "    }\n",
              "\n",
              "    .dataframe thead th {\n",
              "        text-align: right;\n",
              "    }\n",
              "</style>\n",
              "<table border=\"1\" class=\"dataframe\">\n",
              "  <thead>\n",
              "    <tr style=\"text-align: right;\">\n",
              "      <th></th>\n",
              "      <th>count</th>\n",
              "    </tr>\n",
              "    <tr>\n",
              "      <th>sex</th>\n",
              "      <th></th>\n",
              "    </tr>\n",
              "  </thead>\n",
              "  <tbody>\n",
              "    <tr>\n",
              "      <th>male</th>\n",
              "      <td>1512</td>\n",
              "    </tr>\n",
              "    <tr>\n",
              "      <th>female</th>\n",
              "      <td>669</td>\n",
              "    </tr>\n",
              "  </tbody>\n",
              "</table>\n",
              "</div><br><label><b>dtype:</b> int64</label>"
            ]
          },
          "metadata": {},
          "execution_count": 15
        }
      ]
    },
    {
      "cell_type": "code",
      "source": [
        "# Target mapping\n",
        "income[\"target\"] = income[\"target\"].replace({1: \"disease\", 0: \"normal\"})\n",
        "# Target distribution\n",
        "income.target.value_counts()"
      ],
      "metadata": {
        "id": "bEtIimPbgpwj",
        "colab": {
          "base_uri": "https://localhost:8080/",
          "height": 178
        },
        "outputId": "e99350b1-6c88-4972-a6f2-a533c7abe9cf"
      },
      "execution_count": 16,
      "outputs": [
        {
          "output_type": "execute_result",
          "data": {
            "text/plain": [
              "target\n",
              "normal     1099\n",
              "disease    1082\n",
              "Name: count, dtype: int64"
            ],
            "text/html": [
              "<div>\n",
              "<style scoped>\n",
              "    .dataframe tbody tr th:only-of-type {\n",
              "        vertical-align: middle;\n",
              "    }\n",
              "\n",
              "    .dataframe tbody tr th {\n",
              "        vertical-align: top;\n",
              "    }\n",
              "\n",
              "    .dataframe thead th {\n",
              "        text-align: right;\n",
              "    }\n",
              "</style>\n",
              "<table border=\"1\" class=\"dataframe\">\n",
              "  <thead>\n",
              "    <tr style=\"text-align: right;\">\n",
              "      <th></th>\n",
              "      <th>count</th>\n",
              "    </tr>\n",
              "    <tr>\n",
              "      <th>target</th>\n",
              "      <th></th>\n",
              "    </tr>\n",
              "  </thead>\n",
              "  <tbody>\n",
              "    <tr>\n",
              "      <th>normal</th>\n",
              "      <td>1099</td>\n",
              "    </tr>\n",
              "    <tr>\n",
              "      <th>disease</th>\n",
              "      <td>1082</td>\n",
              "    </tr>\n",
              "  </tbody>\n",
              "</table>\n",
              "</div><br><label><b>dtype:</b> int64</label>"
            ]
          },
          "metadata": {},
          "execution_count": 16
        }
      ]
    },
    {
      "cell_type": "code",
      "source": [
        "# Chest Pain values mapping\n",
        "income[\"cp\"] = income[\"cp\"].replace({4: np.nan, 3: \"asymptomatic\", 2: \"non_anginal_pain\", 1: \"atypical_angina\", 0: \"typical_angina\"})\n",
        "# Chest Pain distribution\n",
        "income.cp.value_counts()"
      ],
      "metadata": {
        "id": "osdB-WVohJth",
        "colab": {
          "base_uri": "https://localhost:8080/",
          "height": 241
        },
        "outputId": "49179453-be2c-4360-9b01-f725f08ae8f6"
      },
      "execution_count": 18,
      "outputs": [
        {
          "output_type": "execute_result",
          "data": {
            "text/plain": [
              "cp\n",
              "typical_angina      766\n",
              "non_anginal_pain    605\n",
              "atypical_angina     302\n",
              "asymptomatic        256\n",
              "Name: count, dtype: int64"
            ],
            "text/html": [
              "<div>\n",
              "<style scoped>\n",
              "    .dataframe tbody tr th:only-of-type {\n",
              "        vertical-align: middle;\n",
              "    }\n",
              "\n",
              "    .dataframe tbody tr th {\n",
              "        vertical-align: top;\n",
              "    }\n",
              "\n",
              "    .dataframe thead th {\n",
              "        text-align: right;\n",
              "    }\n",
              "</style>\n",
              "<table border=\"1\" class=\"dataframe\">\n",
              "  <thead>\n",
              "    <tr style=\"text-align: right;\">\n",
              "      <th></th>\n",
              "      <th>count</th>\n",
              "    </tr>\n",
              "    <tr>\n",
              "      <th>cp</th>\n",
              "      <th></th>\n",
              "    </tr>\n",
              "  </thead>\n",
              "  <tbody>\n",
              "    <tr>\n",
              "      <th>typical_angina</th>\n",
              "      <td>766</td>\n",
              "    </tr>\n",
              "    <tr>\n",
              "      <th>non_anginal_pain</th>\n",
              "      <td>605</td>\n",
              "    </tr>\n",
              "    <tr>\n",
              "      <th>atypical_angina</th>\n",
              "      <td>302</td>\n",
              "    </tr>\n",
              "    <tr>\n",
              "      <th>asymptomatic</th>\n",
              "      <td>256</td>\n",
              "    </tr>\n",
              "  </tbody>\n",
              "</table>\n",
              "</div><br><label><b>dtype:</b> int64</label>"
            ]
          },
          "metadata": {},
          "execution_count": 18
        }
      ]
    },
    {
      "cell_type": "markdown",
      "source": [
        "Conversão de dados numéricos que no Dataset importado estão como strings."
      ],
      "metadata": {
        "id": "3LvoWMrn-vIy"
      }
    },
    {
      "cell_type": "code",
      "source": [
        "# Convert resting blood pressure\n",
        "income.trestbps = pd.to_numeric(income.trestbps, errors = 'coerce')\n",
        "# Convert cholesterol\n",
        "income.chol = pd.to_numeric(income.chol, errors = 'coerce')\n",
        "# Convert maximum heart rate\n",
        "income.thalachh = pd.to_numeric(income.thalachh, errors = 'coerce')"
      ],
      "metadata": {
        "id": "JqLciWCbhiW-"
      },
      "execution_count": 21,
      "outputs": []
    },
    {
      "cell_type": "markdown",
      "source": [
        "Listagem de colunas categóricas"
      ],
      "metadata": {
        "id": "5MCg2ohUznDU"
      }
    },
    {
      "cell_type": "code",
      "source": [
        "# list of categorical feature variables\n",
        "categorical = income.drop(columns = \"target\").select_dtypes(\"object\").columns.to_list()\n",
        "numerical = income.select_dtypes(\"number\").columns.to_list()\n",
        "\n",
        "print(\"Listagem de colunas categóricas e suas categorias originais: \\n\")\n",
        "# For each categorical variable\n",
        "for cat in categorical:\n",
        "    # Print the variable and its values\n",
        "    print(f\"{cat} --> {income[cat].unique()}\")"
      ],
      "metadata": {
        "id": "ZP29ysPRlcP3",
        "colab": {
          "base_uri": "https://localhost:8080/"
        },
        "outputId": "db11a0d8-0348-4895-8d5d-b8c8152c55d1"
      },
      "execution_count": 20,
      "outputs": [
        {
          "output_type": "stream",
          "name": "stdout",
          "text": [
            "Listagem de colunas categóricas e suas categorias originais: \n",
            "\n",
            "sex --> ['male' 'female']\n",
            "cp --> ['asymptomatic' 'non_anginal_pain' 'atypical_angina' 'typical_angina' nan]\n",
            "fbs --> ['1' '0' '?']\n",
            "restecg --> ['0' '1' '2' '?']\n",
            "exang --> ['0' '1' '?']\n",
            "slope --> ['0' '2' '1' '?' '3']\n",
            "ca --> ['0' '2' '1' '3' '4' '?']\n",
            "thal --> ['1' '2' '3' '0' '?' '6' '7']\n"
          ]
        }
      ]
    },
    {
      "cell_type": "markdown",
      "source": [
        "Renomeação das categorias de cada coluna"
      ],
      "metadata": {
        "id": "BNNujTMn-2Wk"
      }
    },
    {
      "cell_type": "code",
      "source": [
        "# Fasting blood sugar values mapping\n",
        "income[\"fbs\"] = income[\"fbs\"].replace({\"1\": \"high_fbs\", \"0\": \"low_fbs\",\n",
        "                               \"?\": np.nan})\n",
        "\n",
        "# Resting electrocardiographic results mapping\n",
        "income[\"restecg\"] = income[\"restecg\"].replace({\"2\": \"left_ventricular_hypertrophy\",\n",
        "                                       \"1\": \"st_t_wave_abnormality\",\n",
        "                                       \"0\": \"normal\", \"?\": np.nan})\n",
        "\n",
        "# Exercise-induced angina values mapping\n",
        "income[\"exang\"] = income[\"exang\"].replace({\"1\": \"yes\", \"0\": \"no\",\n",
        "                                   \"?\": np.nan})\n",
        "\n",
        "# Slope values mapping\n",
        "income[\"slope\"] = income[\"slope\"].replace({\"3\": np.nan, \"2\": \"downsloping\",\n",
        "                                   \"1\": \"flat\", \"0\": \"upsloping\", \"?\": np.nan})\n",
        "\n",
        "# Major vessels mapping\n",
        "income[\"ca\"] = income[\"ca\"].replace({\"4\": np.nan, \"3\": \"three_vessels\", \"2\": \"two_vessels\",\n",
        "                             \"1\": \"one_vessel\", \"0\": \"no_vessel\", \"?\": np.nan})\n",
        "\n",
        "# Thalassemia types values mapping\n",
        "income[\"thal\"] = income[\"thal\"].replace({\"7\": np.nan, \"6\": np.nan, \"3\": \"reversible_defect\",\n",
        "                                 \"2\": \"fixed_defect\", \"1\": \"normal\", \"0\": np.nan, \"?\": np.nan})"
      ],
      "metadata": {
        "id": "sEbed3ANlwaZ"
      },
      "execution_count": 23,
      "outputs": []
    },
    {
      "cell_type": "code",
      "source": [
        "print(\"Listagem de colunas categóricas e suas categorias convertidas: \\n\")\n",
        "# For each categorical variable\n",
        "for cat in categorical:\n",
        "    # Print the variable and its values\n",
        "    print(f\"{cat} --> {income[cat].unique()}\")"
      ],
      "metadata": {
        "id": "XIzvbzSFmOBt",
        "colab": {
          "base_uri": "https://localhost:8080/"
        },
        "outputId": "8882563d-b651-45f8-b6f7-b7b485a00e4b"
      },
      "execution_count": 24,
      "outputs": [
        {
          "output_type": "stream",
          "name": "stdout",
          "text": [
            "Listagem de colunas categóricas e suas categorias convertidas: \n",
            "\n",
            "sex --> ['male' 'female']\n",
            "cp --> ['asymptomatic' 'non_anginal_pain' 'atypical_angina' 'typical_angina' nan]\n",
            "fbs --> ['high_fbs' 'low_fbs' nan]\n",
            "restecg --> ['normal' 'st_t_wave_abnormality' 'left_ventricular_hypertrophy' nan]\n",
            "exang --> ['no' 'yes' nan]\n",
            "slope --> ['upsloping' 'downsloping' 'flat' nan]\n",
            "ca --> ['no_vessel' 'two_vessels' 'one_vessel' 'three_vessels' nan]\n",
            "thal --> ['normal' 'fixed_defect' 'reversible_defect' nan]\n"
          ]
        }
      ]
    },
    {
      "cell_type": "markdown",
      "source": [
        "Informações do Dataset após a realização das conversões."
      ],
      "metadata": {
        "id": "g3l4qvRc1vM0"
      }
    },
    {
      "cell_type": "code",
      "source": [
        "income.info()"
      ],
      "metadata": {
        "id": "5r0Es96cioEd",
        "colab": {
          "base_uri": "https://localhost:8080/"
        },
        "outputId": "8cd79d16-5f3b-494b-9403-f194b3cc0f7c"
      },
      "execution_count": 25,
      "outputs": [
        {
          "output_type": "stream",
          "name": "stdout",
          "text": [
            "<class 'pandas.core.frame.DataFrame'>\n",
            "RangeIndex: 2181 entries, 0 to 2180\n",
            "Data columns (total 14 columns):\n",
            " #   Column    Non-Null Count  Dtype  \n",
            "---  ------    --------------  -----  \n",
            " 0   age       2181 non-null   int64  \n",
            " 1   sex       2181 non-null   object \n",
            " 2   cp        1929 non-null   object \n",
            " 3   trestbps  2180 non-null   float64\n",
            " 4   chol      2158 non-null   float64\n",
            " 5   fbs       2173 non-null   object \n",
            " 6   restecg   2180 non-null   object \n",
            " 7   thalachh  2180 non-null   float64\n",
            " 8   exang     2180 non-null   object \n",
            " 9   oldpeak   2181 non-null   float64\n",
            " 10  slope     1972 non-null   object \n",
            " 11  ca        1862 non-null   object \n",
            " 12  thal      1765 non-null   object \n",
            " 13  target    2181 non-null   object \n",
            "dtypes: float64(4), int64(1), object(9)\n",
            "memory usage: 238.7+ KB\n"
          ]
        }
      ]
    },
    {
      "cell_type": "markdown",
      "source": [
        "### **Envio para o wandb**\n",
        "\n",
        "O repositório criado no wanb irá armazenar os dados de treinamento e teste, além de métricas, parãmetros e gráficos importantes para o trabalho."
      ],
      "metadata": {
        "id": "ezk61C9hhjS1"
      }
    },
    {
      "cell_type": "code",
      "source": [
        "income.to_csv(\"raw_data.csv\",index=False)"
      ],
      "metadata": {
        "id": "BAmvL54V5s4z"
      },
      "execution_count": null,
      "outputs": []
    },
    {
      "cell_type": "code",
      "source": [
        "# Login to Weights & Biases\n",
        "!wandb login --relogin"
      ],
      "metadata": {
        "colab": {
          "base_uri": "https://localhost:8080/"
        },
        "id": "VJeqUSHbHz4R",
        "outputId": "8a106d5f-4e2f-46d5-b22a-85c37a04d152",
        "collapsed": true
      },
      "execution_count": 140,
      "outputs": [
        {
          "output_type": "stream",
          "name": "stdout",
          "text": [
            "\u001b[34m\u001b[1mwandb\u001b[0m: Logging into wandb.ai. (Learn how to deploy a W&B server locally: https://wandb.me/wandb-server)\n",
            "\u001b[34m\u001b[1mwandb\u001b[0m: You can find your API key in your browser here: https://wandb.ai/authorize?ref=models\n",
            "\u001b[34m\u001b[1mwandb\u001b[0m: Paste an API key from your profile and hit enter, or press ctrl+c to quit: \n",
            "\u001b[34m\u001b[1mwandb\u001b[0m: Appending key for api.wandb.ai to your netrc file: /root/.netrc\n",
            "\u001b[34m\u001b[1mwandb\u001b[0m: W&B API key is configured. Use \u001b[1m`wandb login --relogin`\u001b[0m to force relogin\n"
          ]
        }
      ]
    },
    {
      "cell_type": "code",
      "source": [
        "# Send the raw_data.csv to the Wandb storing it as an artifact\n",
        "!wandb artifact put \\\n",
        "      --name Heart_Disease/raw_data.csv \\\n",
        "      --type raw_data \\\n",
        "      --description \"The raw data from Heart Disease App\" raw_data.csv"
      ],
      "metadata": {
        "id": "LTMHC2JFI4Bw",
        "collapsed": true
      },
      "execution_count": null,
      "outputs": []
    },
    {
      "cell_type": "code",
      "source": [
        "# save_code tracking all changes of the notebook and sync with Wandb\n",
        "run = wandb.init(project=\"Heart_Disease\", save_code=True)\n",
        "\n",
        "# donwload the latest version of artifact raw_data.csv\n",
        "artifact = run.use_artifact(\"Heart_Disease/raw_data.csv:latest\")\n",
        "\n",
        "# create a dataframe from the artifact\n",
        "df = pd.read_csv(artifact.file())"
      ],
      "metadata": {
        "colab": {
          "base_uri": "https://localhost:8080/",
          "height": 104
        },
        "collapsed": true,
        "id": "b813MbhZPOuE",
        "outputId": "9b8ad654-e5a7-4307-e4f5-f1068a384446"
      },
      "execution_count": 141,
      "outputs": [
        {
          "output_type": "display_data",
          "data": {
            "text/plain": [
              "<IPython.core.display.HTML object>"
            ],
            "text/html": [
              "Tracking run with wandb version 0.19.11"
            ]
          },
          "metadata": {}
        },
        {
          "output_type": "display_data",
          "data": {
            "text/plain": [
              "<IPython.core.display.HTML object>"
            ],
            "text/html": [
              "Run data is saved locally in <code>/content/wandb/run-20250515_161524-jn8lg0pw</code>"
            ]
          },
          "metadata": {}
        },
        {
          "output_type": "display_data",
          "data": {
            "text/plain": [
              "<IPython.core.display.HTML object>"
            ],
            "text/html": [
              "Syncing run <strong><a href='https://wandb.ai/guilherme-silva-096-ufrn/Heart_Disease/runs/jn8lg0pw' target=\"_blank\">swept-universe-105</a></strong> to <a href='https://wandb.ai/guilherme-silva-096-ufrn/Heart_Disease' target=\"_blank\">Weights & Biases</a> (<a href='https://wandb.me/developer-guide' target=\"_blank\">docs</a>)<br>"
            ]
          },
          "metadata": {}
        },
        {
          "output_type": "display_data",
          "data": {
            "text/plain": [
              "<IPython.core.display.HTML object>"
            ],
            "text/html": [
              " View project at <a href='https://wandb.ai/guilherme-silva-096-ufrn/Heart_Disease' target=\"_blank\">https://wandb.ai/guilherme-silva-096-ufrn/Heart_Disease</a>"
            ]
          },
          "metadata": {}
        },
        {
          "output_type": "display_data",
          "data": {
            "text/plain": [
              "<IPython.core.display.HTML object>"
            ],
            "text/html": [
              " View run at <a href='https://wandb.ai/guilherme-silva-096-ufrn/Heart_Disease/runs/jn8lg0pw' target=\"_blank\">https://wandb.ai/guilherme-silva-096-ufrn/Heart_Disease/runs/jn8lg0pw</a>"
            ]
          },
          "metadata": {}
        }
      ]
    },
    {
      "cell_type": "markdown",
      "source": [
        "Indicação de dados nulos em cada coluna do Dataset salvo no wandb"
      ],
      "metadata": {
        "id": "lUbpljA4z1QI"
      }
    },
    {
      "cell_type": "code",
      "source": [
        "df.isnull().sum()"
      ],
      "metadata": {
        "colab": {
          "base_uri": "https://localhost:8080/",
          "height": 523
        },
        "id": "HRhU4mUErNFU",
        "outputId": "07103704-4ff3-4d84-d2dd-ba61dfdc261b"
      },
      "execution_count": 142,
      "outputs": [
        {
          "output_type": "execute_result",
          "data": {
            "text/plain": [
              "age           0\n",
              "sex           0\n",
              "cp          252\n",
              "trestbps      1\n",
              "chol         23\n",
              "fbs           8\n",
              "restecg       1\n",
              "thalachh      1\n",
              "exang         1\n",
              "oldpeak       0\n",
              "slope       209\n",
              "ca          319\n",
              "thal        416\n",
              "target        0\n",
              "dtype: int64"
            ],
            "text/html": [
              "<div>\n",
              "<style scoped>\n",
              "    .dataframe tbody tr th:only-of-type {\n",
              "        vertical-align: middle;\n",
              "    }\n",
              "\n",
              "    .dataframe tbody tr th {\n",
              "        vertical-align: top;\n",
              "    }\n",
              "\n",
              "    .dataframe thead th {\n",
              "        text-align: right;\n",
              "    }\n",
              "</style>\n",
              "<table border=\"1\" class=\"dataframe\">\n",
              "  <thead>\n",
              "    <tr style=\"text-align: right;\">\n",
              "      <th></th>\n",
              "      <th>0</th>\n",
              "    </tr>\n",
              "  </thead>\n",
              "  <tbody>\n",
              "    <tr>\n",
              "      <th>age</th>\n",
              "      <td>0</td>\n",
              "    </tr>\n",
              "    <tr>\n",
              "      <th>sex</th>\n",
              "      <td>0</td>\n",
              "    </tr>\n",
              "    <tr>\n",
              "      <th>cp</th>\n",
              "      <td>252</td>\n",
              "    </tr>\n",
              "    <tr>\n",
              "      <th>trestbps</th>\n",
              "      <td>1</td>\n",
              "    </tr>\n",
              "    <tr>\n",
              "      <th>chol</th>\n",
              "      <td>23</td>\n",
              "    </tr>\n",
              "    <tr>\n",
              "      <th>fbs</th>\n",
              "      <td>8</td>\n",
              "    </tr>\n",
              "    <tr>\n",
              "      <th>restecg</th>\n",
              "      <td>1</td>\n",
              "    </tr>\n",
              "    <tr>\n",
              "      <th>thalachh</th>\n",
              "      <td>1</td>\n",
              "    </tr>\n",
              "    <tr>\n",
              "      <th>exang</th>\n",
              "      <td>1</td>\n",
              "    </tr>\n",
              "    <tr>\n",
              "      <th>oldpeak</th>\n",
              "      <td>0</td>\n",
              "    </tr>\n",
              "    <tr>\n",
              "      <th>slope</th>\n",
              "      <td>209</td>\n",
              "    </tr>\n",
              "    <tr>\n",
              "      <th>ca</th>\n",
              "      <td>319</td>\n",
              "    </tr>\n",
              "    <tr>\n",
              "      <th>thal</th>\n",
              "      <td>416</td>\n",
              "    </tr>\n",
              "    <tr>\n",
              "      <th>target</th>\n",
              "      <td>0</td>\n",
              "    </tr>\n",
              "  </tbody>\n",
              "</table>\n",
              "</div><br><label><b>dtype:</b> int64</label>"
            ]
          },
          "metadata": {},
          "execution_count": 142
        }
      ]
    },
    {
      "cell_type": "markdown",
      "source": [
        "## **Realizada a EDA a partir da biblioteca Pandas Profiling**\n",
        "\n",
        "A análise exploratória de dados do projeto foi realizada através da biblioteca Pandas Profiling, que emite o relatório de cada feature do Dataset, além do contexto geral dos dados trabalhados."
      ],
      "metadata": {
        "id": "YFnYqwqKV7YB"
      }
    },
    {
      "cell_type": "code",
      "source": [
        "#Essa célula está comentada devido a uma incompatibilidade encontrada\n",
        "#entre o widget gerado pela Pandas Profiling e o GitHub.\n",
        "#Gerando um erro de visualização do notebook no repositório.\n",
        "\n",
        "#Para ver as informações para a EDA, descomente a linha a seguir.\n",
        "\n",
        "#ProfileReport(df, title=\"Pandas Profiling Report\", explorative=True)"
      ],
      "metadata": {
        "id": "QGRqE2LWTvUy"
      },
      "execution_count": 143,
      "outputs": []
    },
    {
      "cell_type": "markdown",
      "source": [
        "### Gráficos adicionais das Classes mais correlatas com \"target\""
      ],
      "metadata": {
        "id": "OnLZVNRdf7aj"
      }
    },
    {
      "cell_type": "code",
      "source": [
        "g1 = sns.catplot(x=\"thal\",\n",
        "                hue = \"thal\",\n",
        "                col=\"target\",\n",
        "                data=df, kind=\"count\",\n",
        "                height=4, aspect=2,legend = False)\n",
        "\n",
        "g1.savefig(\"Target_Thal.png\", dpi=100)\n",
        "\n",
        " run.log(\n",
        "          {\n",
        "              \"Target vs Thal\": wandb.Image(\"Target_Thal.png\")\n",
        "          }\n",
        "      )"
      ],
      "metadata": {
        "colab": {
          "base_uri": "https://localhost:8080/",
          "height": 395
        },
        "id": "UYjN6YTMf7Id",
        "outputId": "7a73b287-8579-4dd0-868a-f828a71bb42e"
      },
      "execution_count": 158,
      "outputs": [
        {
          "output_type": "display_data",
          "data": {
            "text/plain": [
              "<Figure size 1600x400 with 2 Axes>"
            ],
            "image/png": "[encoded data removed]"
          },
          "metadata": {}
        }
      ]
    },
    {
      "cell_type": "code",
      "source": [
        "g2 = sns.catplot(x=\"slope\",\n",
        "                hue = \"slope\",\n",
        "                col=\"target\",\n",
        "                data=df, kind=\"count\",\n",
        "                height=4, aspect=2,legend = False)\n",
        "\n",
        "g2.savefig(\"Target_Slope.png\", dpi=100)\n",
        "\n",
        " run.log(\n",
        "          {\n",
        "              \"Target vs Slope\": wandb.Image(\"Target_Slope.png\")\n",
        "          }\n",
        "      )"
      ],
      "metadata": {
        "colab": {
          "base_uri": "https://localhost:8080/",
          "height": 394
        },
        "id": "Y7V3ceu5oroT",
        "outputId": "d8ced359-004d-49a4-88fd-2a35062af400"
      },
      "execution_count": 159,
      "outputs": [
        {
          "output_type": "display_data",
          "data": {
            "text/plain": [
              "<Figure size 1600x400 with 2 Axes>"
            ],
            "image/png": "[encoded data removed]"
          },
          "metadata": {}
        }
      ]
    },
    {
      "cell_type": "code",
      "source": [
        "g3 = sns.catplot(x=\"cp\",\n",
        "                hue = \"cp\",\n",
        "                col=\"target\",\n",
        "                data=df, kind=\"count\",\n",
        "                height=4, aspect=2,legend = False)\n",
        "\n",
        "g3.savefig(\"Target_CP.png\", dpi=100)\n",
        "\n",
        " run.log(\n",
        "          {\n",
        "              \"Target vs CP\": wandb.Image(\"Target_CP.png\")\n",
        "          }\n",
        "      )"
      ],
      "metadata": {
        "colab": {
          "base_uri": "https://localhost:8080/",
          "height": 395
        },
        "id": "DuQbOsLCpnOs",
        "outputId": "b5e0d4c7-42a4-47a3-ae1a-d0a5c7a22a74"
      },
      "execution_count": 157,
      "outputs": [
        {
          "output_type": "display_data",
          "data": {
            "text/plain": [
              "<Figure size 1600x400 with 2 Axes>"
            ],
            "image/png": "[encoded data removed]"
          },
          "metadata": {}
        }
      ]
    },
    {
      "cell_type": "code",
      "source": [
        "run.finish()"
      ],
      "metadata": {
        "colab": {
          "base_uri": "https://localhost:8080/",
          "height": 86
        },
        "id": "8m6b2d02HTGC",
        "outputId": "35718d84-aea3-4ad4-9f76-0ec2b0293120"
      },
      "execution_count": 149,
      "outputs": [
        {
          "output_type": "display_data",
          "data": {
            "text/plain": [
              "<IPython.core.display.HTML object>"
            ],
            "text/html": []
          },
          "metadata": {}
        },
        {
          "output_type": "display_data",
          "data": {
            "text/plain": [
              "<IPython.core.display.HTML object>"
            ],
            "text/html": [
              " View run <strong style=\"color:#cdcd00\">swept-universe-105</strong> at: <a href='https://wandb.ai/guilherme-silva-096-ufrn/Heart_Disease/runs/jn8lg0pw' target=\"_blank\">https://wandb.ai/guilherme-silva-096-ufrn/Heart_Disease/runs/jn8lg0pw</a><br> View project at: <a href='https://wandb.ai/guilherme-silva-096-ufrn/Heart_Disease' target=\"_blank\">https://wandb.ai/guilherme-silva-096-ufrn/Heart_Disease</a><br>Synced 5 W&B file(s), 3 media file(s), 18 artifact file(s) and 0 other file(s)"
            ]
          },
          "metadata": {}
        },
        {
          "output_type": "display_data",
          "data": {
            "text/plain": [
              "<IPython.core.display.HTML object>"
            ],
            "text/html": [
              "Find logs at: <code>./wandb/run-20250515_161524-jn8lg0pw/logs</code>"
            ]
          },
          "metadata": {}
        }
      ]
    },
    {
      "cell_type": "markdown",
      "source": [
        "# **Preparação e Engenharia de Atributos**\n",
        "Realizar a limpeza (removendo ou imputando\n",
        "registros incompletos) e transformar atributos para\n",
        "um formato adequado ao modelo."
      ],
      "metadata": {
        "id": "1x768JnQ-pN-"
      }
    },
    {
      "cell_type": "markdown",
      "source": [
        "## **Correção de valores perdidos**\n",
        "\n",
        "O dataset trabalhado possui categorias com alto índice de dados perdidos, sendo assim será feita uma correção no dataset para contornar esse problema intriseco, seguindo os procedimentos do trabalho referência."
      ],
      "metadata": {
        "id": "Rj2IrHOYpBK5"
      }
    },
    {
      "cell_type": "code",
      "source": [
        "# Login to Weights & Biases\n",
        "!wandb login --relogin"
      ],
      "metadata": {
        "id": "IfA9Qc-XxDlF"
      },
      "execution_count": null,
      "outputs": []
    },
    {
      "cell_type": "code",
      "source": [
        "# save_code tracking all changes of the notebook and sync with Wandb\n",
        "run = wandb.init(project=\"Heart_Disease\", save_code=True)\n",
        "\n",
        "# donwload the latest version of artifact raw_data.csv\n",
        "artifact = run.use_artifact(\"Heart_Disease/raw_data.csv:latest\")\n",
        "\n",
        "# create a dataframe from the artifact\n",
        "df = pd.read_csv(artifact.file())"
      ],
      "metadata": {
        "id": "7no8zy73xEKj",
        "colab": {
          "base_uri": "https://localhost:8080/",
          "height": 104
        },
        "outputId": "11f08be0-3e8e-4d2e-eae5-ef269b492aaa"
      },
      "execution_count": 53,
      "outputs": [
        {
          "output_type": "display_data",
          "data": {
            "text/plain": [
              "<IPython.core.display.HTML object>"
            ],
            "text/html": [
              "Tracking run with wandb version 0.19.11"
            ]
          },
          "metadata": {}
        },
        {
          "output_type": "display_data",
          "data": {
            "text/plain": [
              "<IPython.core.display.HTML object>"
            ],
            "text/html": [
              "Run data is saved locally in <code>/content/wandb/run-20250515_132539-xquoga8j</code>"
            ]
          },
          "metadata": {}
        },
        {
          "output_type": "display_data",
          "data": {
            "text/plain": [
              "<IPython.core.display.HTML object>"
            ],
            "text/html": [
              "Syncing run <strong><a href='https://wandb.ai/guilherme-silva-096-ufrn/Heart_Disease/runs/xquoga8j' target=\"_blank\">golden-leaf-101</a></strong> to <a href='https://wandb.ai/guilherme-silva-096-ufrn/Heart_Disease' target=\"_blank\">Weights & Biases</a> (<a href='https://wandb.me/developer-guide' target=\"_blank\">docs</a>)<br>"
            ]
          },
          "metadata": {}
        },
        {
          "output_type": "display_data",
          "data": {
            "text/plain": [
              "<IPython.core.display.HTML object>"
            ],
            "text/html": [
              " View project at <a href='https://wandb.ai/guilherme-silva-096-ufrn/Heart_Disease' target=\"_blank\">https://wandb.ai/guilherme-silva-096-ufrn/Heart_Disease</a>"
            ]
          },
          "metadata": {}
        },
        {
          "output_type": "display_data",
          "data": {
            "text/plain": [
              "<IPython.core.display.HTML object>"
            ],
            "text/html": [
              " View run at <a href='https://wandb.ai/guilherme-silva-096-ufrn/Heart_Disease/runs/xquoga8j' target=\"_blank\">https://wandb.ai/guilherme-silva-096-ufrn/Heart_Disease/runs/xquoga8j</a>"
            ]
          },
          "metadata": {}
        }
      ]
    },
    {
      "cell_type": "code",
      "source": [
        "df.info()"
      ],
      "metadata": {
        "id": "3h_kZ2t5xmS1",
        "colab": {
          "base_uri": "https://localhost:8080/"
        },
        "outputId": "05461af3-2d9c-44df-bb56-f7dc3fd4e5be"
      },
      "execution_count": 54,
      "outputs": [
        {
          "output_type": "stream",
          "name": "stdout",
          "text": [
            "<class 'pandas.core.frame.DataFrame'>\n",
            "RangeIndex: 2181 entries, 0 to 2180\n",
            "Data columns (total 14 columns):\n",
            " #   Column    Non-Null Count  Dtype  \n",
            "---  ------    --------------  -----  \n",
            " 0   age       2181 non-null   int64  \n",
            " 1   sex       2181 non-null   object \n",
            " 2   cp        1929 non-null   object \n",
            " 3   trestbps  2180 non-null   float64\n",
            " 4   chol      2158 non-null   float64\n",
            " 5   fbs       2173 non-null   object \n",
            " 6   restecg   2180 non-null   object \n",
            " 7   thalachh  2180 non-null   float64\n",
            " 8   exang     2180 non-null   object \n",
            " 9   oldpeak   2181 non-null   float64\n",
            " 10  slope     1972 non-null   object \n",
            " 11  ca        1862 non-null   object \n",
            " 12  thal      1765 non-null   object \n",
            " 13  target    2181 non-null   object \n",
            "dtypes: float64(4), int64(1), object(9)\n",
            "memory usage: 238.7+ KB\n"
          ]
        }
      ]
    },
    {
      "cell_type": "markdown",
      "source": [
        "Percentual de dados perdidos por coluna"
      ],
      "metadata": {
        "id": "2PQd-bkv4Z0y"
      }
    },
    {
      "cell_type": "code",
      "source": [
        "# Percentages of missing values\n",
        "\n",
        "print(\"Percentual de dados perdidos por variável:\")\n",
        "round(100 * df.isnull().sum() / len(df), 2)"
      ],
      "metadata": {
        "id": "2yQpAfWqpATB",
        "colab": {
          "base_uri": "https://localhost:8080/",
          "height": 540
        },
        "outputId": "52318155-056c-4034-aa9c-57dd25f45c2d"
      },
      "execution_count": 56,
      "outputs": [
        {
          "output_type": "stream",
          "name": "stdout",
          "text": [
            "Percentual de dados perdidos por variável:\n"
          ]
        },
        {
          "output_type": "execute_result",
          "data": {
            "text/plain": [
              "age          0.00\n",
              "sex          0.00\n",
              "cp          11.55\n",
              "trestbps     0.05\n",
              "chol         1.05\n",
              "fbs          0.37\n",
              "restecg      0.05\n",
              "thalachh     0.05\n",
              "exang        0.05\n",
              "oldpeak      0.00\n",
              "slope        9.58\n",
              "ca          14.63\n",
              "thal        19.07\n",
              "target       0.00\n",
              "dtype: float64"
            ],
            "text/html": [
              "<div>\n",
              "<style scoped>\n",
              "    .dataframe tbody tr th:only-of-type {\n",
              "        vertical-align: middle;\n",
              "    }\n",
              "\n",
              "    .dataframe tbody tr th {\n",
              "        vertical-align: top;\n",
              "    }\n",
              "\n",
              "    .dataframe thead th {\n",
              "        text-align: right;\n",
              "    }\n",
              "</style>\n",
              "<table border=\"1\" class=\"dataframe\">\n",
              "  <thead>\n",
              "    <tr style=\"text-align: right;\">\n",
              "      <th></th>\n",
              "      <th>0</th>\n",
              "    </tr>\n",
              "  </thead>\n",
              "  <tbody>\n",
              "    <tr>\n",
              "      <th>age</th>\n",
              "      <td>0.00</td>\n",
              "    </tr>\n",
              "    <tr>\n",
              "      <th>sex</th>\n",
              "      <td>0.00</td>\n",
              "    </tr>\n",
              "    <tr>\n",
              "      <th>cp</th>\n",
              "      <td>11.55</td>\n",
              "    </tr>\n",
              "    <tr>\n",
              "      <th>trestbps</th>\n",
              "      <td>0.05</td>\n",
              "    </tr>\n",
              "    <tr>\n",
              "      <th>chol</th>\n",
              "      <td>1.05</td>\n",
              "    </tr>\n",
              "    <tr>\n",
              "      <th>fbs</th>\n",
              "      <td>0.37</td>\n",
              "    </tr>\n",
              "    <tr>\n",
              "      <th>restecg</th>\n",
              "      <td>0.05</td>\n",
              "    </tr>\n",
              "    <tr>\n",
              "      <th>thalachh</th>\n",
              "      <td>0.05</td>\n",
              "    </tr>\n",
              "    <tr>\n",
              "      <th>exang</th>\n",
              "      <td>0.05</td>\n",
              "    </tr>\n",
              "    <tr>\n",
              "      <th>oldpeak</th>\n",
              "      <td>0.00</td>\n",
              "    </tr>\n",
              "    <tr>\n",
              "      <th>slope</th>\n",
              "      <td>9.58</td>\n",
              "    </tr>\n",
              "    <tr>\n",
              "      <th>ca</th>\n",
              "      <td>14.63</td>\n",
              "    </tr>\n",
              "    <tr>\n",
              "      <th>thal</th>\n",
              "      <td>19.07</td>\n",
              "    </tr>\n",
              "    <tr>\n",
              "      <th>target</th>\n",
              "      <td>0.00</td>\n",
              "    </tr>\n",
              "  </tbody>\n",
              "</table>\n",
              "</div><br><label><b>dtype:</b> float64</label>"
            ]
          },
          "metadata": {},
          "execution_count": 56
        }
      ]
    },
    {
      "cell_type": "markdown",
      "source": [
        "As classes a seguir possuem uma baixa perda de valores, sendo assim a correção será feita aplicando a mediana para valores numéricos e a moda para valores categoricos."
      ],
      "metadata": {
        "id": "-bRLyeB2p8qP"
      }
    },
    {
      "cell_type": "code",
      "source": [
        "# Replacing numerical missing values by median\n",
        "df.fillna(value = df[[\"trestbps\", \"chol\", \"thalachh\"]].median(), inplace = True)\n",
        "\n",
        "# Replacing categorical missing values by mode\n",
        "df[\"fbs\"] = df[\"fbs\"].fillna(value = df[\"fbs\"].mode()[0])\n",
        "df[\"restecg\"] = df[\"restecg\"].fillna(value = df[\"restecg\"].mode()[0])\n",
        "df[\"exang\"] = df[\"exang\"].fillna(value = df[\"exang\"].mode()[0])"
      ],
      "metadata": {
        "id": "4EI3zLvlpsPG"
      },
      "execution_count": 57,
      "outputs": []
    },
    {
      "cell_type": "markdown",
      "source": [
        "Algumas observações podem ter muitos valores ausentes em colunas diferentes. Não deve substituí-los diretamente, pois isso pode inserir vieses nos dados trabalhados, será feita a verificação das observações que possuem valores ausentes em pelo menos duas colunas e em seguida será feita a sua exclusão."
      ],
      "metadata": {
        "id": "PL3kU-l3qQ4f"
      }
    },
    {
      "cell_type": "code",
      "source": [
        "# List of columns with missing values\n",
        "missing_features = [\"cp\", \"slope\", \"ca\", \"thal\"]\n",
        "\n",
        "# For each variale\n",
        "for first_miss in missing_features:\n",
        "    # Check another variable\n",
        "    for second_miss in missing_features:\n",
        "        # Make sure those variables are different\n",
        "        if first_miss != second_miss:\n",
        "            # Get index of observations to drop\n",
        "            index_to_drop = (df[(df[first_miss].isnull())\n",
        "                             & (df[second_miss].isnull())].index)\n",
        "            # Drop missing data\n",
        "            df.drop(index_to_drop, axis = 'index', inplace = True)\n",
        "\n",
        "# Percentages of missing values\n",
        "round(100 * df.isnull().sum() / len(df), 2)"
      ],
      "metadata": {
        "id": "m05ILIjMp5Wl",
        "colab": {
          "base_uri": "https://localhost:8080/",
          "height": 523
        },
        "outputId": "3c594a48-66a6-4cfd-8268-0369c28c63e1"
      },
      "execution_count": 58,
      "outputs": [
        {
          "output_type": "execute_result",
          "data": {
            "text/plain": [
              "age         0.00\n",
              "sex         0.00\n",
              "cp          2.71\n",
              "trestbps    0.00\n",
              "chol        0.00\n",
              "fbs         0.00\n",
              "restecg     0.00\n",
              "thalachh    0.00\n",
              "exang       0.00\n",
              "oldpeak     0.00\n",
              "slope       0.28\n",
              "ca          1.66\n",
              "thal        2.60\n",
              "target      0.00\n",
              "dtype: float64"
            ],
            "text/html": [
              "<div>\n",
              "<style scoped>\n",
              "    .dataframe tbody tr th:only-of-type {\n",
              "        vertical-align: middle;\n",
              "    }\n",
              "\n",
              "    .dataframe tbody tr th {\n",
              "        vertical-align: top;\n",
              "    }\n",
              "\n",
              "    .dataframe thead th {\n",
              "        text-align: right;\n",
              "    }\n",
              "</style>\n",
              "<table border=\"1\" class=\"dataframe\">\n",
              "  <thead>\n",
              "    <tr style=\"text-align: right;\">\n",
              "      <th></th>\n",
              "      <th>0</th>\n",
              "    </tr>\n",
              "  </thead>\n",
              "  <tbody>\n",
              "    <tr>\n",
              "      <th>age</th>\n",
              "      <td>0.00</td>\n",
              "    </tr>\n",
              "    <tr>\n",
              "      <th>sex</th>\n",
              "      <td>0.00</td>\n",
              "    </tr>\n",
              "    <tr>\n",
              "      <th>cp</th>\n",
              "      <td>2.71</td>\n",
              "    </tr>\n",
              "    <tr>\n",
              "      <th>trestbps</th>\n",
              "      <td>0.00</td>\n",
              "    </tr>\n",
              "    <tr>\n",
              "      <th>chol</th>\n",
              "      <td>0.00</td>\n",
              "    </tr>\n",
              "    <tr>\n",
              "      <th>fbs</th>\n",
              "      <td>0.00</td>\n",
              "    </tr>\n",
              "    <tr>\n",
              "      <th>restecg</th>\n",
              "      <td>0.00</td>\n",
              "    </tr>\n",
              "    <tr>\n",
              "      <th>thalachh</th>\n",
              "      <td>0.00</td>\n",
              "    </tr>\n",
              "    <tr>\n",
              "      <th>exang</th>\n",
              "      <td>0.00</td>\n",
              "    </tr>\n",
              "    <tr>\n",
              "      <th>oldpeak</th>\n",
              "      <td>0.00</td>\n",
              "    </tr>\n",
              "    <tr>\n",
              "      <th>slope</th>\n",
              "      <td>0.28</td>\n",
              "    </tr>\n",
              "    <tr>\n",
              "      <th>ca</th>\n",
              "      <td>1.66</td>\n",
              "    </tr>\n",
              "    <tr>\n",
              "      <th>thal</th>\n",
              "      <td>2.60</td>\n",
              "    </tr>\n",
              "    <tr>\n",
              "      <th>target</th>\n",
              "      <td>0.00</td>\n",
              "    </tr>\n",
              "  </tbody>\n",
              "</table>\n",
              "</div><br><label><b>dtype:</b> float64</label>"
            ]
          },
          "metadata": {},
          "execution_count": 58
        }
      ]
    },
    {
      "cell_type": "code",
      "source": [
        "# Replacing categorical missing values by mode\n",
        "df[\"cp\"] = df[\"cp\"].fillna(value = df[\"cp\"].mode()[0])\n",
        "df[\"slope\"] = df[\"slope\"].fillna(value = df[\"slope\"].mode()[0])\n",
        "df[\"ca\"] = df[\"ca\"].fillna(value = df[\"ca\"].mode()[0])\n",
        "df[\"thal\"] = df[\"thal\"].fillna(value = df[\"thal\"].mode()[0])"
      ],
      "metadata": {
        "id": "ps3o0dwIrEhs"
      },
      "execution_count": 59,
      "outputs": []
    },
    {
      "cell_type": "code",
      "source": [
        "# Count of missing values\n",
        "df.isnull().sum()"
      ],
      "metadata": {
        "id": "gUK1t5lkrHV9",
        "colab": {
          "base_uri": "https://localhost:8080/",
          "height": 523
        },
        "outputId": "def6f2da-db5f-42f8-dc92-59ad554211fb"
      },
      "execution_count": 60,
      "outputs": [
        {
          "output_type": "execute_result",
          "data": {
            "text/plain": [
              "age         0\n",
              "sex         0\n",
              "cp          0\n",
              "trestbps    0\n",
              "chol        0\n",
              "fbs         0\n",
              "restecg     0\n",
              "thalachh    0\n",
              "exang       0\n",
              "oldpeak     0\n",
              "slope       0\n",
              "ca          0\n",
              "thal        0\n",
              "target      0\n",
              "dtype: int64"
            ],
            "text/html": [
              "<div>\n",
              "<style scoped>\n",
              "    .dataframe tbody tr th:only-of-type {\n",
              "        vertical-align: middle;\n",
              "    }\n",
              "\n",
              "    .dataframe tbody tr th {\n",
              "        vertical-align: top;\n",
              "    }\n",
              "\n",
              "    .dataframe thead th {\n",
              "        text-align: right;\n",
              "    }\n",
              "</style>\n",
              "<table border=\"1\" class=\"dataframe\">\n",
              "  <thead>\n",
              "    <tr style=\"text-align: right;\">\n",
              "      <th></th>\n",
              "      <th>0</th>\n",
              "    </tr>\n",
              "  </thead>\n",
              "  <tbody>\n",
              "    <tr>\n",
              "      <th>age</th>\n",
              "      <td>0</td>\n",
              "    </tr>\n",
              "    <tr>\n",
              "      <th>sex</th>\n",
              "      <td>0</td>\n",
              "    </tr>\n",
              "    <tr>\n",
              "      <th>cp</th>\n",
              "      <td>0</td>\n",
              "    </tr>\n",
              "    <tr>\n",
              "      <th>trestbps</th>\n",
              "      <td>0</td>\n",
              "    </tr>\n",
              "    <tr>\n",
              "      <th>chol</th>\n",
              "      <td>0</td>\n",
              "    </tr>\n",
              "    <tr>\n",
              "      <th>fbs</th>\n",
              "      <td>0</td>\n",
              "    </tr>\n",
              "    <tr>\n",
              "      <th>restecg</th>\n",
              "      <td>0</td>\n",
              "    </tr>\n",
              "    <tr>\n",
              "      <th>thalachh</th>\n",
              "      <td>0</td>\n",
              "    </tr>\n",
              "    <tr>\n",
              "      <th>exang</th>\n",
              "      <td>0</td>\n",
              "    </tr>\n",
              "    <tr>\n",
              "      <th>oldpeak</th>\n",
              "      <td>0</td>\n",
              "    </tr>\n",
              "    <tr>\n",
              "      <th>slope</th>\n",
              "      <td>0</td>\n",
              "    </tr>\n",
              "    <tr>\n",
              "      <th>ca</th>\n",
              "      <td>0</td>\n",
              "    </tr>\n",
              "    <tr>\n",
              "      <th>thal</th>\n",
              "      <td>0</td>\n",
              "    </tr>\n",
              "    <tr>\n",
              "      <th>target</th>\n",
              "      <td>0</td>\n",
              "    </tr>\n",
              "  </tbody>\n",
              "</table>\n",
              "</div><br><label><b>dtype:</b> int64</label>"
            ]
          },
          "metadata": {},
          "execution_count": 60
        }
      ]
    },
    {
      "cell_type": "markdown",
      "source": [
        "Codificação da feature de classificação do problema (\"target\")."
      ],
      "metadata": {
        "id": "MphGqhQ13wti"
      }
    },
    {
      "cell_type": "code",
      "source": [
        "# Target encoding\n",
        "df[\"target\"] = (df[\"target\"] == \"disease\").astype(int)"
      ],
      "metadata": {
        "id": "ouDLkyfEuxZH"
      },
      "execution_count": 61,
      "outputs": []
    },
    {
      "cell_type": "code",
      "source": [
        "df.info()"
      ],
      "metadata": {
        "id": "mDHx-cgNu0Jj",
        "colab": {
          "base_uri": "https://localhost:8080/"
        },
        "outputId": "8be73f77-ff30-4bff-b8ca-ddbc709057f5"
      },
      "execution_count": 62,
      "outputs": [
        {
          "output_type": "stream",
          "name": "stdout",
          "text": [
            "<class 'pandas.core.frame.DataFrame'>\n",
            "Index: 1805 entries, 0 to 2180\n",
            "Data columns (total 14 columns):\n",
            " #   Column    Non-Null Count  Dtype  \n",
            "---  ------    --------------  -----  \n",
            " 0   age       1805 non-null   int64  \n",
            " 1   sex       1805 non-null   object \n",
            " 2   cp        1805 non-null   object \n",
            " 3   trestbps  1805 non-null   float64\n",
            " 4   chol      1805 non-null   float64\n",
            " 5   fbs       1805 non-null   object \n",
            " 6   restecg   1805 non-null   object \n",
            " 7   thalachh  1805 non-null   float64\n",
            " 8   exang     1805 non-null   object \n",
            " 9   oldpeak   1805 non-null   float64\n",
            " 10  slope     1805 non-null   object \n",
            " 11  ca        1805 non-null   object \n",
            " 12  thal      1805 non-null   object \n",
            " 13  target    1805 non-null   int64  \n",
            "dtypes: float64(4), int64(2), object(8)\n",
            "memory usage: 211.5+ KB\n"
          ]
        }
      ]
    },
    {
      "cell_type": "code",
      "source": [
        "run.finish()"
      ],
      "metadata": {
        "colab": {
          "base_uri": "https://localhost:8080/",
          "height": 86
        },
        "id": "OTAw5VJoG3iv",
        "outputId": "ab4475be-aceb-43c1-aa29-ff07f4b40952"
      },
      "execution_count": 52,
      "outputs": [
        {
          "output_type": "display_data",
          "data": {
            "text/plain": [
              "<IPython.core.display.HTML object>"
            ],
            "text/html": []
          },
          "metadata": {}
        },
        {
          "output_type": "display_data",
          "data": {
            "text/plain": [
              "<IPython.core.display.HTML object>"
            ],
            "text/html": [
              " View run <strong style=\"color:#cdcd00\">stoic-jazz-100</strong> at: <a href='https://wandb.ai/guilherme-silva-096-ufrn/Heart_Disease/runs/lvgp4xjh' target=\"_blank\">https://wandb.ai/guilherme-silva-096-ufrn/Heart_Disease/runs/lvgp4xjh</a><br> View project at: <a href='https://wandb.ai/guilherme-silva-096-ufrn/Heart_Disease' target=\"_blank\">https://wandb.ai/guilherme-silva-096-ufrn/Heart_Disease</a><br>Synced 5 W&B file(s), 0 media file(s), 0 artifact file(s) and 0 other file(s)"
            ]
          },
          "metadata": {}
        },
        {
          "output_type": "display_data",
          "data": {
            "text/plain": [
              "<IPython.core.display.HTML object>"
            ],
            "text/html": [
              "Find logs at: <code>./wandb/run-20250515_132258-lvgp4xjh/logs</code>"
            ]
          },
          "metadata": {}
        }
      ]
    },
    {
      "cell_type": "markdown",
      "source": [
        "## **Realização do Pre-Processing**\n",
        "\n",
        "Ele deve ser feito junto a etapa acima."
      ],
      "metadata": {
        "id": "qFADI-kQvrKa"
      }
    },
    {
      "cell_type": "code",
      "source": [
        "!wandb login --relogin"
      ],
      "metadata": {
        "id": "d__eRYjG-r6i"
      },
      "execution_count": null,
      "outputs": []
    },
    {
      "cell_type": "code",
      "source": [
        "input_artifact=\"Heart_Disease/raw_data.csv:latest\"\n",
        "artifact_name=\"preprocessed_data.csv\"\n",
        "artifact_type=\"clean_data\"\n",
        "artifact_description=\"Data after preprocessing\""
      ],
      "metadata": {
        "id": "aBspKx1rvy6F"
      },
      "execution_count": 69,
      "outputs": []
    },
    {
      "cell_type": "code",
      "source": [
        "# create a new job_type\n",
        "run = wandb.init(project=\"Heart_Disease\", job_type=\"process_data\")"
      ],
      "metadata": {
        "id": "2puv__XXxtz6",
        "colab": {
          "base_uri": "https://localhost:8080/",
          "height": 191
        },
        "outputId": "c5a81a1e-c79c-4720-d3bb-f9e3c1dec8c2"
      },
      "execution_count": 49,
      "outputs": [
        {
          "output_type": "display_data",
          "data": {
            "text/plain": [
              "<IPython.core.display.HTML object>"
            ],
            "text/html": [
              "Finishing previous runs because reinit is set to 'default'."
            ]
          },
          "metadata": {}
        },
        {
          "output_type": "display_data",
          "data": {
            "text/plain": [
              "<IPython.core.display.HTML object>"
            ],
            "text/html": []
          },
          "metadata": {}
        },
        {
          "output_type": "display_data",
          "data": {
            "text/plain": [
              "<IPython.core.display.HTML object>"
            ],
            "text/html": [
              " View run <strong style=\"color:#cdcd00\">dark-sound-99</strong> at: <a href='https://wandb.ai/guilherme-silva-096-ufrn/Heart_Disease/runs/2vdehq5d' target=\"_blank\">https://wandb.ai/guilherme-silva-096-ufrn/Heart_Disease/runs/2vdehq5d</a><br> View project at: <a href='https://wandb.ai/guilherme-silva-096-ufrn/Heart_Disease' target=\"_blank\">https://wandb.ai/guilherme-silva-096-ufrn/Heart_Disease</a><br>Synced 5 W&B file(s), 0 media file(s), 0 artifact file(s) and 0 other file(s)"
            ]
          },
          "metadata": {}
        },
        {
          "output_type": "display_data",
          "data": {
            "text/plain": [
              "<IPython.core.display.HTML object>"
            ],
            "text/html": [
              "Find logs at: <code>./wandb/run-20250515_132235-2vdehq5d/logs</code>"
            ]
          },
          "metadata": {}
        },
        {
          "output_type": "display_data",
          "data": {
            "text/plain": [
              "<IPython.core.display.HTML object>"
            ],
            "text/html": [
              "Tracking run with wandb version 0.19.11"
            ]
          },
          "metadata": {}
        },
        {
          "output_type": "display_data",
          "data": {
            "text/plain": [
              "<IPython.core.display.HTML object>"
            ],
            "text/html": [
              "Run data is saved locally in <code>/content/wandb/run-20250515_132258-lvgp4xjh</code>"
            ]
          },
          "metadata": {}
        },
        {
          "output_type": "display_data",
          "data": {
            "text/plain": [
              "<IPython.core.display.HTML object>"
            ],
            "text/html": [
              "Syncing run <strong><a href='https://wandb.ai/guilherme-silva-096-ufrn/Heart_Disease/runs/lvgp4xjh' target=\"_blank\">stoic-jazz-100</a></strong> to <a href='https://wandb.ai/guilherme-silva-096-ufrn/Heart_Disease' target=\"_blank\">Weights & Biases</a> (<a href='https://wandb.me/developer-guide' target=\"_blank\">docs</a>)<br>"
            ]
          },
          "metadata": {}
        },
        {
          "output_type": "display_data",
          "data": {
            "text/plain": [
              "<IPython.core.display.HTML object>"
            ],
            "text/html": [
              " View project at <a href='https://wandb.ai/guilherme-silva-096-ufrn/Heart_Disease' target=\"_blank\">https://wandb.ai/guilherme-silva-096-ufrn/Heart_Disease</a>"
            ]
          },
          "metadata": {}
        },
        {
          "output_type": "display_data",
          "data": {
            "text/plain": [
              "<IPython.core.display.HTML object>"
            ],
            "text/html": [
              " View run at <a href='https://wandb.ai/guilherme-silva-096-ufrn/Heart_Disease/runs/lvgp4xjh' target=\"_blank\">https://wandb.ai/guilherme-silva-096-ufrn/Heart_Disease/runs/lvgp4xjh</a>"
            ]
          },
          "metadata": {}
        }
      ]
    },
    {
      "cell_type": "code",
      "source": [
        "# donwload the latest version of artifact raw_data.csv\n",
        "artifact = run.use_artifact(input_artifact)"
      ],
      "metadata": {
        "id": "2Izywly-x5Sp"
      },
      "execution_count": 64,
      "outputs": []
    },
    {
      "cell_type": "markdown",
      "source": [
        "Visualização do DataSet"
      ],
      "metadata": {
        "id": "mdX_Jzi3G9mc"
      }
    },
    {
      "cell_type": "code",
      "source": [
        "df.info()"
      ],
      "metadata": {
        "id": "7Kz3_xFBZY6w",
        "colab": {
          "base_uri": "https://localhost:8080/"
        },
        "outputId": "b8a40181-ac6f-4f11-9603-82e432ff7b00"
      },
      "execution_count": 65,
      "outputs": [
        {
          "output_type": "stream",
          "name": "stdout",
          "text": [
            "<class 'pandas.core.frame.DataFrame'>\n",
            "Index: 1805 entries, 0 to 2180\n",
            "Data columns (total 14 columns):\n",
            " #   Column    Non-Null Count  Dtype  \n",
            "---  ------    --------------  -----  \n",
            " 0   age       1805 non-null   int64  \n",
            " 1   sex       1805 non-null   object \n",
            " 2   cp        1805 non-null   object \n",
            " 3   trestbps  1805 non-null   float64\n",
            " 4   chol      1805 non-null   float64\n",
            " 5   fbs       1805 non-null   object \n",
            " 6   restecg   1805 non-null   object \n",
            " 7   thalachh  1805 non-null   float64\n",
            " 8   exang     1805 non-null   object \n",
            " 9   oldpeak   1805 non-null   float64\n",
            " 10  slope     1805 non-null   object \n",
            " 11  ca        1805 non-null   object \n",
            " 12  thal      1805 non-null   object \n",
            " 13  target    1805 non-null   int64  \n",
            "dtypes: float64(4), int64(2), object(8)\n",
            "memory usage: 211.5+ KB\n"
          ]
        }
      ]
    },
    {
      "cell_type": "markdown",
      "source": [
        "Quantitativo de repetições de dados catalogados."
      ],
      "metadata": {
        "id": "CnlBQ7qP3_Ug"
      }
    },
    {
      "cell_type": "code",
      "source": [
        "df.duplicated().sum()"
      ],
      "metadata": {
        "id": "nTNQkYg6aym3",
        "colab": {
          "base_uri": "https://localhost:8080/"
        },
        "outputId": "281eadcd-def4-409c-e45b-5f8f74fd9beb"
      },
      "execution_count": 66,
      "outputs": [
        {
          "output_type": "execute_result",
          "data": {
            "text/plain": [
              "np.int64(1286)"
            ]
          },
          "metadata": {},
          "execution_count": 66
        }
      ]
    },
    {
      "cell_type": "code",
      "source": [
        "# Delete duplicated rows\n",
        "df.drop_duplicates(inplace=True)\n",
        "\n",
        "df.info()"
      ],
      "metadata": {
        "id": "WeLnlsAhyLaJ",
        "colab": {
          "base_uri": "https://localhost:8080/"
        },
        "outputId": "94852dcd-e521-4558-d9c8-09622842882f"
      },
      "execution_count": 67,
      "outputs": [
        {
          "output_type": "stream",
          "name": "stdout",
          "text": [
            "<class 'pandas.core.frame.DataFrame'>\n",
            "Index: 519 entries, 0 to 2180\n",
            "Data columns (total 14 columns):\n",
            " #   Column    Non-Null Count  Dtype  \n",
            "---  ------    --------------  -----  \n",
            " 0   age       519 non-null    int64  \n",
            " 1   sex       519 non-null    object \n",
            " 2   cp        519 non-null    object \n",
            " 3   trestbps  519 non-null    float64\n",
            " 4   chol      519 non-null    float64\n",
            " 5   fbs       519 non-null    object \n",
            " 6   restecg   519 non-null    object \n",
            " 7   thalachh  519 non-null    float64\n",
            " 8   exang     519 non-null    object \n",
            " 9   oldpeak   519 non-null    float64\n",
            " 10  slope     519 non-null    object \n",
            " 11  ca        519 non-null    object \n",
            " 12  thal      519 non-null    object \n",
            " 13  target    519 non-null    int64  \n",
            "dtypes: float64(4), int64(2), object(8)\n",
            "memory usage: 60.8+ KB\n"
          ]
        }
      ]
    },
    {
      "cell_type": "markdown",
      "source": [
        "### Envio do Dataset limpo para o wandb"
      ],
      "metadata": {
        "id": "01B1NxMn4VWh"
      }
    },
    {
      "cell_type": "code",
      "source": [
        "# Generate a \"clean data file\"\n",
        "df.to_csv(artifact_name,index=False)"
      ],
      "metadata": {
        "id": "mQ_CoLwpZQR_"
      },
      "execution_count": 71,
      "outputs": []
    },
    {
      "cell_type": "code",
      "source": [
        "# Create a new artifact and configure with the necessary arguments\n",
        "artifact = wandb.Artifact(name=artifact_name,\n",
        "                          type=artifact_type,\n",
        "                          description=artifact_description)\n",
        "artifact.add_file(artifact_name)\n",
        "\n",
        "# Upload the artifact to Wandb\n",
        "run.log_artifact(artifact)"
      ],
      "metadata": {
        "id": "AMmU0R46yE1O",
        "colab": {
          "base_uri": "https://localhost:8080/"
        },
        "outputId": "bd22519e-8ed0-4e10-b12e-9c34b333eba8"
      },
      "execution_count": 72,
      "outputs": [
        {
          "output_type": "execute_result",
          "data": {
            "text/plain": [
              "<Artifact preprocessed_data.csv>"
            ]
          },
          "metadata": {},
          "execution_count": 72
        }
      ]
    },
    {
      "cell_type": "code",
      "source": [
        "# close the run\n",
        "# waiting a while after run the previous cell before execute this\n",
        "run.finish()"
      ],
      "metadata": {
        "id": "lFll4moMydaK",
        "colab": {
          "base_uri": "https://localhost:8080/",
          "height": 86
        },
        "outputId": "70246069-8190-4c37-ca8d-8776d71b03f8"
      },
      "execution_count": 73,
      "outputs": [
        {
          "output_type": "display_data",
          "data": {
            "text/plain": [
              "<IPython.core.display.HTML object>"
            ],
            "text/html": []
          },
          "metadata": {}
        },
        {
          "output_type": "display_data",
          "data": {
            "text/plain": [
              "<IPython.core.display.HTML object>"
            ],
            "text/html": [
              " View run <strong style=\"color:#cdcd00\">golden-leaf-101</strong> at: <a href='https://wandb.ai/guilherme-silva-096-ufrn/Heart_Disease/runs/xquoga8j' target=\"_blank\">https://wandb.ai/guilherme-silva-096-ufrn/Heart_Disease/runs/xquoga8j</a><br> View project at: <a href='https://wandb.ai/guilherme-silva-096-ufrn/Heart_Disease' target=\"_blank\">https://wandb.ai/guilherme-silva-096-ufrn/Heart_Disease</a><br>Synced 5 W&B file(s), 0 media file(s), 40 artifact file(s) and 0 other file(s)"
            ]
          },
          "metadata": {}
        },
        {
          "output_type": "display_data",
          "data": {
            "text/plain": [
              "<IPython.core.display.HTML object>"
            ],
            "text/html": [
              "Find logs at: <code>./wandb/run-20250515_132539-xquoga8j/logs</code>"
            ]
          },
          "metadata": {}
        }
      ]
    },
    {
      "cell_type": "markdown",
      "source": [
        "## **Realização do Data Check com *pytest***"
      ],
      "metadata": {
        "id": "ye2P7ISR1zXc"
      }
    },
    {
      "cell_type": "code",
      "source": [
        "# Login to Weights & Biases\n",
        "!wandb login --relogin"
      ],
      "metadata": {
        "id": "hhXxsHmmDzHN",
        "colab": {
          "base_uri": "https://localhost:8080/"
        },
        "outputId": "14b592bb-bb46-45a6-f014-a4a31f8d4603"
      },
      "execution_count": null,
      "outputs": [
        {
          "output_type": "stream",
          "name": "stdout",
          "text": [
            "\u001b[34m\u001b[1mwandb\u001b[0m: Logging into wandb.ai. (Learn how to deploy a W&B server locally: https://wandb.me/wandb-server)\n",
            "\u001b[34m\u001b[1mwandb\u001b[0m: You can find your API key in your browser here: https://wandb.ai/authorize?ref=models\n",
            "\u001b[34m\u001b[1mwandb\u001b[0m: Paste an API key from your profile and hit enter, or press ctrl+c to quit: \n",
            "\u001b[34m\u001b[1mwandb\u001b[0m: Appending key for api.wandb.ai to your netrc file: /root/.netrc\n",
            "\u001b[34m\u001b[1mwandb\u001b[0m: W&B API key is configured. Use \u001b[1m`wandb login --relogin`\u001b[0m to force relogin\n"
          ]
        }
      ]
    },
    {
      "cell_type": "code",
      "source": [
        "%%file test_data.py\n",
        "import pytest\n",
        "import wandb\n",
        "import pandas as pd\n",
        "\n",
        "\n",
        "# This is global so all tests are collected under the same run\n",
        "run = wandb.init(project=\"Heart_Disease\", job_type=\"data_checks\")\n",
        "\n",
        "@pytest.fixture(scope=\"session\")\n",
        "def data():\n",
        "\n",
        "    local_path = run.use_artifact(\"Heart_Disease/preprocessed_data.csv:latest\").file()\n",
        "    df = pd.read_csv(local_path)\n",
        "\n",
        "    return df\n",
        "\n",
        "def test_data_length(data):\n",
        "    \"\"\"\n",
        "    We test that we have enough data to continue\n",
        "    \"\"\"\n",
        "    assert len(data) > 500\n",
        "\n",
        "\n",
        "def test_number_of_columns(data):\n",
        "    \"\"\"\n",
        "    We test that we have enough data to continue\n",
        "    \"\"\"\n",
        "    assert data.shape[1] == 14\n",
        "\n",
        "def test_column_presence_and_type(data):\n",
        "\n",
        "    required_columns = {\n",
        "        \"age\": pd.api.types.is_int64_dtype,\n",
        "        \"sex\": pd.api.types.is_object_dtype,\n",
        "        \"cp\": pd.api.types.is_object_dtype,\n",
        "        \"trestbps\": pd.api.types.is_float_dtype,\n",
        "        \"chol\": pd.api.types.is_float_dtype,\n",
        "        \"fbs\": pd.api.types.is_object_dtype,\n",
        "        \"restecg\": pd.api.types.is_object_dtype,\n",
        "        \"thalachh\": pd.api.types.is_float_dtype,\n",
        "        \"exang\": pd.api.types.is_object_dtype,\n",
        "        \"oldpeak\": pd.api.types.is_float_dtype,\n",
        "        \"slope\": pd.api.types.is_object_dtype,\n",
        "        \"ca\": pd.api.types.is_object_dtype,\n",
        "        \"thal\": pd.api.types.is_object_dtype,\n",
        "        \"target\": pd.api.types.is_int64_dtype\n",
        "    }\n",
        "\n",
        "    # Check column presence\n",
        "    assert set(data.columns.values).issuperset(set(required_columns.keys()))\n",
        "\n",
        "    for col_name, format_verification_funct in required_columns.items():\n",
        "\n",
        "        assert format_verification_funct(data[col_name]), f\"Column {col_name} failed test {format_verification_funct}\"\n",
        "\n",
        "\n",
        "def test_class_names(data):\n",
        "\n",
        "    # Check that only the known classes are present\n",
        "    known_classes = [\n",
        "        0,\n",
        "        1\n",
        "    ]\n",
        "\n",
        "    assert data[\"target\"].isin(known_classes).all()\n",
        "\n",
        "\n",
        "def test_column_ranges(data):\n",
        "\n",
        "    ranges = {\n",
        "        \"age\": (28, 77),\n",
        "        \"trestbps\": (92, 200),\n",
        "        \"chol\": (85, 603),\n",
        "        \"thalachh\": (71, 202),\n",
        "        \"oldpeak\": (0, 6.2)\n",
        "    }\n",
        "\n",
        "    for col_name, (minimum, maximum) in ranges.items():\n",
        "\n",
        "        assert data[col_name].dropna().between(minimum, maximum).all(), (\n",
        "            f\"Column {col_name} failed the test. Should be between {minimum} and {maximum}, \"\n",
        "            f\"instead min={data[col_name].min()} and max={data[col_name].max()}\"\n",
        "        )"
      ],
      "metadata": {
        "id": "guhWTnKK19pI",
        "colab": {
          "base_uri": "https://localhost:8080/"
        },
        "outputId": "592f3535-665f-4aa1-e3a5-d84e0e911523"
      },
      "execution_count": 74,
      "outputs": [
        {
          "output_type": "stream",
          "name": "stdout",
          "text": [
            "Writing test_data.py\n"
          ]
        }
      ]
    },
    {
      "cell_type": "code",
      "source": [
        "!pytest . -vv"
      ],
      "metadata": {
        "id": "DAdAJR8TUBAm",
        "colab": {
          "base_uri": "https://localhost:8080/"
        },
        "outputId": "db799175-5667-4f11-b3c8-b7b71a583973"
      },
      "execution_count": 75,
      "outputs": [
        {
          "output_type": "stream",
          "name": "stdout",
          "text": [
            "\u001b[1mTest session starts (platform: linux, Python 3.11.12, pytest 8.3.5, pytest-sugar 1.0.0)\u001b[0m\n",
            "cachedir: .pytest_cache\n",
            "rootdir: /content\n",
            "plugins: sugar-1.0.0, langsmith-0.3.42, anyio-4.9.0, typeguard-4.4.2\n",
            "collected 5 items                                                              \u001b[0m\n",
            "\n",
            " \u001b[36mtest_data.py\u001b[0m::test_data_length\u001b[0m \u001b[32m✓\u001b[0m                                 \u001b[32m20% \u001b[0m\u001b[40m\u001b[32m█\u001b[0m\u001b[40m\u001b[32m█        \u001b[0m\n",
            " \u001b[36mtest_data.py\u001b[0m::test_number_of_columns\u001b[0m \u001b[32m✓\u001b[0m                           \u001b[32m40% \u001b[0m\u001b[40m\u001b[32m█\u001b[0m\u001b[40m\u001b[32m█\u001b[0m\u001b[40m\u001b[32m█\u001b[0m\u001b[40m\u001b[32m█      \u001b[0m\n",
            " \u001b[36mtest_data.py\u001b[0m::test_column_presence_and_type\u001b[0m \u001b[32m✓\u001b[0m                    \u001b[32m60% \u001b[0m\u001b[40m\u001b[32m█\u001b[0m\u001b[40m\u001b[32m█\u001b[0m\u001b[40m\u001b[32m█\u001b[0m\u001b[40m\u001b[32m█\u001b[0m\u001b[40m\u001b[32m█\u001b[0m\u001b[40m\u001b[32m█    \u001b[0m\n",
            " \u001b[36mtest_data.py\u001b[0m::test_class_names\u001b[0m \u001b[32m✓\u001b[0m                                 \u001b[32m80% \u001b[0m\u001b[40m\u001b[32m█\u001b[0m\u001b[40m\u001b[32m█\u001b[0m\u001b[40m\u001b[32m█\u001b[0m\u001b[40m\u001b[32m█\u001b[0m\u001b[40m\u001b[32m█\u001b[0m\u001b[40m\u001b[32m█\u001b[0m\u001b[40m\u001b[32m█\u001b[0m\u001b[40m\u001b[32m█  \u001b[0m\n",
            " \u001b[36mtest_data.py\u001b[0m::test_column_ranges\u001b[0m \u001b[32m✓\u001b[0m                              \u001b[32m100% \u001b[0m\u001b[40m\u001b[32m█\u001b[0m\u001b[40m\u001b[32m█\u001b[0m\u001b[40m\u001b[32m█\u001b[0m\u001b[40m\u001b[32m█\u001b[0m\u001b[40m\u001b[32m█\u001b[0m\u001b[40m\u001b[32m█\u001b[0m\u001b[40m\u001b[32m█\u001b[0m\u001b[40m\u001b[32m█\u001b[0m\u001b[40m\u001b[32m█\u001b[0m\u001b[40m\u001b[32m█\u001b[0m\n",
            "\n",
            "Results (3.79s):\n",
            "\u001b[32m       5 passed\u001b[0m\n"
          ]
        }
      ]
    },
    {
      "cell_type": "code",
      "source": [
        "# close the run\n",
        "# waiting a while after run the previous cell before execute this\n",
        "run.finish()"
      ],
      "metadata": {
        "id": "_P1LiOhIWKlU"
      },
      "execution_count": null,
      "outputs": []
    },
    {
      "cell_type": "markdown",
      "source": [
        "## **Data Segragation**\n",
        "\n",
        "Separação de dados para treinamento e teste e envio para o wandb."
      ],
      "metadata": {
        "id": "Q8O6GuAs0WRo"
      }
    },
    {
      "cell_type": "code",
      "source": [
        "# Login to Weights & Biases\n",
        "!wandb login --relogin"
      ],
      "metadata": {
        "id": "geLZ0T6O1Cr9"
      },
      "execution_count": null,
      "outputs": []
    },
    {
      "cell_type": "code",
      "source": [
        "# global variables\n",
        "\n",
        "# ratio used to split train and test data\n",
        "test_size = 0.20\n",
        "\n",
        "# seed used to reproduce purposes\n",
        "seed = 41\n",
        "\n",
        "# reference (column) to stratify the data\n",
        "stratify = \"target\"\n",
        "\n",
        "# name of the input artifact\n",
        "artifact_input_name = \"Heart_Disease/preprocessed_data.csv:latest\"\n",
        "\n",
        "# type of the artifact\n",
        "artifact_type = \"segregated_data\""
      ],
      "metadata": {
        "id": "e3qtXQMZ1H5K"
      },
      "execution_count": 76,
      "outputs": []
    },
    {
      "cell_type": "code",
      "source": [
        "# configure logging\n",
        "logging.basicConfig(level=logging.INFO,\n",
        "                    format=\"%(asctime)s %(message)s\",\n",
        "                    datefmt='%d-%m-%Y %H:%M:%S')\n",
        "\n",
        "# reference for a logging obj\n",
        "logger = logging.getLogger()\n",
        "\n",
        "# initiate wandb project\n",
        "run = wandb.init(project=\"Heart_Disease\", job_type=\"split_data\")\n",
        "\n",
        "logger.info(\"Downloading and reading artifact\")\n",
        "artifact = run.use_artifact(artifact_input_name)\n",
        "artifact_path = artifact.file()\n",
        "df = pd.read_csv(artifact_path)\n",
        "\n",
        "# Split firstly in train/test, then we further divide the dataset to train and validation\n",
        "logger.info(\"Splitting data into train and test\")\n",
        "splits = {}\n",
        "\n",
        "splits[\"train\"], splits[\"test\"] = train_test_split(df,\n",
        "                                                   test_size=test_size,\n",
        "                                                   random_state=seed,\n",
        "                                                   stratify=df[stratify])\n",
        "\n",
        "# Save the artifacts. We use a temporary directory so we do not leave any trace behind\n",
        "with tempfile.TemporaryDirectory() as tmp_dir:\n",
        "\n",
        "    for split, df in splits.items():\n",
        "\n",
        "        # Make the artifact name from the name of the split plus the provided root\n",
        "        artifact_name = f\"{split}.csv\"\n",
        "\n",
        "        # Get the path on disk within the temp directory\n",
        "        temp_path = os.path.join(tmp_dir, artifact_name)\n",
        "\n",
        "        logger.info(f\"Uploading the {split} dataset to {artifact_name}\")\n",
        "\n",
        "        # Save then upload to W&B\n",
        "        df.to_csv(temp_path,index=False)\n",
        "        artifact = wandb.Artifact(name=artifact_name,\n",
        "                                  type=artifact_type,\n",
        "                                  description=f\"{split} split of dataset {artifact_input_name}\",\n",
        "        )\n",
        "        artifact.add_file(temp_path)\n",
        "\n",
        "        logger.info(\"Logging artifact\")\n",
        "        run.log_artifact(artifact)\n",
        "\n",
        "        # This waits for the artifact to be uploaded to W&B. If you\n",
        "        # do not add this, the temp directory might be removed before\n",
        "        # W&B had a chance to upload the datasets, and the upload\n",
        "        # might fail\n",
        "        artifact.wait()"
      ],
      "metadata": {
        "id": "a9m_9E251gGT",
        "colab": {
          "base_uri": "https://localhost:8080/",
          "height": 104
        },
        "outputId": "73b81051-d1d9-4aeb-ff0f-7f47d6cb49bc"
      },
      "execution_count": 77,
      "outputs": [
        {
          "output_type": "display_data",
          "data": {
            "text/plain": [
              "<IPython.core.display.HTML object>"
            ],
            "text/html": [
              "Tracking run with wandb version 0.19.11"
            ]
          },
          "metadata": {}
        },
        {
          "output_type": "display_data",
          "data": {
            "text/plain": [
              "<IPython.core.display.HTML object>"
            ],
            "text/html": [
              "Run data is saved locally in <code>/content/wandb/run-20250515_133710-ionf1v9j</code>"
            ]
          },
          "metadata": {}
        },
        {
          "output_type": "display_data",
          "data": {
            "text/plain": [
              "<IPython.core.display.HTML object>"
            ],
            "text/html": [
              "Syncing run <strong><a href='https://wandb.ai/guilherme-silva-096-ufrn/Heart_Disease/runs/ionf1v9j' target=\"_blank\">fresh-plant-103</a></strong> to <a href='https://wandb.ai/guilherme-silva-096-ufrn/Heart_Disease' target=\"_blank\">Weights & Biases</a> (<a href='https://wandb.me/developer-guide' target=\"_blank\">docs</a>)<br>"
            ]
          },
          "metadata": {}
        },
        {
          "output_type": "display_data",
          "data": {
            "text/plain": [
              "<IPython.core.display.HTML object>"
            ],
            "text/html": [
              " View project at <a href='https://wandb.ai/guilherme-silva-096-ufrn/Heart_Disease' target=\"_blank\">https://wandb.ai/guilherme-silva-096-ufrn/Heart_Disease</a>"
            ]
          },
          "metadata": {}
        },
        {
          "output_type": "display_data",
          "data": {
            "text/plain": [
              "<IPython.core.display.HTML object>"
            ],
            "text/html": [
              " View run at <a href='https://wandb.ai/guilherme-silva-096-ufrn/Heart_Disease/runs/ionf1v9j' target=\"_blank\">https://wandb.ai/guilherme-silva-096-ufrn/Heart_Disease/runs/ionf1v9j</a>"
            ]
          },
          "metadata": {}
        }
      ]
    },
    {
      "cell_type": "code",
      "source": [
        "# close the run\n",
        "# waiting a while after run the previous cell before execute this\n",
        "run.finish()"
      ],
      "metadata": {
        "id": "8yX1cuss1hMm",
        "colab": {
          "base_uri": "https://localhost:8080/",
          "height": 86
        },
        "outputId": "5ea026ae-1efc-4298-b05d-5390b314a379"
      },
      "execution_count": 78,
      "outputs": [
        {
          "output_type": "display_data",
          "data": {
            "text/plain": [
              "<IPython.core.display.HTML object>"
            ],
            "text/html": []
          },
          "metadata": {}
        },
        {
          "output_type": "display_data",
          "data": {
            "text/plain": [
              "<IPython.core.display.HTML object>"
            ],
            "text/html": [
              " View run <strong style=\"color:#cdcd00\">fresh-plant-103</strong> at: <a href='https://wandb.ai/guilherme-silva-096-ufrn/Heart_Disease/runs/ionf1v9j' target=\"_blank\">https://wandb.ai/guilherme-silva-096-ufrn/Heart_Disease/runs/ionf1v9j</a><br> View project at: <a href='https://wandb.ai/guilherme-silva-096-ufrn/Heart_Disease' target=\"_blank\">https://wandb.ai/guilherme-silva-096-ufrn/Heart_Disease</a><br>Synced 5 W&B file(s), 0 media file(s), 0 artifact file(s) and 0 other file(s)"
            ]
          },
          "metadata": {}
        },
        {
          "output_type": "display_data",
          "data": {
            "text/plain": [
              "<IPython.core.display.HTML object>"
            ],
            "text/html": [
              "Find logs at: <code>./wandb/run-20250515_133710-ionf1v9j/logs</code>"
            ]
          },
          "metadata": {}
        }
      ]
    },
    {
      "cell_type": "markdown",
      "source": [
        "# **Implementação do Modelo em Pytorch**\n",
        "Utilizando a classe base fornecida pelo professor em\n",
        "aula, implementar a regressão logística."
      ],
      "metadata": {
        "id": "DGVLCneC-smJ"
      }
    },
    {
      "cell_type": "code",
      "source": [
        "%matplotlib inline\n",
        "plt.style.use('fivethirtyeight')"
      ],
      "metadata": {
        "id": "4it2Qt-0_GGx"
      },
      "execution_count": 79,
      "outputs": []
    },
    {
      "cell_type": "code",
      "source": [
        "class Architecture(object):\n",
        "    def __init__(self, model, loss_fn, optimizer):\n",
        "        # Aqui definimos os atributos inicialização da nossa classe\n",
        "\n",
        "        # Começamos armazenando os argumentos como atributos\n",
        "        # para usá-los mais tarde\n",
        "        self.model = model #modelo\n",
        "        self.loss_fn = loss_fn #função de perda\n",
        "        self.optimizer = optimizer #Otimizador\n",
        "        self.device = 'cuda' if torch.cuda.is_available() else 'cpu'\n",
        "        # Vamos enviar o modelo para o device ('cuda') especificado\n",
        "        self.model.to(self.device)\n",
        "\n",
        "        # Esses atributos são definidos aqui, mas como não são\n",
        "        # informados no momento da criação, mantemos o estado 'None'\n",
        "        self.train_loader = None\n",
        "        self.val_loader = None\n",
        "\n",
        "        # Esses atributos serão computados internamente\n",
        "        self.losses = []\n",
        "        self.val_losses = []\n",
        "        self.total_epochs = 0\n",
        "\n",
        "        # Criação a função train_step para o nosso modelo,\n",
        "        # função de perda e otimizador\n",
        "        # Observação: NÃO HÁ ARGUMENTOS aqui! Ele usa a classe\n",
        "        # \"attributes\" diretamente\n",
        "        self.train_step_fn = self._make_train_step_fn()\n",
        "        # Cria a função val_step para nosso modelo e perda\n",
        "        self.val_step_fn = self._make_val_step_fn()\n",
        "\n",
        "    def to(self, device):\n",
        "        # Este método permite que o usuário especifique um device diferente\n",
        "        # Ele define o atributo correspondente (a ser usado posteriormente\n",
        "        # nos mini-batches) e envia o modelo para o device\n",
        "        try:\n",
        "            self.device = device\n",
        "            self.model.to(self.device)\n",
        "        except RuntimeError:\n",
        "            self.device = 'cuda' if torch.cuda.is_available() else 'cpu'\n",
        "            print(f\"Couldn't send it to {device}, sending it to {self.device} instead.\")\n",
        "            self.model.to(self.device)\n",
        "\n",
        "    def set_loaders(self, train_loader, val_loader=None):\n",
        "        # Este método permite que o usuário defina qual train_loader (e val_loader, opcionalmente) usar.\n",
        "        # Ambos os loaders são então atribuídos aos atributos da classe.\n",
        "        # Para que possam ser referenciados posteriormente.\n",
        "        self.train_loader = train_loader\n",
        "        self.val_loader = val_loader\n",
        "\n",
        "    def _make_train_step_fn(self):\n",
        "        # Este método não precisa de argumentos... ele pode se referir aos\n",
        "        # atributos: self.model, self.loss_fn e self.optimizer\n",
        "\n",
        "        # Cria uma função que executa uma etapa no loop de treinamento\n",
        "        def perform_train_step_fn(x, y):\n",
        "            # Define o modelo para o modo de treinamento\n",
        "            self.model.train()\n",
        "\n",
        "            # Passo 1 - Computa a saída prevista do nosso modelo - forward pass\n",
        "            yhat = self.model(x)\n",
        "            # Passo 2 - Computa as perdas\n",
        "            loss = self.loss_fn(yhat, y)\n",
        "            # Passo 3 - Calcula os gradientes para os parâmetros \"a\" e \"b\"\n",
        "            loss.backward()\n",
        "            # Passo 4 - Atualiza os parâmetros usando os gradientes atualidados\n",
        "            # e a taxa de aprendizagem\n",
        "            self.optimizer.step()\n",
        "            self.optimizer.zero_grad()\n",
        "\n",
        "            # Retorna as perdas\n",
        "            return loss.item()\n",
        "\n",
        "        # Retorna a função que será chamada dentro do loop de treinamento\n",
        "        return perform_train_step_fn\n",
        "\n",
        "    def _make_val_step_fn(self):\n",
        "        # Cria uma função que executa uma etapa no loop de validação\n",
        "        def perform_val_step_fn(x, y):\n",
        "            # Define o modelo para o modo EVAL\n",
        "            self.model.eval()\n",
        "\n",
        "            # Passo 1\n",
        "            yhat = self.model(x)\n",
        "            # Passo 2\n",
        "            loss = self.loss_fn(yhat, y)\n",
        "            # Não há necessidade de calcular as etapas 3 e 4, pois não\n",
        "            # atualizamos os parâmetros durante a avaliação\n",
        "            return loss.item()\n",
        "\n",
        "        return perform_val_step_fn\n",
        "\n",
        "    def _mini_batch(self, validation=False):\n",
        "        # O mini-batch pode ser usado com ambos os loaders\n",
        "        # O argumento 'validation' define qual carregador e\n",
        "        # a função de step correspondente serão usados\n",
        "        if validation:\n",
        "            data_loader = self.val_loader\n",
        "            step_fn = self.val_step_fn\n",
        "        else:\n",
        "            data_loader = self.train_loader\n",
        "            step_fn = self.train_step_fn\n",
        "\n",
        "        if data_loader is None:\n",
        "            return None\n",
        "\n",
        "        # Uma vez que o data loader e a função de step, este é o mesmo\n",
        "        # loop de mini-batch que tínhamos antes\n",
        "        mini_batch_losses = []\n",
        "        for x_batch, y_batch in data_loader:\n",
        "            x_batch = x_batch.to(self.device)\n",
        "            y_batch = y_batch.to(self.device)\n",
        "\n",
        "            mini_batch_loss = step_fn(x_batch, y_batch)\n",
        "            mini_batch_losses.append(mini_batch_loss)\n",
        "\n",
        "        loss = np.mean(mini_batch_losses)\n",
        "        return loss\n",
        "\n",
        "    def set_seed(self, seed=42):\n",
        "        torch.backends.cudnn.deterministic = True\n",
        "        torch.backends.cudnn.benchmark = False\n",
        "        torch.manual_seed(seed)\n",
        "        np.random.seed(seed)\n",
        "\n",
        "    def train(self, n_epochs, seed=42):\n",
        "        # Para garantir a reprodutibilidade do processo de treinamento\n",
        "        self.set_seed(seed)\n",
        "\n",
        "        for epoch in range(n_epochs):\n",
        "            # Mantém o registro do número de épocas\n",
        "            # atualizando o atributo correspondente\n",
        "            self.total_epochs += 1\n",
        "\n",
        "            # loop interno\n",
        "            # Executa treinamento usando mini-batches\n",
        "            loss = self._mini_batch(validation=False)\n",
        "            self.losses.append(loss)\n",
        "\n",
        "            # VALIDAÇÃO\n",
        "            # SEM GRADIENTES NA VALIDAÇÃO!\n",
        "            with torch.no_grad():\n",
        "                # Executa avaliação usando mini-batches\n",
        "                val_loss = self._mini_batch(validation=True)\n",
        "                self.val_losses.append(val_loss)\n",
        "\n",
        "    def save_checkpoint(self, filename):\n",
        "        # Cria um dicionário com todos os elementos para retomar o treinamento\n",
        "        checkpoint = {'epoch': self.total_epochs,\n",
        "                      'model_state_dict': self.model.state_dict(),\n",
        "                      'optimizer_state_dict': self.optimizer.state_dict(),\n",
        "                      'loss': self.losses,\n",
        "                      'val_loss': self.val_losses}\n",
        "\n",
        "        torch.save(checkpoint, filename)\n",
        "\n",
        "    def load_checkpoint(self, filename):\n",
        "        # Carrega o dicionário\n",
        "        checkpoint = torch.load(filename,weights_only=False)\n",
        "\n",
        "        # Restaurar estado para modelo e otimizador\n",
        "        self.model.load_state_dict(checkpoint['model_state_dict'])\n",
        "        self.optimizer.load_state_dict(checkpoint['optimizer_state_dict'])\n",
        "\n",
        "        self.total_epochs = checkpoint['epoch']\n",
        "        self.losses = checkpoint['loss']\n",
        "        self.val_losses = checkpoint['val_loss']\n",
        "\n",
        "        self.model.train() # sempre use TRAIN para retomar o treinamento\n",
        "\n",
        "    def predict(self, x):\n",
        "        # O conjunto está no modo de avaliação para previsões\n",
        "        self.model.eval()\n",
        "        # Recebe uma entrada Numpy e a transforma em um tensor float\n",
        "        x_tensor = torch.as_tensor(x).float()\n",
        "        # Envia entrada para o device e usa o modelo para previsão\n",
        "        y_hat_tensor = self.model(x_tensor.to(self.device))\n",
        "        # Coloca de volta no modo de treinamento\n",
        "        self.model.train()\n",
        "        # Desconecta-o e leva-o para a CPU e de volta para o Numpy\n",
        "        return y_hat_tensor.detach().cpu().numpy()\n",
        "\n",
        "    def plot_losses(self):\n",
        "        fig = plt.figure(figsize=(10, 4))\n",
        "        plt.plot(self.losses, label='Training Loss', c='b')\n",
        "        plt.plot(self.val_losses, label='Validation Loss', c='r')\n",
        "        plt.yscale('log')\n",
        "        plt.xlabel('Epochs')\n",
        "        plt.ylabel('Loss')\n",
        "        plt.legend()\n",
        "        plt.tight_layout()\n",
        "        return fig"
      ],
      "metadata": {
        "id": "nQqIrHmdslfY"
      },
      "execution_count": 80,
      "outputs": []
    },
    {
      "cell_type": "markdown",
      "source": [
        "# **Treinamento do Modelo**\n",
        "Dividir o dataset em conjunto de treino e teste,\n",
        "configurar um otimizador, iterar por múltiplas\n",
        "épocas, calcular a loss e gradientes."
      ],
      "metadata": {
        "id": "8qIDgoKO-zD6"
      }
    },
    {
      "cell_type": "code",
      "source": [
        "# Login to Weights & Biases\n",
        "!wandb login --relogin"
      ],
      "metadata": {
        "id": "Vuq35WVCoWkE"
      },
      "execution_count": null,
      "outputs": []
    },
    {
      "cell_type": "markdown",
      "source": [
        "## Holdout Configuration\n",
        "\n",
        "Estratificação da feature de classificação do problema."
      ],
      "metadata": {
        "id": "Xoepxe3-lYls"
      }
    },
    {
      "cell_type": "code",
      "source": [
        "# global variables\n",
        "\n",
        "# seed used to reproduce purposes\n",
        "seed = 41\n",
        "\n",
        "# reference (column) to stratify the data\n",
        "stratify = \"target\"\n",
        "\n",
        "# name of the input artifact\n",
        "artifact_input_name_train = \"Heart_Disease/train.csv:latest\"\n",
        "artifact_input_name_test = \"Heart_Disease/test.csv:latest\"\n",
        "\n",
        "# type of the artifact\n",
        "artifact_type_train = \"Train\"\n",
        "artifact_type_test = \"Test\""
      ],
      "metadata": {
        "id": "3QiPdxHNhFfo"
      },
      "execution_count": 81,
      "outputs": []
    },
    {
      "cell_type": "code",
      "source": [
        "# configure logging\n",
        "logging.basicConfig(level=logging.INFO,\n",
        "                    format=\"%(asctime)s %(message)s\",\n",
        "                    datefmt='%d-%m-%Y %H:%M:%S')\n",
        "\n",
        "# reference for a logging obj\n",
        "logger = logging.getLogger()\n",
        "\n",
        "# initiate the wandb project\n",
        "run = wandb.init(project=\"Heart_Disease\",job_type=\"train\")\n",
        "\n",
        "logger.warning(\"Downloading and reading train artifact\")\n",
        "local_path_train = run.use_artifact(artifact_input_name_train).file()\n",
        "df_train = pd.read_csv(local_path_train)\n",
        "\n",
        "logger.warning(\"Downloading and reading test artifact\")\n",
        "local_path_test = run.use_artifact(artifact_input_name_test).file()\n",
        "df_test = pd.read_csv(local_path_test)\n",
        "\n",
        "# Spliting train.csv into train and validation dataset\n",
        "logger.warning(\"Spliting data into train/val\")\n",
        "# split-out train/validation and test dataset\n",
        "X_train = df_train.drop(stratify, axis=1)\n",
        "y_train = df_train[stratify]\n",
        "X_test = df_test.drop(stratify, axis=1)\n",
        "y_test = df_test[stratify]"
      ],
      "metadata": {
        "id": "NV320NCDZcOR",
        "colab": {
          "base_uri": "https://localhost:8080/",
          "height": 156
        },
        "outputId": "eeaebda5-3a26-4ed4-b430-d4bef2aa5e3d"
      },
      "execution_count": 82,
      "outputs": [
        {
          "output_type": "display_data",
          "data": {
            "text/plain": [
              "<IPython.core.display.HTML object>"
            ],
            "text/html": [
              "Tracking run with wandb version 0.19.11"
            ]
          },
          "metadata": {}
        },
        {
          "output_type": "display_data",
          "data": {
            "text/plain": [
              "<IPython.core.display.HTML object>"
            ],
            "text/html": [
              "Run data is saved locally in <code>/content/wandb/run-20250515_133732-k70042f7</code>"
            ]
          },
          "metadata": {}
        },
        {
          "output_type": "display_data",
          "data": {
            "text/plain": [
              "<IPython.core.display.HTML object>"
            ],
            "text/html": [
              "Syncing run <strong><a href='https://wandb.ai/guilherme-silva-096-ufrn/Heart_Disease/runs/k70042f7' target=\"_blank\">prime-serenity-104</a></strong> to <a href='https://wandb.ai/guilherme-silva-096-ufrn/Heart_Disease' target=\"_blank\">Weights & Biases</a> (<a href='https://wandb.me/developer-guide' target=\"_blank\">docs</a>)<br>"
            ]
          },
          "metadata": {}
        },
        {
          "output_type": "display_data",
          "data": {
            "text/plain": [
              "<IPython.core.display.HTML object>"
            ],
            "text/html": [
              " View project at <a href='https://wandb.ai/guilherme-silva-096-ufrn/Heart_Disease' target=\"_blank\">https://wandb.ai/guilherme-silva-096-ufrn/Heart_Disease</a>"
            ]
          },
          "metadata": {}
        },
        {
          "output_type": "display_data",
          "data": {
            "text/plain": [
              "<IPython.core.display.HTML object>"
            ],
            "text/html": [
              " View run at <a href='https://wandb.ai/guilherme-silva-096-ufrn/Heart_Disease/runs/k70042f7' target=\"_blank\">https://wandb.ai/guilherme-silva-096-ufrn/Heart_Disease/runs/k70042f7</a>"
            ]
          },
          "metadata": {}
        },
        {
          "output_type": "stream",
          "name": "stderr",
          "text": [
            "WARNING:root:Downloading and reading train artifact\n",
            "WARNING:root:Downloading and reading test artifact\n",
            "WARNING:root:Spliting data into train/val\n"
          ]
        }
      ]
    },
    {
      "cell_type": "markdown",
      "source": [
        "## Codificando as colunas usando pipeline"
      ],
      "metadata": {
        "id": "bH_9A8Z8pqHU"
      }
    },
    {
      "cell_type": "code",
      "source": [
        "class FeatureSelector(BaseEstimator, TransformerMixin):\n",
        "    # Class Constructor\n",
        "    def __init__(self, feature_names):\n",
        "        self.feature_names = feature_names\n",
        "\n",
        "    # Return self nothing else to do here\n",
        "    def fit(self, X, y=None):\n",
        "        return self\n",
        "\n",
        "    # Method that describes what this custom transformer need to do\n",
        "    def transform(self, X, y=None):\n",
        "        return X[self.feature_names]"
      ],
      "metadata": {
        "id": "4megb9k4nSoN"
      },
      "execution_count": 83,
      "outputs": []
    },
    {
      "cell_type": "markdown",
      "source": [
        "### Handling Categorical Features"
      ],
      "metadata": {
        "id": "gN3UaxXXs205"
      }
    },
    {
      "cell_type": "code",
      "source": [
        "# Handling categorical features\n",
        "class CategoricalTransformer(BaseEstimator, TransformerMixin):\n",
        "    # Class constructor method that takes one boolean as its argument\n",
        "    def __init__(self, new_features=True, colnames=None):\n",
        "        self.new_features = new_features\n",
        "        self.colnames = colnames\n",
        "\n",
        "    # Return self nothing else to do here\n",
        "    def fit(self, X, y=None):\n",
        "        return self\n",
        "\n",
        "    def get_feature_names_out(self):\n",
        "        return self.colnames.tolist()\n",
        "\n",
        "    # Transformer method we wrote for this transformer\n",
        "    def transform(self, X, y=None):\n",
        "        df = pd.DataFrame(X, columns=self.colnames)\n",
        "\n",
        "        # Remove white space in categorical features\n",
        "        df = df.apply(lambda row: row.str.strip())\n",
        "\n",
        "        # update column names\n",
        "        self.colnames = df.columns\n",
        "\n",
        "        return df\n"
      ],
      "metadata": {
        "id": "X3SKMO-_seMO"
      },
      "execution_count": 84,
      "outputs": []
    },
    {
      "cell_type": "markdown",
      "source": [
        "### Handling Numerical Features"
      ],
      "metadata": {
        "id": "h7RZA9wdumw_"
      }
    },
    {
      "cell_type": "code",
      "source": [
        "# transform numerical features\n",
        "class NumericalTransformer(BaseEstimator, TransformerMixin):\n",
        "    # Class constructor method that takes a model parameter as its argument\n",
        "    # model 0: minmax\n",
        "    # model 1: standard\n",
        "    # model 2: without scaler\n",
        "    def __init__(self, model=0, colnames=None):\n",
        "        self.model = model\n",
        "        self.colnames = colnames\n",
        "        self.scaler = None\n",
        "\n",
        "    # Fit is used only to learn statistical about Scalers\n",
        "    def fit(self, X, y=None):\n",
        "        df = pd.DataFrame(X, columns=self.colnames)\n",
        "        # minmax\n",
        "        if self.model == 0:\n",
        "            self.scaler = MinMaxScaler()\n",
        "            self.scaler.fit(df)\n",
        "        # standard scaler\n",
        "        elif self.model == 1:\n",
        "            self.scaler = StandardScaler()\n",
        "            self.scaler.fit(df)\n",
        "        return self\n",
        "\n",
        "    # return columns names after transformation\n",
        "    def get_feature_names_out(self):\n",
        "        return self.colnames\n",
        "\n",
        "    # Transformer method we wrote for this transformer\n",
        "    # Use fitted scalers\n",
        "    def transform(self, X, y=None):\n",
        "        df = pd.DataFrame(X, columns=self.colnames)\n",
        "\n",
        "        # update columns name\n",
        "        self.colnames = df.columns.tolist()\n",
        "\n",
        "        # minmax\n",
        "        if self.model == 0:\n",
        "            # transform data\n",
        "            df = self.scaler.transform(df)\n",
        "        elif self.model == 1:\n",
        "            # transform data\n",
        "            df = self.scaler.transform(df)\n",
        "        else:\n",
        "            df = df.values\n",
        "\n",
        "        return df"
      ],
      "metadata": {
        "id": "x5g43VstumYG"
      },
      "execution_count": 85,
      "outputs": []
    },
    {
      "cell_type": "markdown",
      "source": [
        "### Data Preparation Pipeline\n",
        "\n",
        "Pipeline feito para aplicar as colunas categóricas a OneHotEnconder para converter em colunas numéricas. Além da normalização das colunas numéricas."
      ],
      "metadata": {
        "id": "OTrobhOOxLzv"
      }
    },
    {
      "cell_type": "code",
      "source": [
        "# model = 0 (min-max), 1 (z-score), 2 (without normalization)\n",
        "numerical_model = 0\n",
        "\n",
        "# Categrical features to pass down the categorical pipeline\n",
        "categorical_features = X_train.select_dtypes(\"object\").columns.to_list()\n",
        "\n",
        "# Numerical features to pass down the numerical pipeline\n",
        "numerical_features = X_train.select_dtypes('number').columns.to_list()\n",
        "\n",
        "# Defining the steps for the categorical pipeline\n",
        "categorical_pipeline = Pipeline(steps=[('cat_selector', FeatureSelector(categorical_features)),\n",
        "                                       ('imputer_cat', SimpleImputer(strategy=\"most_frequent\")),\n",
        "                                       ('cat_transformer', CategoricalTransformer(colnames=categorical_features)),\n",
        "                                       # ('cat_encoder','passthrough'\n",
        "                                       ('cat_encoder', OneHotEncoder(sparse_output=False, drop=\"first\"))\n",
        "                                       ]\n",
        "                                )\n",
        "\n",
        "# Defining the steps in the numerical pipeline\n",
        "numerical_pipeline = Pipeline(steps=[('num_selector', FeatureSelector(numerical_features)),\n",
        "                                     ('imputer_num', SimpleImputer(strategy=\"median\")),\n",
        "                                     ('num_transformer', NumericalTransformer(numerical_model,\n",
        "                                                                              colnames=numerical_features))])\n",
        "\n",
        "# Combine numerical and categorical pieplines into one full big pipeline horizontally\n",
        "full_pipeline_preprocessing = FeatureUnion(transformer_list=[('cat_pipeline', categorical_pipeline),\n",
        "                                                             ('num_pipeline', numerical_pipeline)]\n",
        "                                           )"
      ],
      "metadata": {
        "id": "X-6a6bbBxLZ4"
      },
      "execution_count": 86,
      "outputs": []
    },
    {
      "cell_type": "code",
      "source": [
        "# train\n",
        "new_data_train = full_pipeline_preprocessing.fit_transform(X_train)\n",
        "# cat_names is a numpy array\n",
        "cat_names = full_pipeline_preprocessing.get_params()[\"cat_pipeline\"][3].get_feature_names_out().tolist()\n",
        "# num_names is a list\n",
        "num_names = full_pipeline_preprocessing.get_params()[\"num_pipeline\"][2].get_feature_names_out()\n",
        "X_train_normalized = pd.DataFrame(new_data_train,columns = cat_names + num_names)\n",
        "X_train_normalized.head()"
      ],
      "metadata": {
        "id": "3ojzDGBaxSJ6",
        "colab": {
          "base_uri": "https://localhost:8080/",
          "height": 226
        },
        "outputId": "d2feaf0e-432d-4cb8-f8a5-97860fdb8cc2"
      },
      "execution_count": 87,
      "outputs": [
        {
          "output_type": "execute_result",
          "data": {
            "text/plain": [
              "   sex_male  cp_atypical_angina  cp_non_anginal_pain  cp_typical_angina  \\\n",
              "0       0.0                 0.0                  0.0                0.0   \n",
              "1       1.0                 0.0                  0.0                1.0   \n",
              "2       1.0                 0.0                  0.0                0.0   \n",
              "3       1.0                 0.0                  0.0                1.0   \n",
              "4       1.0                 1.0                  0.0                0.0   \n",
              "\n",
              "   fbs_low_fbs  restecg_normal  restecg_st_t_wave_abnormality  exang_yes  \\\n",
              "0          1.0             1.0                            0.0        0.0   \n",
              "1          1.0             1.0                            0.0        0.0   \n",
              "2          1.0             1.0                            0.0        0.0   \n",
              "3          1.0             1.0                            0.0        0.0   \n",
              "4          1.0             1.0                            0.0        1.0   \n",
              "\n",
              "   slope_flat  slope_upsloping  ca_one_vessel  ca_three_vessels  \\\n",
              "0         1.0              0.0            0.0               0.0   \n",
              "1         0.0              0.0            0.0               0.0   \n",
              "2         0.0              0.0            1.0               0.0   \n",
              "3         1.0              0.0            1.0               0.0   \n",
              "4         1.0              0.0            1.0               0.0   \n",
              "\n",
              "   ca_two_vessels  thal_normal  thal_reversible_defect       age  trestbps  \\\n",
              "0             0.0          0.0                     1.0  0.395833  0.339623   \n",
              "1             0.0          0.0                     1.0  0.791667  0.245283   \n",
              "2             0.0          0.0                     0.0  0.437500  0.433962   \n",
              "3             0.0          0.0                     1.0  0.645833  0.386792   \n",
              "4             0.0          1.0                     0.0  0.562500  0.358491   \n",
              "\n",
              "       chol  thalachh   oldpeak  \n",
              "0  0.340183  0.519084  0.032258  \n",
              "1  0.253425  0.000000  0.161290  \n",
              "2  0.244292  0.702290  0.096774  \n",
              "3  0.292237  0.427481  0.451613  \n",
              "4  0.132420  0.259542  0.338710  "
            ],
            "text/html": [
              "\n",
              "  <div id=\"df-c7c3684e-810a-4cba-b305-b9ba9b576267\" class=\"colab-df-container\">\n",
              "    <div>\n",
              "<style scoped>\n",
              "    .dataframe tbody tr th:only-of-type {\n",
              "        vertical-align: middle;\n",
              "    }\n",
              "\n",
              "    .dataframe tbody tr th {\n",
              "        vertical-align: top;\n",
              "    }\n",
              "\n",
              "    .dataframe thead th {\n",
              "        text-align: right;\n",
              "    }\n",
              "</style>\n",
              "<table border=\"1\" class=\"dataframe\">\n",
              "  <thead>\n",
              "    <tr style=\"text-align: right;\">\n",
              "      <th></th>\n",
              "      <th>sex_male</th>\n",
              "      <th>cp_atypical_angina</th>\n",
              "      <th>cp_non_anginal_pain</th>\n",
              "      <th>cp_typical_angina</th>\n",
              "      <th>fbs_low_fbs</th>\n",
              "      <th>restecg_normal</th>\n",
              "      <th>restecg_st_t_wave_abnormality</th>\n",
              "      <th>exang_yes</th>\n",
              "      <th>slope_flat</th>\n",
              "      <th>slope_upsloping</th>\n",
              "      <th>ca_one_vessel</th>\n",
              "      <th>ca_three_vessels</th>\n",
              "      <th>ca_two_vessels</th>\n",
              "      <th>thal_normal</th>\n",
              "      <th>thal_reversible_defect</th>\n",
              "      <th>age</th>\n",
              "      <th>trestbps</th>\n",
              "      <th>chol</th>\n",
              "      <th>thalachh</th>\n",
              "      <th>oldpeak</th>\n",
              "    </tr>\n",
              "  </thead>\n",
              "  <tbody>\n",
              "    <tr>\n",
              "      <th>0</th>\n",
              "      <td>0.0</td>\n",
              "      <td>0.0</td>\n",
              "      <td>0.0</td>\n",
              "      <td>0.0</td>\n",
              "      <td>1.0</td>\n",
              "      <td>1.0</td>\n",
              "      <td>0.0</td>\n",
              "      <td>0.0</td>\n",
              "      <td>1.0</td>\n",
              "      <td>0.0</td>\n",
              "      <td>0.0</td>\n",
              "      <td>0.0</td>\n",
              "      <td>0.0</td>\n",
              "      <td>0.0</td>\n",
              "      <td>1.0</td>\n",
              "      <td>0.395833</td>\n",
              "      <td>0.339623</td>\n",
              "      <td>0.340183</td>\n",
              "      <td>0.519084</td>\n",
              "      <td>0.032258</td>\n",
              "    </tr>\n",
              "    <tr>\n",
              "      <th>1</th>\n",
              "      <td>1.0</td>\n",
              "      <td>0.0</td>\n",
              "      <td>0.0</td>\n",
              "      <td>1.0</td>\n",
              "      <td>1.0</td>\n",
              "      <td>1.0</td>\n",
              "      <td>0.0</td>\n",
              "      <td>0.0</td>\n",
              "      <td>0.0</td>\n",
              "      <td>0.0</td>\n",
              "      <td>0.0</td>\n",
              "      <td>0.0</td>\n",
              "      <td>0.0</td>\n",
              "      <td>0.0</td>\n",
              "      <td>1.0</td>\n",
              "      <td>0.791667</td>\n",
              "      <td>0.245283</td>\n",
              "      <td>0.253425</td>\n",
              "      <td>0.000000</td>\n",
              "      <td>0.161290</td>\n",
              "    </tr>\n",
              "    <tr>\n",
              "      <th>2</th>\n",
              "      <td>1.0</td>\n",
              "      <td>0.0</td>\n",
              "      <td>0.0</td>\n",
              "      <td>0.0</td>\n",
              "      <td>1.0</td>\n",
              "      <td>1.0</td>\n",
              "      <td>0.0</td>\n",
              "      <td>0.0</td>\n",
              "      <td>0.0</td>\n",
              "      <td>0.0</td>\n",
              "      <td>1.0</td>\n",
              "      <td>0.0</td>\n",
              "      <td>0.0</td>\n",
              "      <td>0.0</td>\n",
              "      <td>0.0</td>\n",
              "      <td>0.437500</td>\n",
              "      <td>0.433962</td>\n",
              "      <td>0.244292</td>\n",
              "      <td>0.702290</td>\n",
              "      <td>0.096774</td>\n",
              "    </tr>\n",
              "    <tr>\n",
              "      <th>3</th>\n",
              "      <td>1.0</td>\n",
              "      <td>0.0</td>\n",
              "      <td>0.0</td>\n",
              "      <td>1.0</td>\n",
              "      <td>1.0</td>\n",
              "      <td>1.0</td>\n",
              "      <td>0.0</td>\n",
              "      <td>0.0</td>\n",
              "      <td>1.0</td>\n",
              "      <td>0.0</td>\n",
              "      <td>1.0</td>\n",
              "      <td>0.0</td>\n",
              "      <td>0.0</td>\n",
              "      <td>0.0</td>\n",
              "      <td>1.0</td>\n",
              "      <td>0.645833</td>\n",
              "      <td>0.386792</td>\n",
              "      <td>0.292237</td>\n",
              "      <td>0.427481</td>\n",
              "      <td>0.451613</td>\n",
              "    </tr>\n",
              "    <tr>\n",
              "      <th>4</th>\n",
              "      <td>1.0</td>\n",
              "      <td>1.0</td>\n",
              "      <td>0.0</td>\n",
              "      <td>0.0</td>\n",
              "      <td>1.0</td>\n",
              "      <td>1.0</td>\n",
              "      <td>0.0</td>\n",
              "      <td>1.0</td>\n",
              "      <td>1.0</td>\n",
              "      <td>0.0</td>\n",
              "      <td>1.0</td>\n",
              "      <td>0.0</td>\n",
              "      <td>0.0</td>\n",
              "      <td>1.0</td>\n",
              "      <td>0.0</td>\n",
              "      <td>0.562500</td>\n",
              "      <td>0.358491</td>\n",
              "      <td>0.132420</td>\n",
              "      <td>0.259542</td>\n",
              "      <td>0.338710</td>\n",
              "    </tr>\n",
              "  </tbody>\n",
              "</table>\n",
              "</div>\n",
              "    <div class=\"colab-df-buttons\">\n",
              "\n",
              "  <div class=\"colab-df-container\">\n",
              "    <button class=\"colab-df-convert\" onclick=\"convertToInteractive('df-c7c3684e-810a-4cba-b305-b9ba9b576267')\"\n",
              "            title=\"Convert this dataframe to an interactive table.\"\n",
              "            style=\"display:none;\">\n",
              "\n",
              "  <svg xmlns=\"http://www.w3.org/2000/svg\" height=\"24px\" viewBox=\"0 -960 960 960\">\n",
              "    <path d=\"M120-120v-720h720v720H120Zm60-500h600v-160H180v160Zm220 220h160v-160H400v160Zm0 220h160v-160H400v160ZM180-400h160v-160H180v160Zm440 0h160v-160H620v160ZM180-180h160v-160H180v160Zm440 0h160v-160H620v160Z\"/>\n",
              "  </svg>\n",
              "    </button>\n",
              "\n",
              "  <style>\n",
              "    .colab-df-container {\n",
              "      display:flex;\n",
              "      gap: 12px;\n",
              "    }\n",
              "\n",
              "    .colab-df-convert {\n",
              "      background-color: #E8F0FE;\n",
              "      border: none;\n",
              "      border-radius: 50%;\n",
              "      cursor: pointer;\n",
              "      display: none;\n",
              "      fill: #1967D2;\n",
              "      height: 32px;\n",
              "      padding: 0 0 0 0;\n",
              "      width: 32px;\n",
              "    }\n",
              "\n",
              "    .colab-df-convert:hover {\n",
              "      background-color: #E2EBFA;\n",
              "      box-shadow: 0px 1px 2px rgba(60, 64, 67, 0.3), 0px 1px 3px 1px rgba(60, 64, 67, 0.15);\n",
              "      fill: #174EA6;\n",
              "    }\n",
              "\n",
              "    .colab-df-buttons div {\n",
              "      margin-bottom: 4px;\n",
              "    }\n",
              "\n",
              "    [theme=dark] .colab-df-convert {\n",
              "      background-color: #3B4455;\n",
              "      fill: #D2E3FC;\n",
              "    }\n",
              "\n",
              "    [theme=dark] .colab-df-convert:hover {\n",
              "      background-color: #434B5C;\n",
              "      box-shadow: 0px 1px 3px 1px rgba(0, 0, 0, 0.15);\n",
              "      filter: drop-shadow(0px 1px 2px rgba(0, 0, 0, 0.3));\n",
              "      fill: #FFFFFF;\n",
              "    }\n",
              "  </style>\n",
              "\n",
              "    <script>\n",
              "      const buttonEl =\n",
              "        document.querySelector('#df-c7c3684e-810a-4cba-b305-b9ba9b576267 button.colab-df-convert');\n",
              "      buttonEl.style.display =\n",
              "        google.colab.kernel.accessAllowed ? 'block' : 'none';\n",
              "\n",
              "      async function convertToInteractive(key) {\n",
              "        const element = document.querySelector('#df-c7c3684e-810a-4cba-b305-b9ba9b576267');\n",
              "        const dataTable =\n",
              "          await google.colab.kernel.invokeFunction('convertToInteractive',\n",
              "                                                    [key], {});\n",
              "        if (!dataTable) return;\n",
              "\n",
              "        const docLinkHtml = 'Like what you see? Visit the ' +\n",
              "          '<a target=\"_blank\" href=https://colab.research.google.com/notebooks/data_table.ipynb>data table notebook</a>'\n",
              "          + ' to learn more about interactive tables.';\n",
              "        element.innerHTML = '';\n",
              "        dataTable['output_type'] = 'display_data';\n",
              "        await google.colab.output.renderOutput(dataTable, element);\n",
              "        const docLink = document.createElement('div');\n",
              "        docLink.innerHTML = docLinkHtml;\n",
              "        element.appendChild(docLink);\n",
              "      }\n",
              "    </script>\n",
              "  </div>\n",
              "\n",
              "\n",
              "    <div id=\"df-20ad1a16-73ea-4290-8d8e-68fae6707310\">\n",
              "      <button class=\"colab-df-quickchart\" onclick=\"quickchart('df-20ad1a16-73ea-4290-8d8e-68fae6707310')\"\n",
              "                title=\"Suggest charts\"\n",
              "                style=\"display:none;\">\n",
              "\n",
              "<svg xmlns=\"http://www.w3.org/2000/svg\" height=\"24px\"viewBox=\"0 0 24 24\"\n",
              "     width=\"24px\">\n",
              "    <g>\n",
              "        <path d=\"M19 3H5c-1.1 0-2 .9-2 2v14c0 1.1.9 2 2 2h14c1.1 0 2-.9 2-2V5c0-1.1-.9-2-2-2zM9 17H7v-7h2v7zm4 0h-2V7h2v10zm4 0h-2v-4h2v4z\"/>\n",
              "    </g>\n",
              "</svg>\n",
              "      </button>\n",
              "\n",
              "<style>\n",
              "  .colab-df-quickchart {\n",
              "      --bg-color: #E8F0FE;\n",
              "      --fill-color: #1967D2;\n",
              "      --hover-bg-color: #E2EBFA;\n",
              "      --hover-fill-color: #174EA6;\n",
              "      --disabled-fill-color: #AAA;\n",
              "      --disabled-bg-color: #DDD;\n",
              "  }\n",
              "\n",
              "  [theme=dark] .colab-df-quickchart {\n",
              "      --bg-color: #3B4455;\n",
              "      --fill-color: #D2E3FC;\n",
              "      --hover-bg-color: #434B5C;\n",
              "      --hover-fill-color: #FFFFFF;\n",
              "      --disabled-bg-color: #3B4455;\n",
              "      --disabled-fill-color: #666;\n",
              "  }\n",
              "\n",
              "  .colab-df-quickchart {\n",
              "    background-color: var(--bg-color);\n",
              "    border: none;\n",
              "    border-radius: 50%;\n",
              "    cursor: pointer;\n",
              "    display: none;\n",
              "    fill: var(--fill-color);\n",
              "    height: 32px;\n",
              "    padding: 0;\n",
              "    width: 32px;\n",
              "  }\n",
              "\n",
              "  .colab-df-quickchart:hover {\n",
              "    background-color: var(--hover-bg-color);\n",
              "    box-shadow: 0 1px 2px rgba(60, 64, 67, 0.3), 0 1px 3px 1px rgba(60, 64, 67, 0.15);\n",
              "    fill: var(--button-hover-fill-color);\n",
              "  }\n",
              "\n",
              "  .colab-df-quickchart-complete:disabled,\n",
              "  .colab-df-quickchart-complete:disabled:hover {\n",
              "    background-color: var(--disabled-bg-color);\n",
              "    fill: var(--disabled-fill-color);\n",
              "    box-shadow: none;\n",
              "  }\n",
              "\n",
              "  .colab-df-spinner {\n",
              "    border: 2px solid var(--fill-color);\n",
              "    border-color: transparent;\n",
              "    border-bottom-color: var(--fill-color);\n",
              "    animation:\n",
              "      spin 1s steps(1) infinite;\n",
              "  }\n",
              "\n",
              "  @keyframes spin {\n",
              "    0% {\n",
              "      border-color: transparent;\n",
              "      border-bottom-color: var(--fill-color);\n",
              "      border-left-color: var(--fill-color);\n",
              "    }\n",
              "    20% {\n",
              "      border-color: transparent;\n",
              "      border-left-color: var(--fill-color);\n",
              "      border-top-color: var(--fill-color);\n",
              "    }\n",
              "    30% {\n",
              "      border-color: transparent;\n",
              "      border-left-color: var(--fill-color);\n",
              "      border-top-color: var(--fill-color);\n",
              "      border-right-color: var(--fill-color);\n",
              "    }\n",
              "    40% {\n",
              "      border-color: transparent;\n",
              "      border-right-color: var(--fill-color);\n",
              "      border-top-color: var(--fill-color);\n",
              "    }\n",
              "    60% {\n",
              "      border-color: transparent;\n",
              "      border-right-color: var(--fill-color);\n",
              "    }\n",
              "    80% {\n",
              "      border-color: transparent;\n",
              "      border-right-color: var(--fill-color);\n",
              "      border-bottom-color: var(--fill-color);\n",
              "    }\n",
              "    90% {\n",
              "      border-color: transparent;\n",
              "      border-bottom-color: var(--fill-color);\n",
              "    }\n",
              "  }\n",
              "</style>\n",
              "\n",
              "      <script>\n",
              "        async function quickchart(key) {\n",
              "          const quickchartButtonEl =\n",
              "            document.querySelector('#' + key + ' button');\n",
              "          quickchartButtonEl.disabled = true;  // To prevent multiple clicks.\n",
              "          quickchartButtonEl.classList.add('colab-df-spinner');\n",
              "          try {\n",
              "            const charts = await google.colab.kernel.invokeFunction(\n",
              "                'suggestCharts', [key], {});\n",
              "          } catch (error) {\n",
              "            console.error('Error during call to suggestCharts:', error);\n",
              "          }\n",
              "          quickchartButtonEl.classList.remove('colab-df-spinner');\n",
              "          quickchartButtonEl.classList.add('colab-df-quickchart-complete');\n",
              "        }\n",
              "        (() => {\n",
              "          let quickchartButtonEl =\n",
              "            document.querySelector('#df-20ad1a16-73ea-4290-8d8e-68fae6707310 button');\n",
              "          quickchartButtonEl.style.display =\n",
              "            google.colab.kernel.accessAllowed ? 'block' : 'none';\n",
              "        })();\n",
              "      </script>\n",
              "    </div>\n",
              "\n",
              "    </div>\n",
              "  </div>\n"
            ],
            "application/vnd.google.colaboratory.intrinsic+json": {
              "type": "dataframe",
              "variable_name": "X_train_normalized",
              "summary": "{\n  \"name\": \"X_train_normalized\",\n  \"rows\": 415,\n  \"fields\": [\n    {\n      \"column\": \"sex_male\",\n      \"properties\": {\n        \"dtype\": \"number\",\n        \"std\": 0.47580417866677116,\n        \"min\": 0.0,\n        \"max\": 1.0,\n        \"num_unique_values\": 2,\n        \"samples\": [\n          1.0,\n          0.0\n        ],\n        \"semantic_type\": \"\",\n        \"description\": \"\"\n      }\n    },\n    {\n      \"column\": \"cp_atypical_angina\",\n      \"properties\": {\n        \"dtype\": \"number\",\n        \"std\": 0.3638869506073338,\n        \"min\": 0.0,\n        \"max\": 1.0,\n        \"num_unique_values\": 2,\n        \"samples\": [\n          1.0,\n          0.0\n        ],\n        \"semantic_type\": \"\",\n        \"description\": \"\"\n      }\n    },\n    {\n      \"column\": \"cp_non_anginal_pain\",\n      \"properties\": {\n        \"dtype\": \"number\",\n        \"std\": 0.4296366207224224,\n        \"min\": 0.0,\n        \"max\": 1.0,\n        \"num_unique_values\": 2,\n        \"samples\": [\n          1.0,\n          0.0\n        ],\n        \"semantic_type\": \"\",\n        \"description\": \"\"\n      }\n    },\n    {\n      \"column\": \"cp_typical_angina\",\n      \"properties\": {\n        \"dtype\": \"number\",\n        \"std\": 0.4899906100880977,\n        \"min\": 0.0,\n        \"max\": 1.0,\n        \"num_unique_values\": 2,\n        \"samples\": [\n          1.0,\n          0.0\n        ],\n        \"semantic_type\": \"\",\n        \"description\": \"\"\n      }\n    },\n    {\n      \"column\": \"fbs_low_fbs\",\n      \"properties\": {\n        \"dtype\": \"number\",\n        \"std\": 0.3496445682934725,\n        \"min\": 0.0,\n        \"max\": 1.0,\n        \"num_unique_values\": 2,\n        \"samples\": [\n          0.0,\n          1.0\n        ],\n        \"semantic_type\": \"\",\n        \"description\": \"\"\n      }\n    },\n    {\n      \"column\": \"restecg_normal\",\n      \"properties\": {\n        \"dtype\": \"number\",\n        \"std\": 0.5006020471777498,\n        \"min\": 0.0,\n        \"max\": 1.0,\n        \"num_unique_values\": 2,\n        \"samples\": [\n          0.0,\n          1.0\n        ],\n        \"semantic_type\": \"\",\n        \"description\": \"\"\n      }\n    },\n    {\n      \"column\": \"restecg_st_t_wave_abnormality\",\n      \"properties\": {\n        \"dtype\": \"number\",\n        \"std\": 0.4633974640720412,\n        \"min\": 0.0,\n        \"max\": 1.0,\n        \"num_unique_values\": 2,\n        \"samples\": [\n          1.0,\n          0.0\n        ],\n        \"semantic_type\": \"\",\n        \"description\": \"\"\n      }\n    },\n    {\n      \"column\": \"exang_yes\",\n      \"properties\": {\n        \"dtype\": \"number\",\n        \"std\": 0.4539180075018903,\n        \"min\": 0.0,\n        \"max\": 1.0,\n        \"num_unique_values\": 2,\n        \"samples\": [\n          1.0,\n          0.0\n        ],\n        \"semantic_type\": \"\",\n        \"description\": \"\"\n      }\n    },\n    {\n      \"column\": \"slope_flat\",\n      \"properties\": {\n        \"dtype\": \"number\",\n        \"std\": 0.4990183017361869,\n        \"min\": 0.0,\n        \"max\": 1.0,\n        \"num_unique_values\": 2,\n        \"samples\": [\n          0.0,\n          1.0\n        ],\n        \"semantic_type\": \"\",\n        \"description\": \"\"\n      }\n    },\n    {\n      \"column\": \"slope_upsloping\",\n      \"properties\": {\n        \"dtype\": \"number\",\n        \"std\": 0.2039422878749185,\n        \"min\": 0.0,\n        \"max\": 1.0,\n        \"num_unique_values\": 2,\n        \"samples\": [\n          1.0,\n          0.0\n        ],\n        \"semantic_type\": \"\",\n        \"description\": \"\"\n      }\n    },\n    {\n      \"column\": \"ca_one_vessel\",\n      \"properties\": {\n        \"dtype\": \"number\",\n        \"std\": 0.41260901856370663,\n        \"min\": 0.0,\n        \"max\": 1.0,\n        \"num_unique_values\": 2,\n        \"samples\": [\n          1.0,\n          0.0\n        ],\n        \"semantic_type\": \"\",\n        \"description\": \"\"\n      }\n    },\n    {\n      \"column\": \"ca_three_vessels\",\n      \"properties\": {\n        \"dtype\": \"number\",\n        \"std\": 0.24262595382987837,\n        \"min\": 0.0,\n        \"max\": 1.0,\n        \"num_unique_values\": 2,\n        \"samples\": [\n          1.0,\n          0.0\n        ],\n        \"semantic_type\": \"\",\n        \"description\": \"\"\n      }\n    },\n    {\n      \"column\": \"ca_two_vessels\",\n      \"properties\": {\n        \"dtype\": \"number\",\n        \"std\": 0.32020597526720646,\n        \"min\": 0.0,\n        \"max\": 1.0,\n        \"num_unique_values\": 2,\n        \"samples\": [\n          1.0,\n          0.0\n        ],\n        \"semantic_type\": \"\",\n        \"description\": \"\"\n      }\n    },\n    {\n      \"column\": \"thal_normal\",\n      \"properties\": {\n        \"dtype\": \"number\",\n        \"std\": 0.20394228787491886,\n        \"min\": 0.0,\n        \"max\": 1.0,\n        \"num_unique_values\": 2,\n        \"samples\": [\n          1.0,\n          0.0\n        ],\n        \"semantic_type\": \"\",\n        \"description\": \"\"\n      }\n    },\n    {\n      \"column\": \"thal_reversible_defect\",\n      \"properties\": {\n        \"dtype\": \"number\",\n        \"std\": 0.4981544427047199,\n        \"min\": 0.0,\n        \"max\": 1.0,\n        \"num_unique_values\": 2,\n        \"samples\": [\n          0.0,\n          1.0\n        ],\n        \"semantic_type\": \"\",\n        \"description\": \"\"\n      }\n    },\n    {\n      \"column\": \"age\",\n      \"properties\": {\n        \"dtype\": \"number\",\n        \"std\": 0.19249153894672238,\n        \"min\": 0.0,\n        \"max\": 0.9999999999999999,\n        \"num_unique_values\": 42,\n        \"samples\": [\n          0.6249999999999999,\n          0.35416666666666663\n        ],\n        \"semantic_type\": \"\",\n        \"description\": \"\"\n      }\n    },\n    {\n      \"column\": \"trestbps\",\n      \"properties\": {\n        \"dtype\": \"number\",\n        \"std\": 0.1620090622275436,\n        \"min\": 0.0,\n        \"max\": 1.0,\n        \"num_unique_values\": 47,\n        \"samples\": [\n          0.10377358490566047,\n          0.09433962264150952\n        ],\n        \"semantic_type\": \"\",\n        \"description\": \"\"\n      }\n    },\n    {\n      \"column\": \"chol\",\n      \"properties\": {\n        \"dtype\": \"number\",\n        \"std\": 0.11527191632329886,\n        \"min\": 0.0,\n        \"max\": 0.9999999999999998,\n        \"num_unique_values\": 147,\n        \"samples\": [\n          0.13013698630136988,\n          0.2237442922374429\n        ],\n        \"semantic_type\": \"\",\n        \"description\": \"\"\n      }\n    },\n    {\n      \"column\": \"thalachh\",\n      \"properties\": {\n        \"dtype\": \"number\",\n        \"std\": 0.17543919270197283,\n        \"min\": 0.0,\n        \"max\": 0.9999999999999999,\n        \"num_unique_values\": 88,\n        \"samples\": [\n          0.9389312977099237,\n          0.5190839694656487\n        ],\n        \"semantic_type\": \"\",\n        \"description\": \"\"\n      }\n    },\n    {\n      \"column\": \"oldpeak\",\n      \"properties\": {\n        \"dtype\": \"number\",\n        \"std\": 0.18011182065905193,\n        \"min\": 0.0,\n        \"max\": 1.0,\n        \"num_unique_values\": 39,\n        \"samples\": [\n          1.0,\n          0.4032258064516129\n        ],\n        \"semantic_type\": \"\",\n        \"description\": \"\"\n      }\n    }\n  ]\n}"
            }
          },
          "metadata": {},
          "execution_count": 87
        }
      ]
    },
    {
      "cell_type": "code",
      "source": [
        "# test\n",
        "new_data_test = full_pipeline_preprocessing.fit_transform(X_test)\n",
        "# cat_names is a numpy array\n",
        "cat_names = full_pipeline_preprocessing.get_params()[\"cat_pipeline\"][3].get_feature_names_out().tolist()\n",
        "# num_names is a list\n",
        "num_names = full_pipeline_preprocessing.get_params()[\"num_pipeline\"][2].get_feature_names_out()\n",
        "X_test_normalized = pd.DataFrame(new_data_test,columns = cat_names + num_names)\n",
        "X_test_normalized.head()"
      ],
      "metadata": {
        "id": "WOkjfewrp3aw",
        "colab": {
          "base_uri": "https://localhost:8080/",
          "height": 226
        },
        "outputId": "f11f7162-03fe-48c1-c45e-bdafce90eb4d"
      },
      "execution_count": 88,
      "outputs": [
        {
          "output_type": "execute_result",
          "data": {
            "text/plain": [
              "   sex_male  cp_atypical_angina  cp_non_anginal_pain  cp_typical_angina  \\\n",
              "0       0.0                 0.0                  0.0                1.0   \n",
              "1       1.0                 0.0                  1.0                0.0   \n",
              "2       1.0                 0.0                  0.0                0.0   \n",
              "3       0.0                 0.0                  1.0                0.0   \n",
              "4       1.0                 0.0                  1.0                0.0   \n",
              "\n",
              "   fbs_low_fbs  restecg_normal  restecg_st_t_wave_abnormality  exang_yes  \\\n",
              "0          1.0             0.0                            1.0        1.0   \n",
              "1          1.0             1.0                            0.0        0.0   \n",
              "2          1.0             0.0                            0.0        0.0   \n",
              "3          1.0             0.0                            0.0        0.0   \n",
              "4          1.0             0.0                            1.0        0.0   \n",
              "\n",
              "   slope_flat  slope_upsloping  ca_one_vessel  ca_three_vessels  \\\n",
              "0         0.0              0.0            0.0               0.0   \n",
              "1         0.0              1.0            1.0               0.0   \n",
              "2         0.0              0.0            1.0               0.0   \n",
              "3         0.0              0.0            0.0               0.0   \n",
              "4         0.0              0.0            0.0               0.0   \n",
              "\n",
              "   ca_two_vessels  thal_normal  thal_reversible_defect       age  trestbps  \\\n",
              "0             0.0          0.0                     1.0  0.488372  1.000000   \n",
              "1             0.0          0.0                     0.0  0.465116  0.360465   \n",
              "2             0.0          0.0                     0.0  0.534884  0.395349   \n",
              "3             0.0          0.0                     1.0  0.488372  0.476744   \n",
              "4             0.0          0.0                     0.0  0.372093  0.406977   \n",
              "\n",
              "       chol  thalachh   oldpeak  \n",
              "0  0.439716  0.292929  0.894737  \n",
              "1  0.312057  0.646465  0.131579  \n",
              "2  0.208038  0.626263  0.105263  \n",
              "3  0.257683  0.737374  0.368421  \n",
              "4  0.130024  0.757576  0.000000  "
            ],
            "text/html": [
              "\n",
              "  <div id=\"df-7aa4cb3d-d2eb-429a-a71f-8c76ef372de9\" class=\"colab-df-container\">\n",
              "    <div>\n",
              "<style scoped>\n",
              "    .dataframe tbody tr th:only-of-type {\n",
              "        vertical-align: middle;\n",
              "    }\n",
              "\n",
              "    .dataframe tbody tr th {\n",
              "        vertical-align: top;\n",
              "    }\n",
              "\n",
              "    .dataframe thead th {\n",
              "        text-align: right;\n",
              "    }\n",
              "</style>\n",
              "<table border=\"1\" class=\"dataframe\">\n",
              "  <thead>\n",
              "    <tr style=\"text-align: right;\">\n",
              "      <th></th>\n",
              "      <th>sex_male</th>\n",
              "      <th>cp_atypical_angina</th>\n",
              "      <th>cp_non_anginal_pain</th>\n",
              "      <th>cp_typical_angina</th>\n",
              "      <th>fbs_low_fbs</th>\n",
              "      <th>restecg_normal</th>\n",
              "      <th>restecg_st_t_wave_abnormality</th>\n",
              "      <th>exang_yes</th>\n",
              "      <th>slope_flat</th>\n",
              "      <th>slope_upsloping</th>\n",
              "      <th>ca_one_vessel</th>\n",
              "      <th>ca_three_vessels</th>\n",
              "      <th>ca_two_vessels</th>\n",
              "      <th>thal_normal</th>\n",
              "      <th>thal_reversible_defect</th>\n",
              "      <th>age</th>\n",
              "      <th>trestbps</th>\n",
              "      <th>chol</th>\n",
              "      <th>thalachh</th>\n",
              "      <th>oldpeak</th>\n",
              "    </tr>\n",
              "  </thead>\n",
              "  <tbody>\n",
              "    <tr>\n",
              "      <th>0</th>\n",
              "      <td>0.0</td>\n",
              "      <td>0.0</td>\n",
              "      <td>0.0</td>\n",
              "      <td>1.0</td>\n",
              "      <td>1.0</td>\n",
              "      <td>0.0</td>\n",
              "      <td>1.0</td>\n",
              "      <td>1.0</td>\n",
              "      <td>0.0</td>\n",
              "      <td>0.0</td>\n",
              "      <td>0.0</td>\n",
              "      <td>0.0</td>\n",
              "      <td>0.0</td>\n",
              "      <td>0.0</td>\n",
              "      <td>1.0</td>\n",
              "      <td>0.488372</td>\n",
              "      <td>1.000000</td>\n",
              "      <td>0.439716</td>\n",
              "      <td>0.292929</td>\n",
              "      <td>0.894737</td>\n",
              "    </tr>\n",
              "    <tr>\n",
              "      <th>1</th>\n",
              "      <td>1.0</td>\n",
              "      <td>0.0</td>\n",
              "      <td>1.0</td>\n",
              "      <td>0.0</td>\n",
              "      <td>1.0</td>\n",
              "      <td>1.0</td>\n",
              "      <td>0.0</td>\n",
              "      <td>0.0</td>\n",
              "      <td>0.0</td>\n",
              "      <td>1.0</td>\n",
              "      <td>1.0</td>\n",
              "      <td>0.0</td>\n",
              "      <td>0.0</td>\n",
              "      <td>0.0</td>\n",
              "      <td>0.0</td>\n",
              "      <td>0.465116</td>\n",
              "      <td>0.360465</td>\n",
              "      <td>0.312057</td>\n",
              "      <td>0.646465</td>\n",
              "      <td>0.131579</td>\n",
              "    </tr>\n",
              "    <tr>\n",
              "      <th>2</th>\n",
              "      <td>1.0</td>\n",
              "      <td>0.0</td>\n",
              "      <td>0.0</td>\n",
              "      <td>0.0</td>\n",
              "      <td>1.0</td>\n",
              "      <td>0.0</td>\n",
              "      <td>0.0</td>\n",
              "      <td>0.0</td>\n",
              "      <td>0.0</td>\n",
              "      <td>0.0</td>\n",
              "      <td>1.0</td>\n",
              "      <td>0.0</td>\n",
              "      <td>0.0</td>\n",
              "      <td>0.0</td>\n",
              "      <td>0.0</td>\n",
              "      <td>0.534884</td>\n",
              "      <td>0.395349</td>\n",
              "      <td>0.208038</td>\n",
              "      <td>0.626263</td>\n",
              "      <td>0.105263</td>\n",
              "    </tr>\n",
              "    <tr>\n",
              "      <th>3</th>\n",
              "      <td>0.0</td>\n",
              "      <td>0.0</td>\n",
              "      <td>1.0</td>\n",
              "      <td>0.0</td>\n",
              "      <td>1.0</td>\n",
              "      <td>0.0</td>\n",
              "      <td>0.0</td>\n",
              "      <td>0.0</td>\n",
              "      <td>0.0</td>\n",
              "      <td>0.0</td>\n",
              "      <td>0.0</td>\n",
              "      <td>0.0</td>\n",
              "      <td>0.0</td>\n",
              "      <td>0.0</td>\n",
              "      <td>1.0</td>\n",
              "      <td>0.488372</td>\n",
              "      <td>0.476744</td>\n",
              "      <td>0.257683</td>\n",
              "      <td>0.737374</td>\n",
              "      <td>0.368421</td>\n",
              "    </tr>\n",
              "    <tr>\n",
              "      <th>4</th>\n",
              "      <td>1.0</td>\n",
              "      <td>0.0</td>\n",
              "      <td>1.0</td>\n",
              "      <td>0.0</td>\n",
              "      <td>1.0</td>\n",
              "      <td>0.0</td>\n",
              "      <td>1.0</td>\n",
              "      <td>0.0</td>\n",
              "      <td>0.0</td>\n",
              "      <td>0.0</td>\n",
              "      <td>0.0</td>\n",
              "      <td>0.0</td>\n",
              "      <td>0.0</td>\n",
              "      <td>0.0</td>\n",
              "      <td>0.0</td>\n",
              "      <td>0.372093</td>\n",
              "      <td>0.406977</td>\n",
              "      <td>0.130024</td>\n",
              "      <td>0.757576</td>\n",
              "      <td>0.000000</td>\n",
              "    </tr>\n",
              "  </tbody>\n",
              "</table>\n",
              "</div>\n",
              "    <div class=\"colab-df-buttons\">\n",
              "\n",
              "  <div class=\"colab-df-container\">\n",
              "    <button class=\"colab-df-convert\" onclick=\"convertToInteractive('df-7aa4cb3d-d2eb-429a-a71f-8c76ef372de9')\"\n",
              "            title=\"Convert this dataframe to an interactive table.\"\n",
              "            style=\"display:none;\">\n",
              "\n",
              "  <svg xmlns=\"http://www.w3.org/2000/svg\" height=\"24px\" viewBox=\"0 -960 960 960\">\n",
              "    <path d=\"M120-120v-720h720v720H120Zm60-500h600v-160H180v160Zm220 220h160v-160H400v160Zm0 220h160v-160H400v160ZM180-400h160v-160H180v160Zm440 0h160v-160H620v160ZM180-180h160v-160H180v160Zm440 0h160v-160H620v160Z\"/>\n",
              "  </svg>\n",
              "    </button>\n",
              "\n",
              "  <style>\n",
              "    .colab-df-container {\n",
              "      display:flex;\n",
              "      gap: 12px;\n",
              "    }\n",
              "\n",
              "    .colab-df-convert {\n",
              "      background-color: #E8F0FE;\n",
              "      border: none;\n",
              "      border-radius: 50%;\n",
              "      cursor: pointer;\n",
              "      display: none;\n",
              "      fill: #1967D2;\n",
              "      height: 32px;\n",
              "      padding: 0 0 0 0;\n",
              "      width: 32px;\n",
              "    }\n",
              "\n",
              "    .colab-df-convert:hover {\n",
              "      background-color: #E2EBFA;\n",
              "      box-shadow: 0px 1px 2px rgba(60, 64, 67, 0.3), 0px 1px 3px 1px rgba(60, 64, 67, 0.15);\n",
              "      fill: #174EA6;\n",
              "    }\n",
              "\n",
              "    .colab-df-buttons div {\n",
              "      margin-bottom: 4px;\n",
              "    }\n",
              "\n",
              "    [theme=dark] .colab-df-convert {\n",
              "      background-color: #3B4455;\n",
              "      fill: #D2E3FC;\n",
              "    }\n",
              "\n",
              "    [theme=dark] .colab-df-convert:hover {\n",
              "      background-color: #434B5C;\n",
              "      box-shadow: 0px 1px 3px 1px rgba(0, 0, 0, 0.15);\n",
              "      filter: drop-shadow(0px 1px 2px rgba(0, 0, 0, 0.3));\n",
              "      fill: #FFFFFF;\n",
              "    }\n",
              "  </style>\n",
              "\n",
              "    <script>\n",
              "      const buttonEl =\n",
              "        document.querySelector('#df-7aa4cb3d-d2eb-429a-a71f-8c76ef372de9 button.colab-df-convert');\n",
              "      buttonEl.style.display =\n",
              "        google.colab.kernel.accessAllowed ? 'block' : 'none';\n",
              "\n",
              "      async function convertToInteractive(key) {\n",
              "        const element = document.querySelector('#df-7aa4cb3d-d2eb-429a-a71f-8c76ef372de9');\n",
              "        const dataTable =\n",
              "          await google.colab.kernel.invokeFunction('convertToInteractive',\n",
              "                                                    [key], {});\n",
              "        if (!dataTable) return;\n",
              "\n",
              "        const docLinkHtml = 'Like what you see? Visit the ' +\n",
              "          '<a target=\"_blank\" href=https://colab.research.google.com/notebooks/data_table.ipynb>data table notebook</a>'\n",
              "          + ' to learn more about interactive tables.';\n",
              "        element.innerHTML = '';\n",
              "        dataTable['output_type'] = 'display_data';\n",
              "        await google.colab.output.renderOutput(dataTable, element);\n",
              "        const docLink = document.createElement('div');\n",
              "        docLink.innerHTML = docLinkHtml;\n",
              "        element.appendChild(docLink);\n",
              "      }\n",
              "    </script>\n",
              "  </div>\n",
              "\n",
              "\n",
              "    <div id=\"df-788a898c-9c1b-4739-bf04-aa2dff640321\">\n",
              "      <button class=\"colab-df-quickchart\" onclick=\"quickchart('df-788a898c-9c1b-4739-bf04-aa2dff640321')\"\n",
              "                title=\"Suggest charts\"\n",
              "                style=\"display:none;\">\n",
              "\n",
              "<svg xmlns=\"http://www.w3.org/2000/svg\" height=\"24px\"viewBox=\"0 0 24 24\"\n",
              "     width=\"24px\">\n",
              "    <g>\n",
              "        <path d=\"M19 3H5c-1.1 0-2 .9-2 2v14c0 1.1.9 2 2 2h14c1.1 0 2-.9 2-2V5c0-1.1-.9-2-2-2zM9 17H7v-7h2v7zm4 0h-2V7h2v10zm4 0h-2v-4h2v4z\"/>\n",
              "    </g>\n",
              "</svg>\n",
              "      </button>\n",
              "\n",
              "<style>\n",
              "  .colab-df-quickchart {\n",
              "      --bg-color: #E8F0FE;\n",
              "      --fill-color: #1967D2;\n",
              "      --hover-bg-color: #E2EBFA;\n",
              "      --hover-fill-color: #174EA6;\n",
              "      --disabled-fill-color: #AAA;\n",
              "      --disabled-bg-color: #DDD;\n",
              "  }\n",
              "\n",
              "  [theme=dark] .colab-df-quickchart {\n",
              "      --bg-color: #3B4455;\n",
              "      --fill-color: #D2E3FC;\n",
              "      --hover-bg-color: #434B5C;\n",
              "      --hover-fill-color: #FFFFFF;\n",
              "      --disabled-bg-color: #3B4455;\n",
              "      --disabled-fill-color: #666;\n",
              "  }\n",
              "\n",
              "  .colab-df-quickchart {\n",
              "    background-color: var(--bg-color);\n",
              "    border: none;\n",
              "    border-radius: 50%;\n",
              "    cursor: pointer;\n",
              "    display: none;\n",
              "    fill: var(--fill-color);\n",
              "    height: 32px;\n",
              "    padding: 0;\n",
              "    width: 32px;\n",
              "  }\n",
              "\n",
              "  .colab-df-quickchart:hover {\n",
              "    background-color: var(--hover-bg-color);\n",
              "    box-shadow: 0 1px 2px rgba(60, 64, 67, 0.3), 0 1px 3px 1px rgba(60, 64, 67, 0.15);\n",
              "    fill: var(--button-hover-fill-color);\n",
              "  }\n",
              "\n",
              "  .colab-df-quickchart-complete:disabled,\n",
              "  .colab-df-quickchart-complete:disabled:hover {\n",
              "    background-color: var(--disabled-bg-color);\n",
              "    fill: var(--disabled-fill-color);\n",
              "    box-shadow: none;\n",
              "  }\n",
              "\n",
              "  .colab-df-spinner {\n",
              "    border: 2px solid var(--fill-color);\n",
              "    border-color: transparent;\n",
              "    border-bottom-color: var(--fill-color);\n",
              "    animation:\n",
              "      spin 1s steps(1) infinite;\n",
              "  }\n",
              "\n",
              "  @keyframes spin {\n",
              "    0% {\n",
              "      border-color: transparent;\n",
              "      border-bottom-color: var(--fill-color);\n",
              "      border-left-color: var(--fill-color);\n",
              "    }\n",
              "    20% {\n",
              "      border-color: transparent;\n",
              "      border-left-color: var(--fill-color);\n",
              "      border-top-color: var(--fill-color);\n",
              "    }\n",
              "    30% {\n",
              "      border-color: transparent;\n",
              "      border-left-color: var(--fill-color);\n",
              "      border-top-color: var(--fill-color);\n",
              "      border-right-color: var(--fill-color);\n",
              "    }\n",
              "    40% {\n",
              "      border-color: transparent;\n",
              "      border-right-color: var(--fill-color);\n",
              "      border-top-color: var(--fill-color);\n",
              "    }\n",
              "    60% {\n",
              "      border-color: transparent;\n",
              "      border-right-color: var(--fill-color);\n",
              "    }\n",
              "    80% {\n",
              "      border-color: transparent;\n",
              "      border-right-color: var(--fill-color);\n",
              "      border-bottom-color: var(--fill-color);\n",
              "    }\n",
              "    90% {\n",
              "      border-color: transparent;\n",
              "      border-bottom-color: var(--fill-color);\n",
              "    }\n",
              "  }\n",
              "</style>\n",
              "\n",
              "      <script>\n",
              "        async function quickchart(key) {\n",
              "          const quickchartButtonEl =\n",
              "            document.querySelector('#' + key + ' button');\n",
              "          quickchartButtonEl.disabled = true;  // To prevent multiple clicks.\n",
              "          quickchartButtonEl.classList.add('colab-df-spinner');\n",
              "          try {\n",
              "            const charts = await google.colab.kernel.invokeFunction(\n",
              "                'suggestCharts', [key], {});\n",
              "          } catch (error) {\n",
              "            console.error('Error during call to suggestCharts:', error);\n",
              "          }\n",
              "          quickchartButtonEl.classList.remove('colab-df-spinner');\n",
              "          quickchartButtonEl.classList.add('colab-df-quickchart-complete');\n",
              "        }\n",
              "        (() => {\n",
              "          let quickchartButtonEl =\n",
              "            document.querySelector('#df-788a898c-9c1b-4739-bf04-aa2dff640321 button');\n",
              "          quickchartButtonEl.style.display =\n",
              "            google.colab.kernel.accessAllowed ? 'block' : 'none';\n",
              "        })();\n",
              "      </script>\n",
              "    </div>\n",
              "\n",
              "    </div>\n",
              "  </div>\n"
            ],
            "application/vnd.google.colaboratory.intrinsic+json": {
              "type": "dataframe",
              "variable_name": "X_test_normalized",
              "summary": "{\n  \"name\": \"X_test_normalized\",\n  \"rows\": 104,\n  \"fields\": [\n    {\n      \"column\": \"sex_male\",\n      \"properties\": {\n        \"dtype\": \"number\",\n        \"std\": 0.4780468102608759,\n        \"min\": 0.0,\n        \"max\": 1.0,\n        \"num_unique_values\": 2,\n        \"samples\": [\n          1.0,\n          0.0\n        ],\n        \"semantic_type\": \"\",\n        \"description\": \"\"\n      }\n    },\n    {\n      \"column\": \"cp_atypical_angina\",\n      \"properties\": {\n        \"dtype\": \"number\",\n        \"std\": 0.30903134697469553,\n        \"min\": 0.0,\n        \"max\": 1.0,\n        \"num_unique_values\": 2,\n        \"samples\": [\n          1.0,\n          0.0\n        ],\n        \"semantic_type\": \"\",\n        \"description\": \"\"\n      }\n    },\n    {\n      \"column\": \"cp_non_anginal_pain\",\n      \"properties\": {\n        \"dtype\": \"number\",\n        \"std\": 0.45060327995632,\n        \"min\": 0.0,\n        \"max\": 1.0,\n        \"num_unique_values\": 2,\n        \"samples\": [\n          1.0,\n          0.0\n        ],\n        \"semantic_type\": \"\",\n        \"description\": \"\"\n      }\n    },\n    {\n      \"column\": \"cp_typical_angina\",\n      \"properties\": {\n        \"dtype\": \"number\",\n        \"std\": 0.48886022200033735,\n        \"min\": 0.0,\n        \"max\": 1.0,\n        \"num_unique_values\": 2,\n        \"samples\": [\n          0.0,\n          1.0\n        ],\n        \"semantic_type\": \"\",\n        \"description\": \"\"\n      }\n    },\n    {\n      \"column\": \"fbs_low_fbs\",\n      \"properties\": {\n        \"dtype\": \"number\",\n        \"std\": 0.3882853289003891,\n        \"min\": 0.0,\n        \"max\": 1.0,\n        \"num_unique_values\": 2,\n        \"samples\": [\n          0.0,\n          1.0\n        ],\n        \"semantic_type\": \"\",\n        \"description\": \"\"\n      }\n    },\n    {\n      \"column\": \"restecg_normal\",\n      \"properties\": {\n        \"dtype\": \"number\",\n        \"std\": 0.5023284097254764,\n        \"min\": 0.0,\n        \"max\": 1.0,\n        \"num_unique_values\": 2,\n        \"samples\": [\n          1.0,\n          0.0\n        ],\n        \"semantic_type\": \"\",\n        \"description\": \"\"\n      }\n    },\n    {\n      \"column\": \"restecg_st_t_wave_abnormality\",\n      \"properties\": {\n        \"dtype\": \"number\",\n        \"std\": 0.4810641365868819,\n        \"min\": 0.0,\n        \"max\": 1.0,\n        \"num_unique_values\": 2,\n        \"samples\": [\n          0.0,\n          1.0\n        ],\n        \"semantic_type\": \"\",\n        \"description\": \"\"\n      }\n    },\n    {\n      \"column\": \"exang_yes\",\n      \"properties\": {\n        \"dtype\": \"number\",\n        \"std\": 0.4637735276929868,\n        \"min\": 0.0,\n        \"max\": 1.0,\n        \"num_unique_values\": 2,\n        \"samples\": [\n          0.0,\n          1.0\n        ],\n        \"semantic_type\": \"\",\n        \"description\": \"\"\n      }\n    },\n    {\n      \"column\": \"slope_flat\",\n      \"properties\": {\n        \"dtype\": \"number\",\n        \"std\": 0.49784824523147586,\n        \"min\": 0.0,\n        \"max\": 1.0,\n        \"num_unique_values\": 2,\n        \"samples\": [\n          1.0,\n          0.0\n        ],\n        \"semantic_type\": \"\",\n        \"description\": \"\"\n      }\n    },\n    {\n      \"column\": \"slope_upsloping\",\n      \"properties\": {\n        \"dtype\": \"number\",\n        \"std\": 0.2342897996744974,\n        \"min\": 0.0,\n        \"max\": 1.0,\n        \"num_unique_values\": 2,\n        \"samples\": [\n          1.0,\n          0.0\n        ],\n        \"semantic_type\": \"\",\n        \"description\": \"\"\n      }\n    },\n    {\n      \"column\": \"ca_one_vessel\",\n      \"properties\": {\n        \"dtype\": \"number\",\n        \"std\": 0.41037697382074206,\n        \"min\": 0.0,\n        \"max\": 1.0,\n        \"num_unique_values\": 2,\n        \"samples\": [\n          1.0,\n          0.0\n        ],\n        \"semantic_type\": \"\",\n        \"description\": \"\"\n      }\n    },\n    {\n      \"column\": \"ca_three_vessels\",\n      \"properties\": {\n        \"dtype\": \"number\",\n        \"std\": 0.23428979967449734,\n        \"min\": 0.0,\n        \"max\": 1.0,\n        \"num_unique_values\": 2,\n        \"samples\": [\n          1.0,\n          0.0\n        ],\n        \"semantic_type\": \"\",\n        \"description\": \"\"\n      }\n    },\n    {\n      \"column\": \"ca_two_vessels\",\n      \"properties\": {\n        \"dtype\": \"number\",\n        \"std\": 0.251767463868118,\n        \"min\": 0.0,\n        \"max\": 1.0,\n        \"num_unique_values\": 2,\n        \"samples\": [\n          1.0,\n          0.0\n        ],\n        \"semantic_type\": \"\",\n        \"description\": \"\"\n      }\n    },\n    {\n      \"column\": \"thal_normal\",\n      \"properties\": {\n        \"dtype\": \"number\",\n        \"std\": 0.19323896987207786,\n        \"min\": 0.0,\n        \"max\": 1.0,\n        \"num_unique_values\": 2,\n        \"samples\": [\n          1.0,\n          0.0\n        ],\n        \"semantic_type\": \"\",\n        \"description\": \"\"\n      }\n    },\n    {\n      \"column\": \"thal_reversible_defect\",\n      \"properties\": {\n        \"dtype\": \"number\",\n        \"std\": 0.5020495707310659,\n        \"min\": 0.0,\n        \"max\": 1.0,\n        \"num_unique_values\": 2,\n        \"samples\": [\n          0.0,\n          1.0\n        ],\n        \"semantic_type\": \"\",\n        \"description\": \"\"\n      }\n    },\n    {\n      \"column\": \"age\",\n      \"properties\": {\n        \"dtype\": \"number\",\n        \"std\": 0.2140162872970599,\n        \"min\": 0.0,\n        \"max\": 1.0,\n        \"num_unique_values\": 37,\n        \"samples\": [\n          0.9302325581395349,\n          0.2093023255813954\n        ],\n        \"semantic_type\": \"\",\n        \"description\": \"\"\n      }\n    },\n    {\n      \"column\": \"trestbps\",\n      \"properties\": {\n        \"dtype\": \"number\",\n        \"std\": 0.21418796066543785,\n        \"min\": 0.0,\n        \"max\": 1.0000000000000002,\n        \"num_unique_values\": 36,\n        \"samples\": [\n          0.6976744186046513,\n          0.32558139534883734\n        ],\n        \"semantic_type\": \"\",\n        \"description\": \"\"\n      }\n    },\n    {\n      \"column\": \"chol\",\n      \"properties\": {\n        \"dtype\": \"number\",\n        \"std\": 0.13779686638299854,\n        \"min\": 0.0,\n        \"max\": 1.0,\n        \"num_unique_values\": 76,\n        \"samples\": [\n          0.13002364066193856,\n          0.09692671394799057\n        ],\n        \"semantic_type\": \"\",\n        \"description\": \"\"\n      }\n    },\n    {\n      \"column\": \"thalachh\",\n      \"properties\": {\n        \"dtype\": \"number\",\n        \"std\": 0.2236400290797722,\n        \"min\": 0.0,\n        \"max\": 1.0,\n        \"num_unique_values\": 58,\n        \"samples\": [\n          0.29292929292929293,\n          0.43434343434343436\n        ],\n        \"semantic_type\": \"\",\n        \"description\": \"\"\n      }\n    },\n    {\n      \"column\": \"oldpeak\",\n      \"properties\": {\n        \"dtype\": \"number\",\n        \"std\": 0.26961332149630507,\n        \"min\": 0.0,\n        \"max\": 0.9999999999999999,\n        \"num_unique_values\": 26,\n        \"samples\": [\n          0.3157894736842105,\n          0.9999999999999999\n        ],\n        \"semantic_type\": \"\",\n        \"description\": \"\"\n      }\n    }\n  ]\n}"
            }
          },
          "metadata": {},
          "execution_count": 88
        }
      ]
    },
    {
      "cell_type": "markdown",
      "source": [
        "## Treinamento utilizando o modelo desenvolvido no PyTorch"
      ],
      "metadata": {
        "id": "wnCMEPXz2BME"
      }
    },
    {
      "cell_type": "code",
      "source": [
        "# Constantes utilizadas para o treio\n",
        "\n",
        "DATASET_FOLDER_PATH = \"dataset\" #caminho para o dataset\n",
        "BATCH_SIZE = 64 #número de batches para o treino\n",
        "LEARNING_RATE = 0.01 #taxa de aprendizado\n",
        "NUM_EPOCHS = 40 #Número de época para treinamento\n",
        "\n",
        "# Definição da função sigmoide para usar na avaliação\n",
        "def sigmoid(z):\n",
        " return 1 / (1 + np.exp(-z))\n",
        "\n",
        "\n",
        "# Configuração do dispositivo no pytorch para rodar na GPU se disponível\n",
        "# Caso não tenha GPU, o código rodará na CPU\n",
        "device = 'cuda' if torch.cuda.is_available() else 'cpu'\n",
        "print(f\"Dispositivo utilizado: {device}\")\n"
      ],
      "metadata": {
        "id": "Zu0WDyG93mtI",
        "colab": {
          "base_uri": "https://localhost:8080/"
        },
        "outputId": "5196125d-b005-4a2c-af1c-b91f34e97bad"
      },
      "execution_count": 89,
      "outputs": [
        {
          "output_type": "stream",
          "name": "stdout",
          "text": [
            "Dispositivo utilizado: cpu\n"
          ]
        }
      ]
    },
    {
      "cell_type": "markdown",
      "source": [
        "Preparação dos dados, dada a necessidade de converter as colunas do dataset em valores numéricos"
      ],
      "metadata": {
        "id": "JLMN-oVG3bnz"
      }
    },
    {
      "cell_type": "code",
      "source": [
        "# Converter a coluna time_bin (categoria com intervalos) para valores numéricos\n",
        "if 'time_bin' in X_train_normalized.columns:\n",
        "    # Extrair o ponto médio de cada intervalo\n",
        "    X_train_normalized['time_bin'] = X_train_normalized['time_bin'].apply(lambda x: x.mid if isinstance(x, pd.Interval) else x)\n",
        "    X_test_normalized['time_bin'] = X_test_normalized['time_bin'].apply(lambda x: x.mid if isinstance(x, pd.Interval) else x)\n",
        "\n",
        "    print(\"Coluna time_bin convertida para valores numéricos (ponto médio do intervalo)\")\n",
        "\n",
        "# Agora é possível aplicar o StandardScaler\n",
        "scaler = StandardScaler()\n",
        "X_train_scaled = scaler.fit_transform(X_train_normalized)\n",
        "X_test_scaled = scaler.transform(X_test_normalized)\n",
        "\n",
        "print(\"Normalização concluída com sucesso!\")"
      ],
      "metadata": {
        "id": "PD569DBU4xoY",
        "colab": {
          "base_uri": "https://localhost:8080/"
        },
        "outputId": "af7aac18-712b-4e3c-d53f-e328d01e2b61"
      },
      "execution_count": 90,
      "outputs": [
        {
          "output_type": "stream",
          "name": "stdout",
          "text": [
            "Normalização concluída com sucesso!\n"
          ]
        }
      ]
    },
    {
      "cell_type": "markdown",
      "source": [
        "Conversão das entradas para tensores pytorch e criação dos loaders para treinamento."
      ],
      "metadata": {
        "id": "HWnU64Uz7DRU"
      }
    },
    {
      "cell_type": "code",
      "source": [
        "torch.manual_seed(13)\n",
        "\n",
        "# Constroi tensores a partir de arrays Numpy\n",
        "x_train_tensor = torch.FloatTensor(X_train_scaled)\n",
        "y_train_tensor = torch.FloatTensor(y_train.values.reshape(-1, 1))\n",
        "\n",
        "x_test_tensor = torch.FloatTensor(X_test_scaled)\n",
        "y_test_tensor = torch.FloatTensor(y_test.values.reshape(-1, 1))\n",
        "\n",
        "\n",
        "# Cria um conjunto de dados contendo TODOS os data points\n",
        "train_dataset = TensorDataset(x_train_tensor, y_train_tensor)\n",
        "test_dataset = TensorDataset(x_test_tensor, y_test_tensor)\n",
        "\n",
        "# Constroi um Loader de cada conjunto\n",
        "train_loader = DataLoader(\n",
        "    dataset=train_dataset,\n",
        "    batch_size=16,\n",
        "    shuffle=True\n",
        ")\n",
        "test_loader = DataLoader(dataset=test_dataset, batch_size=16)"
      ],
      "metadata": {
        "id": "-dEaKZ9t3auD"
      },
      "execution_count": 91,
      "outputs": []
    },
    {
      "cell_type": "code",
      "source": [
        "# Definir modelo, perda e otimizador\n",
        "input_dim = X_train_normalized.shape[1] # Número de features\n",
        "\n",
        "# Definir o modelo de regressão logística (uma única camada linear)\n",
        "torch.manual_seed(42)\n",
        "model = nn.Sequential()\n",
        "model.add_module('linear', nn.Linear(input_dim, 1))\n",
        "\n",
        "# Calcular peso para a classe positiva (Doente) para lidar com desbalanceamento\n",
        "n_samples = len(y_train)\n",
        "n_disease = np.sum(y_train)\n",
        "n_normal = n_samples - n_disease\n",
        "print(f\"\\nCalculando peso para classe positiva (doente):\")\n",
        "print(f\"Total de amostras: {n_samples}\")\n",
        "print(f\"Amostras normais: {n_normal}\")\n",
        "print(f\"Amostras doentes: {n_disease}\")\n",
        "print(f\"Proporção: {n_normal / n_disease:.2f}:1\")\n",
        "\n",
        "# Definir função de perda\n",
        "loss_fn = nn.BCEWithLogitsLoss()\n",
        "# Definir otimizador SGD (Stochastic Gradient Descent)\n",
        "optimizer = optim.SGD(model.parameters(), lr=LEARNING_RATE)"
      ],
      "metadata": {
        "id": "qBZe9I0X1_39",
        "colab": {
          "base_uri": "https://localhost:8080/"
        },
        "outputId": "db3085e5-bf2a-4b76-df71-c82407caef4b"
      },
      "execution_count": 92,
      "outputs": [
        {
          "output_type": "stream",
          "name": "stdout",
          "text": [
            "\n",
            "Calculando peso para classe positiva (doente):\n",
            "Total de amostras: 415\n",
            "Amostras normais: 239\n",
            "Amostras doentes: 176\n",
            "Proporção: 1.36:1\n"
          ]
        }
      ]
    },
    {
      "cell_type": "code",
      "source": [
        "# Inicializar a arquitetura de treinamento\n",
        "arch = Architecture(model, loss_fn, optimizer)\n",
        "arch.set_loaders(train_loader, test_loader)\n",
        "# Treinar o modelo\n",
        "print(f\"Iniciando treinamento por {NUM_EPOCHS} épocas...\")\n",
        "arch.train(NUM_EPOCHS)\n",
        "print(\"Treinamento concluído!\")"
      ],
      "metadata": {
        "id": "nBP62jPJ4d0i",
        "colab": {
          "base_uri": "https://localhost:8080/"
        },
        "outputId": "80a8a283-b580-4f5b-868c-9e0b221c79d4"
      },
      "execution_count": 93,
      "outputs": [
        {
          "output_type": "stream",
          "name": "stdout",
          "text": [
            "Iniciando treinamento por 40 épocas...\n",
            "Treinamento concluído!\n"
          ]
        }
      ]
    },
    {
      "cell_type": "code",
      "source": [
        "# Plotar evolução da perda\n",
        "loss_fig = arch.plot_losses()\n",
        "plt.show()"
      ],
      "metadata": {
        "colab": {
          "base_uri": "https://localhost:8080/",
          "height": 395
        },
        "id": "eJ7ovB8u3UhT",
        "outputId": "ef65f1c5-3b34-47ff-8a5b-60c4857f0042"
      },
      "execution_count": 94,
      "outputs": [
        {
          "output_type": "display_data",
          "data": {
            "text/plain": [
              "<Figure size 1000x400 with 1 Axes>"
            ],
            "image/png": "[encoded data removed]"
          },
          "metadata": {}
        }
      ]
    },
    {
      "cell_type": "code",
      "source": [
        "run.finish()"
      ],
      "metadata": {
        "id": "gWWeo_ynDP-r",
        "colab": {
          "base_uri": "https://localhost:8080/",
          "height": 86
        },
        "outputId": "9ae147a5-c5c4-4415-e559-aaa804c058e4"
      },
      "execution_count": 95,
      "outputs": [
        {
          "output_type": "display_data",
          "data": {
            "text/plain": [
              "<IPython.core.display.HTML object>"
            ],
            "text/html": []
          },
          "metadata": {}
        },
        {
          "output_type": "display_data",
          "data": {
            "text/plain": [
              "<IPython.core.display.HTML object>"
            ],
            "text/html": [
              " View run <strong style=\"color:#cdcd00\">prime-serenity-104</strong> at: <a href='https://wandb.ai/guilherme-silva-096-ufrn/Heart_Disease/runs/k70042f7' target=\"_blank\">https://wandb.ai/guilherme-silva-096-ufrn/Heart_Disease/runs/k70042f7</a><br> View project at: <a href='https://wandb.ai/guilherme-silva-096-ufrn/Heart_Disease' target=\"_blank\">https://wandb.ai/guilherme-silva-096-ufrn/Heart_Disease</a><br>Synced 5 W&B file(s), 0 media file(s), 0 artifact file(s) and 0 other file(s)"
            ]
          },
          "metadata": {}
        },
        {
          "output_type": "display_data",
          "data": {
            "text/plain": [
              "<IPython.core.display.HTML object>"
            ],
            "text/html": [
              "Find logs at: <code>./wandb/run-20250515_133732-k70042f7/logs</code>"
            ]
          },
          "metadata": {}
        }
      ]
    },
    {
      "cell_type": "markdown",
      "source": [
        "# **Avaliação do Modelo**\n",
        "Após treinado, avaliar o desempenho do classificador\n",
        "no conjunto de teste."
      ],
      "metadata": {
        "id": "RZHlBnW7-1iN"
      }
    },
    {
      "cell_type": "markdown",
      "source": [
        "## Implementações das métricas de avaliação"
      ],
      "metadata": {
        "id": "KtWPPJK7kwo5"
      }
    },
    {
      "cell_type": "markdown",
      "source": [
        "$$\n",
        "\\Large \\text{Recall} = \\frac{\\text{TP}}{\\text{TP + FN}} \\ \\ \\  \\text{Precision} = \\frac{\\text{TP}}{\\text{TP + FP}}\n",
        "$$\n",
        "\n",
        "$$\n",
        "\\Large \\text{TPR} = \\frac{\\text{TP}}{\\text{TP + FN}} \\ \\ \\  \\text{FPR} = \\frac{\\text{FP}}{\\text{FP + TN}}\n",
        "$$"
      ],
      "metadata": {
        "id": "wpQGGMTOl0oz"
      }
    },
    {
      "cell_type": "code",
      "source": [
        "# Métricas de avaliação do modelo\n",
        "def precision_recall(cm):\n",
        "    tn, fp = cm[0]\n",
        "    fn, tp = cm[1]\n",
        "    precision = tp / (tp + fp) if (tp + fp) > 0 else 0\n",
        "    recall = tp / (tp + fn) if (tp + fn) > 0 else 0\n",
        "    return precision, recall\n",
        "\n",
        "def tpr_fpr(cm):\n",
        "    tn, fp = cm[0]\n",
        "    fn, tp = cm[1]\n",
        "    tpr = tp / (tp + fn) if (tp + fn) > 0 else 0\n",
        "    fpr = fp / (fp + tn) if (fp + tn) > 0 else 0\n",
        "    return tpr, fpr\n",
        "\n",
        "# Cálculo de F1-score e especificidade\n",
        "def f1_score_manual(precision, recall):\n",
        "    return 2 * (precision * recall) / (precision + recall) if (precision + recall) > 0 else 0\n",
        "\n",
        "def specificity(cm):\n",
        "    tn, fp = cm[0]\n",
        "    fn, tp = cm[1]\n",
        "    return tn / (tn + fp) if (tn + fp) > 0 else 0\n",
        "\n",
        "# Adicionando função para visualizar as probabilidades em uma linha\n",
        "def figure10(y, probabilities, threshold=0.5, shift=0.04, annot=True):\n",
        "    fig, ax = plt.subplots(1, 1, figsize=(10, 2))\n",
        "\n",
        "    # Configurações do plot\n",
        "    ax.grid(False)\n",
        "    ax.set_ylim([-.1, .1])\n",
        "    ax.axes.get_yaxis().set_visible(False)\n",
        "    ax.plot([0, 1], [0, 0], linewidth=2, c='k', zorder=1)\n",
        "    ax.plot([0, 0], [-.1, .1], c='k', zorder=1)\n",
        "    ax.plot([1, 1], [-.1, .1], c='k', zorder=1)\n",
        "\n",
        "    # Identificar os diferentes tipos de classificação\n",
        "    tn = (y == 0) & (probabilities < threshold)\n",
        "    fn = (y == 0) & (probabilities >= threshold)\n",
        "    tp = (y == 1) & (probabilities >= threshold)\n",
        "    fp = (y == 1) & (probabilities < threshold)\n",
        "\n",
        "    # Desenhar o threshold\n",
        "    ax.plot([threshold, threshold], [-.1, .1], c='k', zorder=1, linestyle='--')\n",
        "\n",
        "    # Desenhar os pontos\n",
        "    colors = ['#FF0000', '#0000FF']  # Vermelho e azul\n",
        "    ax.scatter(probabilities[tn], np.zeros(tn.sum()) + shift, c=colors[0], s=150, zorder=2, edgecolor=colors[0], linewidth=3)\n",
        "    ax.scatter(probabilities[fn], np.zeros(fn.sum()) + shift, c=colors[0], s=150, zorder=2, edgecolor=colors[1], linewidth=3)\n",
        "    ax.scatter(probabilities[tp], np.zeros(tp.sum()) - shift, c=colors[1], s=150, zorder=2, edgecolor=colors[1], linewidth=3)\n",
        "    ax.scatter(probabilities[fp], np.zeros(fp.sum()) - shift, c=colors[1], s=150, zorder=2, edgecolor=colors[0], linewidth=3)\n",
        "\n",
        "    ax.set_xlabel(r'$\\sigma(z) = P(y=1)$')\n",
        "    ax.set_title(f'Threshold = {threshold}')\n",
        "\n",
        "    if annot:\n",
        "        ax.annotate('TN', xy=(.20, .03), c='k', weight='bold', fontsize=20)\n",
        "        ax.annotate('FN', xy=(.20, -.08), c='k', weight='bold', fontsize=20)\n",
        "        ax.annotate('FP', xy=(.70, .03), c='k', weight='bold', fontsize=20)\n",
        "        ax.annotate('TP', xy=(.70, -.08), c='k', weight='bold', fontsize=20)\n",
        "\n",
        "    fig.tight_layout()\n",
        "    return fig"
      ],
      "metadata": {
        "id": "SB4c4I4v-1MA"
      },
      "execution_count": 96,
      "outputs": []
    },
    {
      "cell_type": "code",
      "source": [
        "#exemplo de predição para validação\n",
        "logits_val = arch.predict(X_test_scaled[:5])\n",
        "logits_val\n",
        "\n",
        "# prediction probabilities\n",
        "prob_val = torch.sigmoid(torch.as_tensor(logits_val[:5]).float())\n",
        "prob_val"
      ],
      "metadata": {
        "colab": {
          "base_uri": "https://localhost:8080/"
        },
        "id": "NNrU-c5SZS0V",
        "outputId": "1baf45b0-2e1b-434d-ac6d-e9944c3edf3c"
      },
      "execution_count": 97,
      "outputs": [
        {
          "output_type": "execute_result",
          "data": {
            "text/plain": [
              "tensor([[0.3724],\n",
              "        [0.7480],\n",
              "        [0.7581],\n",
              "        [0.5755],\n",
              "        [0.9298]])"
            ]
          },
          "metadata": {},
          "execution_count": 97
        }
      ]
    },
    {
      "cell_type": "code",
      "source": [
        "# Obtendo as predições do modelo nos dados de teste\n",
        "logits = arch.predict(X_test_scaled)\n",
        "\n",
        "# Convertendo os logits para probabilidades usando a função sigmoid\n",
        "y_pred_proba = sigmoid(logits).squeeze()\n",
        "\n",
        "# Calculando a matriz de confusão com threshold padrão de 0.5\n",
        "cm_thresh50 = confusion_matrix(y_test, (y_pred_proba >= 0.5))\n",
        "\n",
        "# Plotar a matriz de confusão\n",
        "plt.figure(figsize=(8, 6))\n",
        "sns.heatmap(cm_thresh50, annot=True, fmt=\"d\", cmap=\"Blues\",\n",
        "            xticklabels=[\"Normal\", \"Doente\"], yticklabels=[\"Normal\", \"Doente\"])\n",
        "plt.xlabel(\"Predicted\")\n",
        "plt.ylabel(\"True\")\n",
        "plt.title(\"Matriz de confusão (Threshold = 0.5)\")\n",
        "plt.show()"
      ],
      "metadata": {
        "colab": {
          "base_uri": "https://localhost:8080/",
          "height": 605
        },
        "id": "08oTbNJMWZhI",
        "outputId": "c68145b4-d80d-4872-f8a2-50ea070ec61d"
      },
      "execution_count": 98,
      "outputs": [
        {
          "output_type": "display_data",
          "data": {
            "text/plain": [
              "<Figure size 800x600 with 2 Axes>"
            ],
            "image/png": "[encoded data removed]"
          },
          "metadata": {}
        }
      ]
    },
    {
      "cell_type": "code",
      "source": [
        "# Extraíndo as métricas\n",
        "precision, recall = precision_recall(cm_thresh50)\n",
        "print(f\"Precisão: {precision:.4f} \\nRecall: {recall:.4f}\")\n",
        "\n",
        "# Calcular acurácia\n",
        "accuracy = accuracy_score(y_test, (y_pred_proba >= 0.5))\n",
        "print(f\"Acurácia: {accuracy:.4f}\")\n",
        "\n",
        "# Calcular TPR e FPR\n",
        "tpr, fpr = tpr_fpr(cm_thresh50)\n",
        "print(f\"TPR: {tpr:.4f}\\nFPR: {fpr:.4f}\")\n",
        "\n",
        "# Calcular AUC-ROC\n",
        "auc_score = roc_auc_score(y_test, y_pred_proba)\n",
        "print(f\"AUC-ROC: {auc_score:.4f}\")"
      ],
      "metadata": {
        "colab": {
          "base_uri": "https://localhost:8080/"
        },
        "id": "dxprZN5klCGB",
        "outputId": "91a05698-2c2b-49b8-f073-ff4358465ef3"
      },
      "execution_count": 99,
      "outputs": [
        {
          "output_type": "stream",
          "name": "stdout",
          "text": [
            "Precisão: 0.7292 \n",
            "Recall: 0.7955\n",
            "Acurácia: 0.7885\n",
            "TPR: 0.7955\n",
            "FPR: 0.2167\n",
            "AUC-ROC: 0.8523\n"
          ]
        }
      ]
    },
    {
      "cell_type": "markdown",
      "source": [
        "Plotagem da linha de probabilidades"
      ],
      "metadata": {
        "id": "mYLZU9k-jxVr"
      }
    },
    {
      "cell_type": "code",
      "source": [
        "# Visualizar a linha de probabilidades\n",
        "fig = figure10(y_test, y_pred_proba, threshold=0.5, shift=0.04, annot=True)\n",
        "plt.title('Distribuição de Probabilidades com Threshold = 0.5')\n",
        "plt.show()"
      ],
      "metadata": {
        "colab": {
          "base_uri": "https://localhost:8080/",
          "height": 195
        },
        "id": "PCIcVOHQXqhj",
        "outputId": "51c3c718-02c6-49a9-83e6-525569f4c40a"
      },
      "execution_count": 100,
      "outputs": [
        {
          "output_type": "display_data",
          "data": {
            "text/plain": [
              "<Figure size 1000x200 with 1 Axes>"
            ],
            "image/png": "[encoded data removed]"
          },
          "metadata": {}
        }
      ]
    },
    {
      "cell_type": "code",
      "source": [
        "# Calcular F1-score e especificidade\n",
        "f1_score = f1_score_manual(precision, recall)\n",
        "specif = specificity(cm_thresh50)\n",
        "\n",
        "print(f\"F1-Score: {f1_score:.4f}\")\n",
        "print(f\"Especificidade: {specif:.4f}\")"
      ],
      "metadata": {
        "colab": {
          "base_uri": "https://localhost:8080/"
        },
        "id": "ZyxHcPk9afgi",
        "outputId": "9853ad70-9451-4bf3-96cc-da8e98703b2d"
      },
      "execution_count": 101,
      "outputs": [
        {
          "output_type": "stream",
          "name": "stdout",
          "text": [
            "F1-Score: 0.7609\n",
            "Especificidade: 0.7833\n"
          ]
        }
      ]
    },
    {
      "cell_type": "code",
      "source": [
        "# Visualizar curvas ROC e Precision-Recall\n",
        "plt.figure(figsize=(16, 6))\n",
        "\n",
        "# Curva ROC\n",
        "plt.subplot(1, 2, 1)\n",
        "fpr_curve, tpr_curve, thresholds_roc = roc_curve(y_test, y_pred_proba)\n",
        "plt.plot(fpr_curve, tpr_curve, lw=2, label=f'AUC = {auc_score:.4f}')\n",
        "plt.plot([0, 1], [0, 1], 'k--', lw=2)\n",
        "plt.xlim([0.0, 1.0])\n",
        "plt.ylim([0.0, 1.05])\n",
        "plt.xlabel('Taxa de Falsos Positivos (FPR)')\n",
        "plt.ylabel('Taxa de Verdadeiros Positivos (TPR)')\n",
        "plt.title('Curva ROC')\n",
        "plt.legend(loc=\"lower right\")\n",
        "\n",
        "# Curva Precision-Recall\n",
        "plt.subplot(1, 2, 2)\n",
        "precision_curve, recall_curve, thresholds_pr = precision_recall_curve(y_test, y_pred_proba)\n",
        "pr_auc = auc(recall_curve, precision_curve)\n",
        "plt.plot(recall_curve, precision_curve, lw=2, label=f'AUC = {pr_auc:.4f}')\n",
        "plt.plot([0, 1], [np.sum(y_test)/len(y_test)] * 2, 'k--', lw=2, label='Linha base')\n",
        "plt.xlim([0.0, 1.0])\n",
        "plt.ylim([0.0, 1.05])\n",
        "plt.xlabel('Recall')\n",
        "plt.ylabel('Precision')\n",
        "plt.title('Curva Precision-Recall')\n",
        "plt.legend(loc=\"lower right\")\n",
        "\n",
        "plt.tight_layout()\n",
        "plt.show()"
      ],
      "metadata": {
        "colab": {
          "base_uri": "https://localhost:8080/",
          "height": 595
        },
        "id": "yzq0FW3GapcV",
        "outputId": "61e861e2-a942-4057-e691-e7eb7b9219da"
      },
      "execution_count": null,
      "outputs": [
        {
          "output_type": "display_data",
          "data": {
            "text/plain": [
              "<Figure size 1600x600 with 2 Axes>"
            ],
            "image/png": "[encoded data removed]"
          },
          "metadata": {}
        }
      ]
    },
    {
      "cell_type": "markdown",
      "source": [
        "## **Exportação do modelo para o wandb**"
      ],
      "metadata": {
        "id": "NCvAIWKtjy_5"
      }
    },
    {
      "cell_type": "code",
      "source": [
        "# Login to Weights & Biases\n",
        "!wandb login --relogin"
      ],
      "metadata": {
        "id": "y1Ch1lRjkQ9n"
      },
      "execution_count": null,
      "outputs": []
    },
    {
      "cell_type": "code",
      "source": [
        "run = wandb.init(project=\"Heart_Disease\",job_type=\"train\")"
      ],
      "metadata": {
        "id": "IXMwpS0VrQng",
        "colab": {
          "base_uri": "https://localhost:8080/",
          "height": 104
        },
        "outputId": "7288d852-b2e3-45b2-adec-fd730fc84bbe"
      },
      "execution_count": null,
      "outputs": [
        {
          "output_type": "display_data",
          "data": {
            "text/plain": [
              "<IPython.core.display.HTML object>"
            ],
            "text/html": [
              "Tracking run with wandb version 0.19.10"
            ]
          },
          "metadata": {}
        },
        {
          "output_type": "display_data",
          "data": {
            "text/plain": [
              "<IPython.core.display.HTML object>"
            ],
            "text/html": [
              "Run data is saved locally in <code>/content/wandb/run-20250508_151846-dv10qdzq</code>"
            ]
          },
          "metadata": {}
        },
        {
          "output_type": "display_data",
          "data": {
            "text/plain": [
              "<IPython.core.display.HTML object>"
            ],
            "text/html": [
              "Syncing run <strong><a href='https://wandb.ai/guilherme-silva-096-ufrn/Heart_Disease/runs/dv10qdzq' target=\"_blank\">driven-snowflake-94</a></strong> to <a href='https://wandb.ai/guilherme-silva-096-ufrn/Heart_Disease' target=\"_blank\">Weights & Biases</a> (<a href='https://wandb.me/developer-guide' target=\"_blank\">docs</a>)<br>"
            ]
          },
          "metadata": {}
        },
        {
          "output_type": "display_data",
          "data": {
            "text/plain": [
              "<IPython.core.display.HTML object>"
            ],
            "text/html": [
              " View project at <a href='https://wandb.ai/guilherme-silva-096-ufrn/Heart_Disease' target=\"_blank\">https://wandb.ai/guilherme-silva-096-ufrn/Heart_Disease</a>"
            ]
          },
          "metadata": {}
        },
        {
          "output_type": "display_data",
          "data": {
            "text/plain": [
              "<IPython.core.display.HTML object>"
            ],
            "text/html": [
              " View run at <a href='https://wandb.ai/guilherme-silva-096-ufrn/Heart_Disease/runs/dv10qdzq' target=\"_blank\">https://wandb.ai/guilherme-silva-096-ufrn/Heart_Disease/runs/dv10qdzq</a>"
            ]
          },
          "metadata": {}
        }
      ]
    },
    {
      "cell_type": "code",
      "source": [
        "# training\n",
        "logger.warning(\"Training\")\n",
        "arch.train(NUM_EPOCHS)\n",
        "\n",
        "# predict\n",
        "logger.warning(\"Infering\")\n",
        "predict = arch.predict(X_test_scaled)\n",
        "\n",
        "# Evaluation Metrics\n",
        "logger.warning(\"Evaluation metrics\")\n",
        "fbeta = f1_score\n",
        "precision = precision\n",
        "recall = recall\n",
        "acc = accuracy\n",
        "\n",
        "logger.warning(\"Accuracy: {}\".format(acc))\n",
        "logger.warning(\"Precision: {}\".format(precision))\n",
        "logger.warning(\"Recall: {}\".format(recall))\n",
        "logger.warning(\"F1: {}\".format(fbeta))\n",
        "\n",
        "run.summary[\"Acc\"] = accuracy\n",
        "run.summary[\"Precision\"] = precision\n",
        "run.summary[\"Recall\"] = recall\n",
        "run.summary[\"F1\"] = f1_score\n"
      ],
      "metadata": {
        "id": "_GMrRpGYlEPB",
        "colab": {
          "base_uri": "https://localhost:8080/"
        },
        "outputId": "cd5e7f89-e042-4cd0-e70b-1e76bb80823b"
      },
      "execution_count": null,
      "outputs": [
        {
          "output_type": "stream",
          "name": "stderr",
          "text": [
            "WARNING:root:Training\n",
            "WARNING:root:Infering\n",
            "WARNING:root:Evaluation metrics\n",
            "WARNING:root:Accuracy: 0.7884615384615384\n",
            "WARNING:root:Precision: 0.7291666666666666\n",
            "WARNING:root:Recall: 0.7954545454545454\n",
            "WARNING:root:F1: 0.7608695652173914\n"
          ]
        }
      ]
    },
    {
      "cell_type": "code",
      "source": [
        "run.finish()"
      ],
      "metadata": {
        "id": "sm59UTm8r5X5",
        "colab": {
          "base_uri": "https://localhost:8080/",
          "height": 284
        },
        "outputId": "a27fb1b6-af29-4e1c-e663-df4540939c51"
      },
      "execution_count": null,
      "outputs": [
        {
          "output_type": "display_data",
          "data": {
            "text/plain": [
              "<IPython.core.display.HTML object>"
            ],
            "text/html": []
          },
          "metadata": {}
        },
        {
          "output_type": "display_data",
          "data": {
            "text/plain": [
              "<IPython.core.display.HTML object>"
            ],
            "text/html": [
              "<br>    <style><br>        .wandb-row {<br>            display: flex;<br>            flex-direction: row;<br>            flex-wrap: wrap;<br>            justify-content: flex-start;<br>            width: 100%;<br>        }<br>        .wandb-col {<br>            display: flex;<br>            flex-direction: column;<br>            flex-basis: 100%;<br>            flex: 1;<br>            padding: 10px;<br>        }<br>    </style><br><div class=\"wandb-row\"><div class=\"wandb-col\"><h3>Run summary:</h3><br/><table class=\"wandb\"><tr><td>Acc</td><td>0.78846</td></tr><tr><td>F1</td><td>0.76087</td></tr><tr><td>Precision</td><td>0.72917</td></tr><tr><td>Recall</td><td>0.79545</td></tr></table><br/></div></div>"
            ]
          },
          "metadata": {}
        },
        {
          "output_type": "display_data",
          "data": {
            "text/plain": [
              "<IPython.core.display.HTML object>"
            ],
            "text/html": [
              " View run <strong style=\"color:#cdcd00\">driven-snowflake-94</strong> at: <a href='https://wandb.ai/guilherme-silva-096-ufrn/Heart_Disease/runs/dv10qdzq' target=\"_blank\">https://wandb.ai/guilherme-silva-096-ufrn/Heart_Disease/runs/dv10qdzq</a><br> View project at: <a href='https://wandb.ai/guilherme-silva-096-ufrn/Heart_Disease' target=\"_blank\">https://wandb.ai/guilherme-silva-096-ufrn/Heart_Disease</a><br>Synced 5 W&B file(s), 0 media file(s), 0 artifact file(s) and 0 other file(s)"
            ]
          },
          "metadata": {}
        },
        {
          "output_type": "display_data",
          "data": {
            "text/plain": [
              "<IPython.core.display.HTML object>"
            ],
            "text/html": [
              "Find logs at: <code>./wandb/run-20250508_151846-dv10qdzq/logs</code>"
            ]
          },
          "metadata": {}
        }
      ]
    },
    {
      "cell_type": "markdown",
      "source": [
        "# **Documentação dos Resultados**\n",
        "Apresentar de forma clara os resultados obtidos,\n",
        "incluindo as métricas calculadas, alguma discussão\n",
        "sobre o que elas indicam, e possivelmente gráficos\n",
        "ou tabelas que ilustram o desempenho."
      ],
      "metadata": {
        "id": "yViy-Say-33b"
      }
    },
    {
      "cell_type": "code",
      "source": [
        "# Exibir os parâmetros do modelo treinado\n",
        "\n",
        "# Mostrar a equação de regressão logística resultante\n",
        "# Obter os pesos (coeficientes) e o viés (intercepto)\n",
        "if hasattr(model, 'linear'):\n",
        "    weights = model.linear.weight.data.cpu().numpy()[0]\n",
        "    bias = model.linear.bias.data.cpu().numpy()[0]\n",
        "\n",
        "    print(\"\\nEquação da Regressão Logística:\")\n",
        "    equation = f\"z = {bias:.4f}\"\n",
        "\n",
        "    for i, w in enumerate(weights):\n",
        "        sign = \"+\" if w >= 0 else \"\"\n",
        "        equation += f\" {sign} {w:.4f}*x{i+1}\"\n",
        "\n",
        "    print(equation)\n",
        "    print(\"\\nProbabilidade de fraude = 1 / (1 + exp(-z))\")\n",
        "\n",
        "n_disease_total = df_train['target'].sum()+df_test['target'].sum()\n",
        "n_samples_total = len(df_train)+len(df_test)\n",
        "\n",
        "# Resumo dos resultados\n",
        "print(\"\\n\" + \"=\"*50)\n",
        "print(\"RESUMO DOS RESULTADOS - PROPENSÃO A DOENÇA CARDÍACA\")\n",
        "print(\"=\"*50)\n",
        "print(\"Modelo: Regressão Logística Binária\")\n",
        "print(f\"Número de features: {input_dim}\")\n",
        "print(f\"Total de amostras: {n_samples_total}\")\n",
        "print(f\"Amostras de treino: {len(y_train)}, Amostras de teste: {len(y_test)}\")\n",
        "print(f\"Proporção de propensos: {n_disease_total/n_samples_total*100:.2f}%\")\n",
        "print(\"=\"*50)\n",
        "print(f\"Métricas com threshold padrão (0.5):\")\n",
        "print(f\"Acurácia: {accuracy:.4f}\")\n",
        "print(f\"Precisão: {precision:.4f}\")\n",
        "print(f\"Recall (Sensitividade): {recall:.4f}\")\n",
        "print(f\"Especificidade: {specif:.4f}\")\n",
        "print(f\"F1-Score: {f1_score:.4f}\")\n",
        "print(f\"AUC-ROC: {auc_score:.4f}\")\n",
        "print(\"=\"*50)\n",
        "\n",
        "# Salvar o modelo e o scaler para uso futuro\n",
        "torch.save(model.state_dict(), \"modelo_regressao_logistica.pth\")"
      ],
      "metadata": {
        "id": "AlPpxt2O-3pq",
        "colab": {
          "base_uri": "https://localhost:8080/"
        },
        "outputId": "519c3673-b4b3-4796-ee82-46051f41243e"
      },
      "execution_count": 151,
      "outputs": [
        {
          "output_type": "stream",
          "name": "stdout",
          "text": [
            "\n",
            "Equação da Regressão Logística:\n",
            "z = -0.3281  -0.0199*x1 + 0.1456*x2 + 0.2755*x3  -0.0379*x4 + 0.0887*x5  -0.1683*x6 + 0.2402*x7  -0.1581*x8  -0.5869*x9  -0.0492*x10  -0.0740*x11  -0.0298*x12  -0.1730*x13  -0.0745*x14  -0.7492*x15 + 0.0352*x16 + 0.0641*x17  -0.0813*x18  -0.0034*x19  -0.1246*x20\n",
            "\n",
            "Probabilidade de fraude = 1 / (1 + exp(-z))\n",
            "\n",
            "==================================================\n",
            "RESUMO DOS RESULTADOS - PROPENSÃO A DOENÇA CARDÍACA\n",
            "==================================================\n",
            "Modelo: Regressão Logística Binária\n",
            "Número de features: 20\n",
            "Total de amostras: 519\n",
            "Amostras de treino: 415, Amostras de teste: 104\n",
            "Proporção de propensos: 42.39%\n",
            "==================================================\n",
            "Métricas com threshold padrão (0.5):\n",
            "Acurácia: 0.7885\n",
            "Precisão: 0.7292\n",
            "Recall (Sensitividade): 0.7955\n",
            "Especificidade: 0.7833\n",
            "F1-Score: 0.7609\n",
            "AUC-ROC: 0.8523\n",
            "==================================================\n"
          ]
        }
      ]
    }
  ]
}